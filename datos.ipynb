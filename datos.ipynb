{
 "cells": [
  {
   "cell_type": "markdown",
   "metadata": {},
   "source": [
    "He añadido los siguientes Datasets con datos del INE, obtenidos del portal de datos abiertos del gobierno de España (https://datos.gob.es/es/catalogo?q=turismo+torrevieja&sort=score+desc%2C+metadata_created+desc)"
   ]
  },
  {
   "cell_type": "markdown",
   "metadata": {},
   "source": [
    "## 📊 EOAP — Encuesta de Ocupación de Apartamentos Turísticos\n",
    "\n",
    "| Variable | Descripción | Relevancia para el estudio de turismo |\n",
    "|----------|-------------|---------------------------------------|\n",
    "| `estancia_media_eoap` | Estancia media (número de noches por viajero en apartamentos turísticos) | Indica duración de las estancias en apartamentos turísticos |\n",
    "| `pernoctaciones_eoap` | Total de pernoctaciones en apartamentos turísticos | Volumen de actividad turística en apartamentos |\n",
    "| `ocupacion_plazas_eoap` | Porcentaje de ocupación de plazas en apartamentos | Mide intensidad de uso y demanda turística |\n",
    "| `ocupacion_plazas_finde_eoap` | Ocupación de plazas en fin de semana (apartamentos) | Mide demanda en picos de fin de semana |\n",
    "| `ocupacion_apartamentos_eoap` | Porcentaje de ocupación de apartamentos (unidad completa) | Tasa de ocupación de apartamentos, no solo plazas |\n",
    "| `ocupacion_apartamentos_finde_eoap` | Ocupación de apartamentos en fin de semana | Tasa de ocupación de unidades enteras en fines de semana |\n",
    "| `numero_apartamentos_eoap` | Número total de apartamentos turísticos registrados | Oferta de alojamientos turísticos en apartamentos |\n",
    "| `numero_plazas_eoap` | Número total de plazas en apartamentos turísticos | Capacidad total del sector de apartamentos |\n",
    "| `numero_establecimientos_eoap` | Número de establecimientos de apartamentos turísticos | Indicador de tamaño de la oferta y distribución territorial |\n",
    "| `viajeros_eoap` | Número de viajeros alojados en apartamentos turísticos | Demanda turística efectiva en este tipo de alojamiento |\n",
    "\n",
    "---\n",
    "\n",
    "## 🏨 EOH — Encuesta de Ocupación Hotelera\n",
    "\n",
    "| Variable | Descripción | Relevancia para el estudio de turismo |\n",
    "|----------|-------------|---------------------------------------|\n",
    "| `estancia_media_eoh` | Estancia media (número de noches por viajero en hoteles) | Indica duración de las estancias hoteleras |\n",
    "| `numero_plazas_eoh` | Número total de plazas hoteleras | Capacidad total del sector hotelero |\n",
    "| `ocupacion_plazas_eoh` | Porcentaje de ocupación de plazas hoteleras | Mide intensidad de uso y demanda turística |\n",
    "| `ocupacion_habitaciones_eoh` | Porcentaje de ocupación de habitaciones hoteleras | Mide demanda por unidad de alojamiento |\n",
    "| `ocupacion_plazas_finde_eoh` | Ocupación de plazas en fin de semana (hoteles) | Mide demanda en picos de fin de semana |\n",
    "| `numero_establecimientos_eoh` | Número de establecimientos hoteleros registrados | Indicador de tamaño y distribución de oferta hotelera |\n",
    "| `viajeros_eoh` | Número de viajeros alojados en hoteles | Demanda turística efectiva en hoteles |\n",
    "| `habitaciones_eoh` | Número total de habitaciones disponibles | Oferta de habitaciones hoteleras |\n",
    "| `personal_eoh` | Personal empleado en el sector hotelero | Indicador indirecto de tamaño económico y empleo del sector |\n",
    "\n",
    "---"
   ]
  },
  {
   "cell_type": "markdown",
   "metadata": {},
   "source": [
    "# Librerías"
   ]
  },
  {
   "cell_type": "code",
   "execution_count": 3,
   "metadata": {},
   "outputs": [],
   "source": [
    "import requests\n",
    "import pandas as pd\n",
    "import json\n",
    "from datetime import datetime, timedelta\n",
    "import time\n",
    "import os"
   ]
  },
  {
   "cell_type": "markdown",
   "metadata": {},
   "source": [
    "# Carga"
   ]
  },
  {
   "cell_type": "code",
   "execution_count": 4,
   "metadata": {},
   "outputs": [
    {
     "name": "stderr",
     "output_type": "stream",
     "text": [
      "C:\\Users\\Usuario\\AppData\\Local\\Temp\\ipykernel_19368\\4030195430.py:3: DtypeWarning: Columns (6) have mixed types. Specify dtype option on import or set low_memory=False.\n",
      "  daily = pd.read_csv(os.path.join(data_path, 'Guardamar', 'Spain-guardamar-del-segura_Daily_Match_2023-11-23.csv'))\n"
     ]
    }
   ],
   "source": [
    "data_path = os.path.join(os.getcwd(), 'data')\n",
    "\n",
    "daily = pd.read_csv(os.path.join(data_path, 'Guardamar', 'Spain-guardamar-del-segura_Daily_Match_2023-11-23.csv'))\n",
    "monthly = pd.read_csv(os.path.join(data_path, 'Guardamar', 'Spain-guardamar-del-segura_Property_Extended_Match_2023-11-23.csv'))\n",
    "extended = pd.read_csv(os.path.join(data_path, 'Guardamar', 'Spain-guardamar-del-segura_Property_Extended_Match_2023-11-23.csv'))"
   ]
  },
  {
   "cell_type": "code",
   "execution_count": 5,
   "metadata": {},
   "outputs": [
    {
     "data": {
      "text/html": [
       "<div>\n",
       "<style scoped>\n",
       "    .dataframe tbody tr th:only-of-type {\n",
       "        vertical-align: middle;\n",
       "    }\n",
       "\n",
       "    .dataframe tbody tr th {\n",
       "        vertical-align: top;\n",
       "    }\n",
       "\n",
       "    .dataframe thead th {\n",
       "        text-align: right;\n",
       "    }\n",
       "</style>\n",
       "<table border=\"1\" class=\"dataframe\">\n",
       "  <thead>\n",
       "    <tr style=\"text-align: right;\">\n",
       "      <th></th>\n",
       "      <th>Property ID</th>\n",
       "      <th>Date</th>\n",
       "      <th>Status</th>\n",
       "      <th>Booked Date</th>\n",
       "      <th>Price (USD)</th>\n",
       "      <th>Price (Native)</th>\n",
       "      <th>Currency Native</th>\n",
       "      <th>Reservation ID</th>\n",
       "      <th>Airbnb Property ID</th>\n",
       "      <th>HomeAway Property ID</th>\n",
       "    </tr>\n",
       "  </thead>\n",
       "  <tbody>\n",
       "    <tr>\n",
       "      <th>0</th>\n",
       "      <td>ab-1002668612823338646</td>\n",
       "      <td>2023-10-01</td>\n",
       "      <td>A</td>\n",
       "      <td>NaN</td>\n",
       "      <td>0.0</td>\n",
       "      <td>0.0</td>\n",
       "      <td>EUR</td>\n",
       "      <td>NaN</td>\n",
       "      <td>1.002669e+18</td>\n",
       "      <td>NaN</td>\n",
       "    </tr>\n",
       "    <tr>\n",
       "      <th>1</th>\n",
       "      <td>ab-1002668612823338646</td>\n",
       "      <td>2023-10-02</td>\n",
       "      <td>A</td>\n",
       "      <td>NaN</td>\n",
       "      <td>0.0</td>\n",
       "      <td>0.0</td>\n",
       "      <td>EUR</td>\n",
       "      <td>NaN</td>\n",
       "      <td>1.002669e+18</td>\n",
       "      <td>NaN</td>\n",
       "    </tr>\n",
       "    <tr>\n",
       "      <th>2</th>\n",
       "      <td>ab-1002668612823338646</td>\n",
       "      <td>2023-10-03</td>\n",
       "      <td>A</td>\n",
       "      <td>NaN</td>\n",
       "      <td>0.0</td>\n",
       "      <td>0.0</td>\n",
       "      <td>EUR</td>\n",
       "      <td>NaN</td>\n",
       "      <td>1.002669e+18</td>\n",
       "      <td>NaN</td>\n",
       "    </tr>\n",
       "    <tr>\n",
       "      <th>3</th>\n",
       "      <td>ab-1002668612823338646</td>\n",
       "      <td>2023-10-04</td>\n",
       "      <td>A</td>\n",
       "      <td>NaN</td>\n",
       "      <td>0.0</td>\n",
       "      <td>0.0</td>\n",
       "      <td>EUR</td>\n",
       "      <td>NaN</td>\n",
       "      <td>1.002669e+18</td>\n",
       "      <td>NaN</td>\n",
       "    </tr>\n",
       "    <tr>\n",
       "      <th>4</th>\n",
       "      <td>ab-1002668612823338646</td>\n",
       "      <td>2023-10-05</td>\n",
       "      <td>A</td>\n",
       "      <td>NaN</td>\n",
       "      <td>0.0</td>\n",
       "      <td>0.0</td>\n",
       "      <td>EUR</td>\n",
       "      <td>NaN</td>\n",
       "      <td>1.002669e+18</td>\n",
       "      <td>NaN</td>\n",
       "    </tr>\n",
       "  </tbody>\n",
       "</table>\n",
       "</div>"
      ],
      "text/plain": [
       "              Property ID        Date Status Booked Date  Price (USD)  \\\n",
       "0  ab-1002668612823338646  2023-10-01      A         NaN          0.0   \n",
       "1  ab-1002668612823338646  2023-10-02      A         NaN          0.0   \n",
       "2  ab-1002668612823338646  2023-10-03      A         NaN          0.0   \n",
       "3  ab-1002668612823338646  2023-10-04      A         NaN          0.0   \n",
       "4  ab-1002668612823338646  2023-10-05      A         NaN          0.0   \n",
       "\n",
       "   Price (Native) Currency Native  Reservation ID  Airbnb Property ID  \\\n",
       "0             0.0             EUR             NaN        1.002669e+18   \n",
       "1             0.0             EUR             NaN        1.002669e+18   \n",
       "2             0.0             EUR             NaN        1.002669e+18   \n",
       "3             0.0             EUR             NaN        1.002669e+18   \n",
       "4             0.0             EUR             NaN        1.002669e+18   \n",
       "\n",
       "  HomeAway Property ID  \n",
       "0                  NaN  \n",
       "1                  NaN  \n",
       "2                  NaN  \n",
       "3                  NaN  \n",
       "4                  NaN  "
      ]
     },
     "execution_count": 5,
     "metadata": {},
     "output_type": "execute_result"
    }
   ],
   "source": [
    "daily.head()"
   ]
  },
  {
   "cell_type": "code",
   "execution_count": 6,
   "metadata": {},
   "outputs": [
    {
     "data": {
      "text/html": [
       "<div>\n",
       "<style scoped>\n",
       "    .dataframe tbody tr th:only-of-type {\n",
       "        vertical-align: middle;\n",
       "    }\n",
       "\n",
       "    .dataframe tbody tr th {\n",
       "        vertical-align: top;\n",
       "    }\n",
       "\n",
       "    .dataframe thead th {\n",
       "        text-align: right;\n",
       "    }\n",
       "</style>\n",
       "<table border=\"1\" class=\"dataframe\">\n",
       "  <thead>\n",
       "    <tr style=\"text-align: right;\">\n",
       "      <th></th>\n",
       "      <th>Property ID</th>\n",
       "      <th>Listing Title</th>\n",
       "      <th>Property Type</th>\n",
       "      <th>Listing Type</th>\n",
       "      <th>Created Date</th>\n",
       "      <th>Last Scraped Date</th>\n",
       "      <th>Country</th>\n",
       "      <th>State</th>\n",
       "      <th>City</th>\n",
       "      <th>Zipcode</th>\n",
       "      <th>...</th>\n",
       "      <th>Integrated Property Manager</th>\n",
       "      <th>Amenities</th>\n",
       "      <th>HomeAway Location Type</th>\n",
       "      <th>Airbnb Property Plus</th>\n",
       "      <th>Airbnb Home Collection</th>\n",
       "      <th>License</th>\n",
       "      <th>Airbnb Property ID</th>\n",
       "      <th>Airbnb Host ID</th>\n",
       "      <th>HomeAway Property ID</th>\n",
       "      <th>HomeAway Property Manager ID</th>\n",
       "    </tr>\n",
       "  </thead>\n",
       "  <tbody>\n",
       "    <tr>\n",
       "      <th>0</th>\n",
       "      <td>ab-295403</td>\n",
       "      <td>A top floor apartment by the sea</td>\n",
       "      <td>Entire apartment</td>\n",
       "      <td>Entire home/apt</td>\n",
       "      <td>2011-12-24</td>\n",
       "      <td>2017-12-19</td>\n",
       "      <td>Spain</td>\n",
       "      <td>NaN</td>\n",
       "      <td>Guardamar del Segura</td>\n",
       "      <td>NaN</td>\n",
       "      <td>...</td>\n",
       "      <td>NaN</td>\n",
       "      <td>[\"kitchen\", \"tv\", \"heating\", \"ac\", \"washer\", \"...</td>\n",
       "      <td>NaN</td>\n",
       "      <td>NaN</td>\n",
       "      <td>NaN</td>\n",
       "      <td>NaN</td>\n",
       "      <td>295403.0</td>\n",
       "      <td>1524447.0</td>\n",
       "      <td>NaN</td>\n",
       "      <td>NaN</td>\n",
       "    </tr>\n",
       "    <tr>\n",
       "      <th>1</th>\n",
       "      <td>ab-484366</td>\n",
       "      <td>Beach house 300m from the sea Spain</td>\n",
       "      <td>Home</td>\n",
       "      <td>Entire home/apt</td>\n",
       "      <td>2012-05-16</td>\n",
       "      <td>2023-11-15</td>\n",
       "      <td>Spain</td>\n",
       "      <td>Alicante</td>\n",
       "      <td>Guardamar del Segura</td>\n",
       "      <td>NaN</td>\n",
       "      <td>...</td>\n",
       "      <td>NaN</td>\n",
       "      <td>[\"free_parking\", \"wireless_internet\", \"firepla...</td>\n",
       "      <td>NaN</td>\n",
       "      <td>False</td>\n",
       "      <td>NaN</td>\n",
       "      <td>NaN</td>\n",
       "      <td>484366.0</td>\n",
       "      <td>2397719.0</td>\n",
       "      <td>1204376a</td>\n",
       "      <td>NaN</td>\n",
       "    </tr>\n",
       "    <tr>\n",
       "      <th>2</th>\n",
       "      <td>ab-608855</td>\n",
       "      <td>Ven a tomar el sol al Mediterráneo</td>\n",
       "      <td>Apartment</td>\n",
       "      <td>Entire home/apt</td>\n",
       "      <td>2012-07-21</td>\n",
       "      <td>2021-02-09</td>\n",
       "      <td>Spain</td>\n",
       "      <td>Alicante</td>\n",
       "      <td>Guardamar del Segura</td>\n",
       "      <td>NaN</td>\n",
       "      <td>...</td>\n",
       "      <td>NaN</td>\n",
       "      <td>[\"elevator\", \"free_parking\", \"wireless_interne...</td>\n",
       "      <td>NaN</td>\n",
       "      <td>False</td>\n",
       "      <td>NaN</td>\n",
       "      <td>VT-460933-A</td>\n",
       "      <td>608855.0</td>\n",
       "      <td>2760935.0</td>\n",
       "      <td>NaN</td>\n",
       "      <td>NaN</td>\n",
       "    </tr>\n",
       "    <tr>\n",
       "      <th>3</th>\n",
       "      <td>ab-627895</td>\n",
       "      <td>NICE APARTMENT IN GUARDAMAR</td>\n",
       "      <td>Rental unit</td>\n",
       "      <td>Entire home/apt</td>\n",
       "      <td>2012-07-30</td>\n",
       "      <td>2023-01-16</td>\n",
       "      <td>Spain</td>\n",
       "      <td>Alicante</td>\n",
       "      <td>Guardamar del Segura</td>\n",
       "      <td>NaN</td>\n",
       "      <td>...</td>\n",
       "      <td>NaN</td>\n",
       "      <td>[\"elevator\", \"kitchen\", \"hangers\", \"iron\", \"wa...</td>\n",
       "      <td>NaN</td>\n",
       "      <td>False</td>\n",
       "      <td>NaN</td>\n",
       "      <td>NaN</td>\n",
       "      <td>627895.0</td>\n",
       "      <td>3086177.0</td>\n",
       "      <td>NaN</td>\n",
       "      <td>NaN</td>\n",
       "    </tr>\n",
       "    <tr>\n",
       "      <th>4</th>\n",
       "      <td>ab-719745</td>\n",
       "      <td>Holiday House for rent 150m from Alicante beach</td>\n",
       "      <td>Chalet</td>\n",
       "      <td>Entire home/apt</td>\n",
       "      <td>2012-09-29</td>\n",
       "      <td>2023-11-19</td>\n",
       "      <td>Spain</td>\n",
       "      <td>Alicante</td>\n",
       "      <td>Guardamar del Segura</td>\n",
       "      <td>NaN</td>\n",
       "      <td>...</td>\n",
       "      <td>NaN</td>\n",
       "      <td>[\"fireplace\", \"kitchen\", \"ac\", \"heating\", \"hai...</td>\n",
       "      <td>NaN</td>\n",
       "      <td>False</td>\n",
       "      <td>NaN</td>\n",
       "      <td>NaN</td>\n",
       "      <td>719745.0</td>\n",
       "      <td>2397719.0</td>\n",
       "      <td>NaN</td>\n",
       "      <td>NaN</td>\n",
       "    </tr>\n",
       "  </tbody>\n",
       "</table>\n",
       "<p>5 rows × 70 columns</p>\n",
       "</div>"
      ],
      "text/plain": [
       "  Property ID                                    Listing Title  \\\n",
       "0   ab-295403                 A top floor apartment by the sea   \n",
       "1   ab-484366              Beach house 300m from the sea Spain   \n",
       "2   ab-608855               Ven a tomar el sol al Mediterráneo   \n",
       "3   ab-627895                      NICE APARTMENT IN GUARDAMAR   \n",
       "4   ab-719745  Holiday House for rent 150m from Alicante beach   \n",
       "\n",
       "      Property Type     Listing Type Created Date Last Scraped Date Country  \\\n",
       "0  Entire apartment  Entire home/apt   2011-12-24        2017-12-19   Spain   \n",
       "1              Home  Entire home/apt   2012-05-16        2023-11-15   Spain   \n",
       "2         Apartment  Entire home/apt   2012-07-21        2021-02-09   Spain   \n",
       "3       Rental unit  Entire home/apt   2012-07-30        2023-01-16   Spain   \n",
       "4            Chalet  Entire home/apt   2012-09-29        2023-11-19   Spain   \n",
       "\n",
       "      State                  City  Zipcode  ...  Integrated Property Manager  \\\n",
       "0       NaN  Guardamar del Segura      NaN  ...                          NaN   \n",
       "1  Alicante  Guardamar del Segura      NaN  ...                          NaN   \n",
       "2  Alicante  Guardamar del Segura      NaN  ...                          NaN   \n",
       "3  Alicante  Guardamar del Segura      NaN  ...                          NaN   \n",
       "4  Alicante  Guardamar del Segura      NaN  ...                          NaN   \n",
       "\n",
       "                                           Amenities HomeAway Location Type  \\\n",
       "0  [\"kitchen\", \"tv\", \"heating\", \"ac\", \"washer\", \"...                    NaN   \n",
       "1  [\"free_parking\", \"wireless_internet\", \"firepla...                    NaN   \n",
       "2  [\"elevator\", \"free_parking\", \"wireless_interne...                    NaN   \n",
       "3  [\"elevator\", \"kitchen\", \"hangers\", \"iron\", \"wa...                    NaN   \n",
       "4  [\"fireplace\", \"kitchen\", \"ac\", \"heating\", \"hai...                    NaN   \n",
       "\n",
       "   Airbnb Property Plus  Airbnb Home Collection      License  \\\n",
       "0                   NaN                     NaN          NaN   \n",
       "1                 False                     NaN          NaN   \n",
       "2                 False                     NaN  VT-460933-A   \n",
       "3                 False                     NaN          NaN   \n",
       "4                 False                     NaN          NaN   \n",
       "\n",
       "   Airbnb Property ID  Airbnb Host ID  HomeAway Property ID  \\\n",
       "0            295403.0       1524447.0                   NaN   \n",
       "1            484366.0       2397719.0              1204376a   \n",
       "2            608855.0       2760935.0                   NaN   \n",
       "3            627895.0       3086177.0                   NaN   \n",
       "4            719745.0       2397719.0                   NaN   \n",
       "\n",
       "   HomeAway Property Manager ID  \n",
       "0                           NaN  \n",
       "1                           NaN  \n",
       "2                           NaN  \n",
       "3                           NaN  \n",
       "4                           NaN  \n",
       "\n",
       "[5 rows x 70 columns]"
      ]
     },
     "execution_count": 6,
     "metadata": {},
     "output_type": "execute_result"
    }
   ],
   "source": [
    "monthly.head()\n"
   ]
  },
  {
   "cell_type": "code",
   "execution_count": 7,
   "metadata": {},
   "outputs": [
    {
     "data": {
      "text/plain": [
       "Index(['Property ID', 'Listing Title', 'Property Type', 'Listing Type',\n",
       "       'Created Date', 'Last Scraped Date', 'Country', 'State', 'City',\n",
       "       'Zipcode', 'Neighborhood', 'Metropolitan Statistical Area',\n",
       "       'Currency Native', 'Average Daily Rate (USD)',\n",
       "       'Average Daily Rate (Native)', 'Annual Revenue LTM (USD)',\n",
       "       'Annual Revenue LTM (Native)', 'Occupancy Rate LTM',\n",
       "       'Number of Bookings LTM', 'Number of Reviews', 'Bedrooms', 'Bathrooms',\n",
       "       'Max Guests', 'Calendar Last Updated', 'Response Rate',\n",
       "       'Airbnb Response Time (Text)', 'Airbnb Superhost',\n",
       "       'HomeAway Premier Partner', 'Cancellation Policy',\n",
       "       'Security Deposit (USD)', 'Security Deposit (Native)',\n",
       "       'Cleaning Fee (USD)', 'Cleaning Fee (Native)', 'Extra People Fee (USD)',\n",
       "       'Extra People Fee (Native)', 'Published Nightly Rate (USD)',\n",
       "       'Published Monthly Rate (USD)', 'Published Weekly Rate (USD)',\n",
       "       'Check-in Time', 'Checkout Time', 'Minimum Stay',\n",
       "       'Count Reservation Days LTM', 'Count Available Days LTM',\n",
       "       'Count Blocked Days LTM', 'Number of Photos', 'Instantbook Enabled',\n",
       "       'Listing URL', 'Listing Main Image URL', 'Listing Images', 'Latitude',\n",
       "       'Longitude', 'Exact Location', 'Overall Rating',\n",
       "       'Airbnb Communication Rating', 'Airbnb Accuracy Rating',\n",
       "       'Airbnb Cleanliness Rating', 'Airbnb Checkin Rating',\n",
       "       'Airbnb Location Rating', 'Airbnb Value Rating', 'Pets Allowed',\n",
       "       'Integrated Property Manager', 'Amenities', 'HomeAway Location Type',\n",
       "       'Airbnb Property Plus', 'Airbnb Home Collection', 'License',\n",
       "       'Airbnb Property ID', 'Airbnb Host ID', 'HomeAway Property ID',\n",
       "       'HomeAway Property Manager ID'],\n",
       "      dtype='object')"
      ]
     },
     "execution_count": 7,
     "metadata": {},
     "output_type": "execute_result"
    }
   ],
   "source": [
    "monthly.columns"
   ]
  },
  {
   "cell_type": "code",
   "execution_count": 8,
   "metadata": {},
   "outputs": [
    {
     "name": "stdout",
     "output_type": "stream",
     "text": [
      "0\n",
      "0\n"
     ]
    }
   ],
   "source": [
    "print(monthly['Latitude'].isna().sum())\n",
    "print(monthly['Longitude'].isna().sum())"
   ]
  },
  {
   "cell_type": "markdown",
   "metadata": {},
   "source": [
    "# EDA"
   ]
  },
  {
   "cell_type": "code",
   "execution_count": 9,
   "metadata": {},
   "outputs": [
    {
     "name": "stdout",
     "output_type": "stream",
     "text": [
      "2016-06-01\n",
      "2023-10-31\n"
     ]
    }
   ],
   "source": [
    "print(min(daily['Date']))\n",
    "print(max(daily['Date']))"
   ]
  },
  {
   "cell_type": "markdown",
   "metadata": {},
   "source": [
    "# Datos generales"
   ]
  },
  {
   "cell_type": "code",
   "execution_count": 10,
   "metadata": {},
   "outputs": [],
   "source": [
    "datos = os.path.join(os.getcwd(), 'datos_generales')"
   ]
  },
  {
   "cell_type": "markdown",
   "metadata": {},
   "source": [
    "# Encuesta de Ocupación en Apartamentos Turísticos (EOAP)"
   ]
  },
  {
   "cell_type": "markdown",
   "metadata": {},
   "source": [
    "## Estancia media\n",
    "\n",
    "Tabla de INEbase Estancia media de los viajeros por puntos turísticos y meses. Nacional. Encuesta de Ocupación en Apartamentos Turísticos\n",
    "\n"
   ]
  },
  {
   "cell_type": "code",
   "execution_count": 11,
   "metadata": {},
   "outputs": [
    {
     "name": "stdout",
     "output_type": "stream",
     "text": [
      "    Puntos turísticos       Meses  Total\n",
      "156  03133 TORREVIEJA       Total  11,47\n",
      "157  03133 TORREVIEJA       Enero  13,34\n",
      "158  03133 TORREVIEJA     Febrero  12,89\n",
      "159  03133 TORREVIEJA       Marzo  14,94\n",
      "160  03133 TORREVIEJA       Abril  13,77\n",
      "161  03133 TORREVIEJA        Mayo   12,3\n",
      "162  03133 TORREVIEJA       Junio    7,7\n",
      "163  03133 TORREVIEJA       Julio  10,61\n",
      "164  03133 TORREVIEJA      Agosto  10,24\n",
      "165  03133 TORREVIEJA  Septiembre    9,2\n",
      "166  03133 TORREVIEJA     Octubre  16,15\n",
      "167  03133 TORREVIEJA   Noviembre  23,93\n",
      "168  03133 TORREVIEJA   Diciembre  16,27\n"
     ]
    }
   ],
   "source": [
    "estancia_media_eoap = pd.read_csv(os.path.join(datos, '60029.csv'), delimiter=';')\n",
    "filtro = estancia_media_eoap['Puntos turísticos'] == \"03133 TORREVIEJA\"\n",
    "\n",
    "estancia_media_eoap = estancia_media_eoap[filtro]\n",
    "\n",
    "print(estancia_media_eoap)"
   ]
  },
  {
   "cell_type": "markdown",
   "metadata": {},
   "source": [
    "## Pernoctaciones\n",
    "\n",
    "Tabla de INEbase Pernoctaciones de los viajeros entrados por puntos turísticos y meses. Nacional. Encuesta de Ocupación en Apartamentos Turísticos"
   ]
  },
  {
   "cell_type": "code",
   "execution_count": 12,
   "metadata": {},
   "outputs": [
    {
     "name": "stdout",
     "output_type": "stream",
     "text": [
      "    Puntos turísticos       Meses    Total\n",
      "156  03133 TORREVIEJA       Total  454.722\n",
      "157  03133 TORREVIEJA       Enero   10.239\n",
      "158  03133 TORREVIEJA     Febrero   12.712\n",
      "159  03133 TORREVIEJA       Marzo   16.709\n",
      "160  03133 TORREVIEJA       Abril   35.913\n",
      "161  03133 TORREVIEJA        Mayo   33.494\n",
      "162  03133 TORREVIEJA       Junio   59.921\n",
      "163  03133 TORREVIEJA       Julio   67.282\n",
      "164  03133 TORREVIEJA      Agosto   80.672\n",
      "165  03133 TORREVIEJA  Septiembre   33.914\n",
      "166  03133 TORREVIEJA     Octubre   39.777\n",
      "167  03133 TORREVIEJA   Noviembre   33.503\n",
      "168  03133 TORREVIEJA   Diciembre   30.586\n"
     ]
    }
   ],
   "source": [
    "pernoctaciones_eoap = pd.read_csv(os.path.join(datos, '60027.csv'), delimiter=';')\n",
    "filtro = pernoctaciones_eoap['Puntos turísticos'] == \"03133 TORREVIEJA\"\n",
    "\n",
    "pernoctaciones_eoap = pernoctaciones_eoap[filtro]\n",
    "\n",
    "print(pernoctaciones_eoap)"
   ]
  },
  {
   "cell_type": "markdown",
   "metadata": {},
   "source": [
    "## Grado ocupación\n",
    "\n",
    "Tabla de INEbase Grado de ocupación por plazas por puntos turísticos y meses. Nacional. Encuesta de Ocupación en Apartamentos Turísticos"
   ]
  },
  {
   "cell_type": "code",
   "execution_count": 13,
   "metadata": {},
   "outputs": [
    {
     "name": "stdout",
     "output_type": "stream",
     "text": [
      "    Puntos turísticos       Meses  Total\n",
      "156  03133 TORREVIEJA       Total  14,22\n",
      "157  03133 TORREVIEJA       Enero    7,2\n",
      "158  03133 TORREVIEJA     Febrero   9,89\n",
      "159  03133 TORREVIEJA       Marzo  11,22\n",
      "160  03133 TORREVIEJA       Abril   9,11\n",
      "161  03133 TORREVIEJA        Mayo   8,04\n",
      "162  03133 TORREVIEJA       Junio  14,16\n",
      "163  03133 TORREVIEJA       Julio  25,91\n",
      "164  03133 TORREVIEJA      Agosto  28,53\n",
      "165  03133 TORREVIEJA  Septiembre  14,61\n",
      "166  03133 TORREVIEJA     Octubre  17,96\n",
      "167  03133 TORREVIEJA   Noviembre  17,01\n",
      "168  03133 TORREVIEJA   Diciembre  14,66\n"
     ]
    }
   ],
   "source": [
    "ocupacion_plazas_eoap = pd.read_csv(os.path.join(datos, '60020.csv'), delimiter=';')\n",
    "filtro = ocupacion_plazas_eoap['Puntos turísticos'] == \"03133 TORREVIEJA\"\n",
    "\n",
    "ocupacion_plazas_eoap = ocupacion_plazas_eoap[filtro]\n",
    "\n",
    "print(ocupacion_plazas_eoap)"
   ]
  },
  {
   "cell_type": "markdown",
   "metadata": {},
   "source": [
    "## Grado de ocupación por plazas en fin de semana\n",
    "\n",
    "Tabla de INEbase Grado de ocupación por plazas en fin de semana por puntos turísticos y meses. Nacional. Encuesta de Ocupación en Apartamentos Turísticos"
   ]
  },
  {
   "cell_type": "code",
   "execution_count": 14,
   "metadata": {},
   "outputs": [
    {
     "name": "stdout",
     "output_type": "stream",
     "text": [
      "    Puntos turísticos       Meses  Total\n",
      "156  03133 TORREVIEJA       Total  13,74\n",
      "157  03133 TORREVIEJA       Enero   7,44\n",
      "158  03133 TORREVIEJA     Febrero   9,75\n",
      "159  03133 TORREVIEJA       Marzo  11,99\n",
      "160  03133 TORREVIEJA       Abril   8,99\n",
      "161  03133 TORREVIEJA        Mayo   8,62\n",
      "162  03133 TORREVIEJA       Junio  10,99\n",
      "163  03133 TORREVIEJA       Julio  23,85\n",
      "164  03133 TORREVIEJA      Agosto  30,91\n",
      "165  03133 TORREVIEJA  Septiembre  13,05\n",
      "166  03133 TORREVIEJA     Octubre  17,76\n",
      "167  03133 TORREVIEJA   Noviembre   17,1\n",
      "168  03133 TORREVIEJA   Diciembre  14,05\n"
     ]
    }
   ],
   "source": [
    "ocupacion_plazas_finde_eoap = pd.read_csv(os.path.join(datos, '60021.csv'), delimiter=';')\n",
    "filtro = ocupacion_plazas_finde_eoap['Puntos turísticos'] == \"03133 TORREVIEJA\"\n",
    "\n",
    "ocupacion_plazas_finde_eoap = ocupacion_plazas_finde_eoap[filtro]\n",
    "\n",
    "print(ocupacion_plazas_finde_eoap)"
   ]
  },
  {
   "cell_type": "markdown",
   "metadata": {},
   "source": [
    "## Grado de ocupación por apartamentos\n",
    "\n",
    "Tabla de INEbase Grado de ocupación por apartamentos por puntos turísticos y meses. Nacional. Encuesta de Ocupación en Apartamentos Turísticos"
   ]
  },
  {
   "cell_type": "code",
   "execution_count": 15,
   "metadata": {},
   "outputs": [
    {
     "name": "stdout",
     "output_type": "stream",
     "text": [
      "    Puntos turísticos       Meses  Total\n",
      "156  03133 TORREVIEJA       Total  18,63\n",
      "157  03133 TORREVIEJA       Enero  15,15\n",
      "158  03133 TORREVIEJA     Febrero  18,07\n",
      "159  03133 TORREVIEJA       Marzo  22,89\n",
      "160  03133 TORREVIEJA       Abril  14,47\n",
      "161  03133 TORREVIEJA        Mayo  11,56\n",
      "162  03133 TORREVIEJA       Junio  16,23\n",
      "163  03133 TORREVIEJA       Julio  26,02\n",
      "164  03133 TORREVIEJA      Agosto  27,37\n",
      "165  03133 TORREVIEJA  Septiembre  17,41\n",
      "166  03133 TORREVIEJA     Octubre  29,35\n",
      "167  03133 TORREVIEJA   Noviembre  29,93\n",
      "168  03133 TORREVIEJA   Diciembre  24,82\n"
     ]
    }
   ],
   "source": [
    "ocupacion_apartamentos_eoap = pd.read_csv(os.path.join(datos, '60022.csv'), delimiter=';')\n",
    "filtro = ocupacion_apartamentos_eoap['Puntos turísticos'] == \"03133 TORREVIEJA\"\n",
    "\n",
    "ocupacion_apartamentos_eoap = ocupacion_apartamentos_eoap[filtro]\n",
    "\n",
    "print(ocupacion_apartamentos_eoap)"
   ]
  },
  {
   "cell_type": "markdown",
   "metadata": {},
   "source": [
    "## Grado de ocupación por apartamentos en fin de semana\n",
    "\n",
    "Tabla de INEbase Grado de ocupación por apartamentos en fin de semana por puntos turísticos y meses. Nacional. Encuesta de Ocupación en Apartamentos Turísticos"
   ]
  },
  {
   "cell_type": "code",
   "execution_count": 16,
   "metadata": {},
   "outputs": [
    {
     "name": "stdout",
     "output_type": "stream",
     "text": [
      "    Puntos turísticos       Meses  Total\n",
      "156  03133 TORREVIEJA       Total  18,12\n",
      "157  03133 TORREVIEJA       Enero  16,43\n",
      "158  03133 TORREVIEJA     Febrero  17,91\n",
      "159  03133 TORREVIEJA       Marzo  23,16\n",
      "160  03133 TORREVIEJA       Abril  14,14\n",
      "161  03133 TORREVIEJA        Mayo  12,27\n",
      "162  03133 TORREVIEJA       Junio  13,02\n",
      "163  03133 TORREVIEJA       Julio  24,32\n",
      "164  03133 TORREVIEJA      Agosto  29,44\n",
      "165  03133 TORREVIEJA  Septiembre  15,87\n",
      "166  03133 TORREVIEJA     Octubre  30,16\n",
      "167  03133 TORREVIEJA   Noviembre  29,98\n",
      "168  03133 TORREVIEJA   Diciembre  23,52\n"
     ]
    }
   ],
   "source": [
    "ocupacion_apartamentos_finde_eoap = pd.read_csv(os.path.join(datos, '60023.csv'), delimiter=';')\n",
    "filtro = ocupacion_apartamentos_finde_eoap['Puntos turísticos'] == \"03133 TORREVIEJA\"\n",
    "\n",
    "ocupacion_apartamentos_finde_eoap = ocupacion_apartamentos_finde_eoap[filtro]\n",
    "\n",
    "print(ocupacion_apartamentos_finde_eoap)"
   ]
  },
  {
   "cell_type": "markdown",
   "metadata": {},
   "source": [
    "## Número de apartamentos\n",
    "\n",
    "Tabla de INEbase Número de apartamentos estimados por puntos turísticos y meses. Nacional. Encuesta de Ocupación en Apartamentos Turísticos"
   ]
  },
  {
   "cell_type": "code",
   "execution_count": 17,
   "metadata": {},
   "outputs": [
    {
     "name": "stdout",
     "output_type": "stream",
     "text": [
      "    Puntos turísticos       Meses  Total\n",
      "144  03133 TORREVIEJA       Enero  1.058\n",
      "145  03133 TORREVIEJA     Febrero  1.057\n",
      "146  03133 TORREVIEJA       Marzo  1.123\n",
      "147  03133 TORREVIEJA       Abril  3.527\n",
      "148  03133 TORREVIEJA        Mayo  3.624\n",
      "149  03133 TORREVIEJA       Junio  3.833\n",
      "150  03133 TORREVIEJA       Julio  2.188\n",
      "151  03133 TORREVIEJA      Agosto  2.142\n",
      "152  03133 TORREVIEJA  Septiembre  1.800\n",
      "153  03133 TORREVIEJA     Octubre  1.668\n",
      "154  03133 TORREVIEJA   Noviembre  1.518\n",
      "155  03133 TORREVIEJA   Diciembre  1.554\n"
     ]
    }
   ],
   "source": [
    "numero_apartamentos_eoap = pd.read_csv(os.path.join(datos, '60019.csv'), delimiter=';')\n",
    "filtro = numero_apartamentos_eoap['Puntos turísticos'] == \"03133 TORREVIEJA\"\n",
    "\n",
    "numero_apartamentos_eoap = numero_apartamentos_eoap[filtro]\n",
    "\n",
    "print(numero_apartamentos_eoap)"
   ]
  },
  {
   "cell_type": "markdown",
   "metadata": {},
   "source": [
    "## Número de plazas\n",
    "\n",
    "Tabla de INEbase Número de plazas estimadas por puntos turísticos y meses. Nacional. Encuesta de Ocupación en Apartamentos Turísticos\n",
    "\n"
   ]
  },
  {
   "cell_type": "code",
   "execution_count": 18,
   "metadata": {},
   "outputs": [
    {
     "name": "stdout",
     "output_type": "stream",
     "text": [
      "    Puntos turísticos       Meses   Total\n",
      "144  03133 TORREVIEJA       Enero   4.589\n",
      "145  03133 TORREVIEJA     Febrero   4.589\n",
      "146  03133 TORREVIEJA       Marzo   4.802\n",
      "147  03133 TORREVIEJA       Abril  13.140\n",
      "148  03133 TORREVIEJA        Mayo  13.439\n",
      "149  03133 TORREVIEJA       Junio  14.102\n",
      "150  03133 TORREVIEJA       Julio   8.377\n",
      "151  03133 TORREVIEJA      Agosto   9.117\n",
      "152  03133 TORREVIEJA  Septiembre   7.740\n",
      "153  03133 TORREVIEJA     Octubre   7.143\n",
      "154  03133 TORREVIEJA   Noviembre   6.564\n",
      "155  03133 TORREVIEJA   Diciembre   6.730\n"
     ]
    }
   ],
   "source": [
    "numero_plazas_eoap = pd.read_csv(os.path.join(datos, '60018.csv'), delimiter=';')\n",
    "filtro = numero_plazas_eoap['Puntos turísticos'] == \"03133 TORREVIEJA\"\n",
    "\n",
    "numero_plazas_eoap = numero_plazas_eoap[filtro]\n",
    "\n",
    "print(numero_plazas_eoap)"
   ]
  },
  {
   "cell_type": "markdown",
   "metadata": {},
   "source": [
    "## Número establecimientos apartamentos\n",
    "\n",
    "Tabla de INEbase Número de establecimientos/empresas estimadas por puntos turísticos y meses. Nacional. Encuesta de Ocupación en Apartamentos Turísticos\n",
    "\n"
   ]
  },
  {
   "cell_type": "code",
   "execution_count": 19,
   "metadata": {},
   "outputs": [
    {
     "name": "stdout",
     "output_type": "stream",
     "text": [
      "    Puntos turísticos       Meses Total\n",
      "144  03133 TORREVIEJA       Enero    22\n",
      "145  03133 TORREVIEJA     Febrero    22\n",
      "146  03133 TORREVIEJA       Marzo    27\n",
      "147  03133 TORREVIEJA       Abril    38\n",
      "148  03133 TORREVIEJA        Mayo    38\n",
      "149  03133 TORREVIEJA       Junio    39\n",
      "150  03133 TORREVIEJA       Julio    40\n",
      "151  03133 TORREVIEJA      Agosto    46\n",
      "152  03133 TORREVIEJA  Septiembre    45\n",
      "153  03133 TORREVIEJA     Octubre    39\n",
      "154  03133 TORREVIEJA   Noviembre    36\n",
      "155  03133 TORREVIEJA   Diciembre    37\n"
     ]
    }
   ],
   "source": [
    "numero_establecimientos_eoap = pd.read_csv(os.path.join(datos, '60017.csv'), delimiter=';')\n",
    "filtro = numero_establecimientos_eoap['Puntos turísticos'] == \"03133 TORREVIEJA\"\n",
    "\n",
    "numero_establecimientos_eoap = numero_establecimientos_eoap[filtro]\n",
    "\n",
    "print(numero_establecimientos_eoap)"
   ]
  },
  {
   "cell_type": "markdown",
   "metadata": {},
   "source": [
    "## Viajeros\n",
    "\n",
    "Tabla de INEbase Viajeros entrados por puntos turísticos y meses. Nacional. Encuesta de Ocupación en Apartamentos Turísticos"
   ]
  },
  {
   "cell_type": "code",
   "execution_count": 20,
   "metadata": {},
   "outputs": [
    {
     "name": "stdout",
     "output_type": "stream",
     "text": [
      "    Puntos turísticos       Meses   Total\n",
      "156  03133 TORREVIEJA       Total  39.634\n",
      "157  03133 TORREVIEJA       Enero     767\n",
      "158  03133 TORREVIEJA     Febrero     986\n",
      "159  03133 TORREVIEJA       Marzo   1.118\n",
      "160  03133 TORREVIEJA       Abril   2.608\n",
      "161  03133 TORREVIEJA        Mayo   2.723\n",
      "162  03133 TORREVIEJA       Junio   7.780\n",
      "163  03133 TORREVIEJA       Julio   6.342\n",
      "164  03133 TORREVIEJA      Agosto   7.879\n",
      "165  03133 TORREVIEJA  Septiembre   3.687\n",
      "166  03133 TORREVIEJA     Octubre   2.464\n",
      "167  03133 TORREVIEJA   Noviembre   1.400\n",
      "168  03133 TORREVIEJA   Diciembre   1.880\n"
     ]
    }
   ],
   "source": [
    "viajeros_eaop = pd.read_csv(os.path.join(datos, '60025.csv'), delimiter=';')\n",
    "filtro = viajeros_eaop['Puntos turísticos'] == \"03133 TORREVIEJA\"\n",
    "\n",
    "viajeros_eaop = viajeros_eaop[filtro]\n",
    "\n",
    "print(viajeros_eaop)"
   ]
  },
  {
   "cell_type": "markdown",
   "metadata": {},
   "source": [
    "## Pernoctaciones viajeros\n",
    "\n",
    "Tabla de INEbase Pernoctaciones de los viajeros por puntos turísticos y país de residencia. Nacional. Encuesta de Ocupación en Apartamentos Turísticos"
   ]
  },
  {
   "cell_type": "code",
   "execution_count": 21,
   "metadata": {},
   "outputs": [
    {
     "name": "stdout",
     "output_type": "stream",
     "text": [
      "    Puntos turísticos            País de residencia    Total\n",
      "192  03133 TORREVIEJA                         Total  454.722\n",
      "193  03133 TORREVIEJA                     Españoles   52.426\n",
      "194  03133 TORREVIEJA                   Extranjeros  402.296\n",
      "195  03133 TORREVIEJA  Unión Europea27 (sin España)  300.815\n",
      "196  03133 TORREVIEJA                      Alemania   14.118\n",
      "197  03133 TORREVIEJA                       Bélgica    9.061\n",
      "198  03133 TORREVIEJA                     Dinamarca   10.653\n",
      "199  03133 TORREVIEJA                     Finlandia  149.864\n",
      "200  03133 TORREVIEJA                       Francia   38.734\n",
      "201  03133 TORREVIEJA                       Irlanda    6.237\n",
      "202  03133 TORREVIEJA                        Italia    3.698\n",
      "203  03133 TORREVIEJA                  Países Bajos   12.001\n",
      "204  03133 TORREVIEJA                        Suecia   37.753\n",
      "205  03133 TORREVIEJA                       Noruega   30.409\n",
      "206  03133 TORREVIEJA                   Reino Unido   34.184\n",
      "207  03133 TORREVIEJA                         Suiza    4.013\n"
     ]
    }
   ],
   "source": [
    "pernoctaciones_viajeros_pais_eoap = pd.read_csv(os.path.join(datos, '60028.csv'), delimiter=';')\n",
    "filtro = pernoctaciones_viajeros_pais_eoap['Puntos turísticos'] == \"03133 TORREVIEJA\"\n",
    "\n",
    "pernoctaciones_viajeros_pais_eoap = pernoctaciones_viajeros_pais_eoap[filtro]\n",
    "\n",
    "print(pernoctaciones_viajeros_pais_eoap)"
   ]
  },
  {
   "cell_type": "markdown",
   "metadata": {},
   "source": [
    "## Viajeros país\n",
    "\n",
    "Tabla de INEbase Viajeros entrados por puntos turísticos y país de residencia. Nacional. Encuesta de Ocupación en Apartamentos Turísticos"
   ]
  },
  {
   "cell_type": "code",
   "execution_count": 22,
   "metadata": {},
   "outputs": [
    {
     "name": "stdout",
     "output_type": "stream",
     "text": [
      "    Puntos turísticos            País de residencia   Total\n",
      "192  03133 TORREVIEJA                         Total  39.634\n",
      "193  03133 TORREVIEJA                     Españoles   6.911\n",
      "194  03133 TORREVIEJA                   Extranjeros  32.723\n",
      "195  03133 TORREVIEJA  Unión Europea27 (sin España)  20.278\n",
      "196  03133 TORREVIEJA                      Alemania   1.291\n",
      "197  03133 TORREVIEJA                       Bélgica   1.165\n",
      "198  03133 TORREVIEJA                     Dinamarca   1.053\n",
      "199  03133 TORREVIEJA                     Finlandia   6.392\n",
      "200  03133 TORREVIEJA                       Francia   2.698\n",
      "201  03133 TORREVIEJA                       Irlanda     760\n",
      "202  03133 TORREVIEJA                        Italia     344\n",
      "203  03133 TORREVIEJA                  Países Bajos   1.429\n",
      "204  03133 TORREVIEJA                        Suecia   2.809\n",
      "205  03133 TORREVIEJA                       Noruega   3.277\n",
      "206  03133 TORREVIEJA                   Reino Unido   5.151\n",
      "207  03133 TORREVIEJA                         Suiza     442\n"
     ]
    }
   ],
   "source": [
    "viajeros_pais_eoap = pd.read_csv(os.path.join(datos, '60026.csv'), delimiter=';')\n",
    "filtro = viajeros_pais_eoap['Puntos turísticos'] == \"03133 TORREVIEJA\"\n",
    "\n",
    "viajeros_pais_eoap = viajeros_pais_eoap[filtro]\n",
    "\n",
    "print(viajeros_pais_eoap)"
   ]
  },
  {
   "cell_type": "markdown",
   "metadata": {},
   "source": [
    " #  <span style=\"color:red\"> Encuesta de Ocupación Hotelera (EOH) </span>"
   ]
  },
  {
   "cell_type": "markdown",
   "metadata": {},
   "source": [
    "## Estancia media hotel\n",
    "\n",
    "Tabla de INEbase Estancia media de los viajeros por puntos turísticos y meses. Nacional. Encuesta de Ocupación Hotelera"
   ]
  },
  {
   "cell_type": "code",
   "execution_count": 23,
   "metadata": {},
   "outputs": [
    {
     "name": "stdout",
     "output_type": "stream",
     "text": [
      "    Puntos turísticos       Meses Total\n",
      "117  03133 TORREVIEJA       Total  3,42\n",
      "118  03133 TORREVIEJA       Enero    ..\n",
      "119  03133 TORREVIEJA     Febrero    ..\n",
      "120  03133 TORREVIEJA       Marzo    ..\n",
      "121  03133 TORREVIEJA       Abril    ..\n",
      "122  03133 TORREVIEJA        Mayo    ..\n",
      "123  03133 TORREVIEJA       Junio  2,83\n",
      "124  03133 TORREVIEJA       Julio  3,65\n",
      "125  03133 TORREVIEJA      Agosto  4,08\n",
      "126  03133 TORREVIEJA  Septiembre  3,75\n",
      "127  03133 TORREVIEJA     Octubre  3,35\n",
      "128  03133 TORREVIEJA   Noviembre  3,74\n",
      "129  03133 TORREVIEJA   Diciembre    ..\n"
     ]
    }
   ],
   "source": [
    "estancia_media_eoh = pd.read_csv(os.path.join(datos, '59879.csv'), delimiter=';')\n",
    "filtro = estancia_media_eoh['Puntos turísticos'] == \"03133 TORREVIEJA\"\n",
    "\n",
    "estancia_media_eoh = estancia_media_eoh[filtro]\n",
    "\n",
    "print(estancia_media_eoh)"
   ]
  },
  {
   "cell_type": "markdown",
   "metadata": {},
   "source": [
    "## Estancia media hotel residencia\n",
    "\n",
    "Tabla de INEbase Estancia media de los viajeros por puntos turísticos y residencia. Nacional. Encuesta de Ocupación Hotelera"
   ]
  },
  {
   "cell_type": "code",
   "execution_count": 24,
   "metadata": {},
   "outputs": [
    {
     "name": "stdout",
     "output_type": "stream",
     "text": [
      "   Puntos turísticos               Residencia Total\n",
      "27  03133 TORREVIEJA                    Total  3,42\n",
      "28  03133 TORREVIEJA     Residentes en España   3,1\n",
      "29  03133 TORREVIEJA  No residentes en España  3,85\n"
     ]
    }
   ],
   "source": [
    "estancia_media_residencia_eoh = pd.read_csv(os.path.join(datos, '59880.csv'), delimiter=';')\n",
    "filtro = estancia_media_residencia_eoh['Puntos turísticos'] == \"03133 TORREVIEJA\"\n",
    "\n",
    "estancia_media_residencia_eoh = estancia_media_residencia_eoh[filtro]\n",
    "\n",
    "print(estancia_media_residencia_eoh)"
   ]
  },
  {
   "cell_type": "markdown",
   "metadata": {},
   "source": [
    "## Número de plazas\n",
    "\n",
    "Tabla de INEbase Plazas estimadas por puntos turísticos y meses. Nacional. Encuesta de Ocupación Hotelera\n",
    "\n"
   ]
  },
  {
   "cell_type": "code",
   "execution_count": 25,
   "metadata": {},
   "outputs": [
    {
     "name": "stdout",
     "output_type": "stream",
     "text": [
      "    Puntos turísticos       Meses  Total\n",
      "108  03133 TORREVIEJA       Enero     ..\n",
      "109  03133 TORREVIEJA     Febrero     ..\n",
      "110  03133 TORREVIEJA       Marzo     ..\n",
      "111  03133 TORREVIEJA       Abril     ..\n",
      "112  03133 TORREVIEJA        Mayo     ..\n",
      "113  03133 TORREVIEJA       Junio  1.901\n",
      "114  03133 TORREVIEJA       Julio  1.976\n",
      "115  03133 TORREVIEJA      Agosto  1.949\n",
      "116  03133 TORREVIEJA  Septiembre  1.910\n",
      "117  03133 TORREVIEJA     Octubre  1.927\n",
      "118  03133 TORREVIEJA   Noviembre  1.927\n",
      "119  03133 TORREVIEJA   Diciembre     ..\n"
     ]
    }
   ],
   "source": [
    "numero_plazas_eoh = pd.read_csv(os.path.join(datos, '59868.csv'), delimiter=';')\n",
    "filtro = numero_plazas_eoh['Puntos turísticos'] == \"03133 TORREVIEJA\"\n",
    "\n",
    "numero_plazas_eoh = numero_plazas_eoh[filtro]\n",
    "\n",
    "print(numero_plazas_eoh)"
   ]
  },
  {
   "cell_type": "markdown",
   "metadata": {},
   "source": [
    "## Grado ocupación plazas hoteles\n",
    "\n",
    "Tabla de INEbase Grado de ocupación por plazas por puntos turísticos y meses. Nacional. Encuesta de Ocupación Hotelera\n",
    "\n"
   ]
  },
  {
   "cell_type": "code",
   "execution_count": 26,
   "metadata": {},
   "outputs": [
    {
     "name": "stdout",
     "output_type": "stream",
     "text": [
      "    Puntos turísticos       Meses  Total\n",
      "117  03133 TORREVIEJA       Total   51,4\n",
      "118  03133 TORREVIEJA       Enero     ..\n",
      "119  03133 TORREVIEJA     Febrero     ..\n",
      "120  03133 TORREVIEJA       Marzo     ..\n",
      "121  03133 TORREVIEJA       Abril     ..\n",
      "122  03133 TORREVIEJA        Mayo     ..\n",
      "123  03133 TORREVIEJA       Junio  51,88\n",
      "124  03133 TORREVIEJA       Julio  62,34\n",
      "125  03133 TORREVIEJA      Agosto  66,53\n",
      "126  03133 TORREVIEJA  Septiembre     52\n",
      "127  03133 TORREVIEJA     Octubre  45,42\n",
      "128  03133 TORREVIEJA   Noviembre   53,4\n",
      "129  03133 TORREVIEJA   Diciembre     ..\n"
     ]
    }
   ],
   "source": [
    "ocupacion_plazas_eoh = pd.read_csv(os.path.join(datos, '59870.csv'), delimiter=';')\n",
    "filtro = ocupacion_plazas_eoh['Puntos turísticos'] == \"03133 TORREVIEJA\"\n",
    "\n",
    "ocupacion_plazas_eoh = ocupacion_plazas_eoh[filtro]\n",
    "\n",
    "print(ocupacion_plazas_eoh)"
   ]
  },
  {
   "cell_type": "markdown",
   "metadata": {},
   "source": [
    "## Grado ocupación habitaciones\n",
    "\n",
    "Tabla de INEbase Grado de ocupación por plazas por puntos turísticos y meses. Nacional. Encuesta de Ocupación Hotelera\n",
    "\n"
   ]
  },
  {
   "cell_type": "code",
   "execution_count": 27,
   "metadata": {},
   "outputs": [
    {
     "name": "stdout",
     "output_type": "stream",
     "text": [
      "    Puntos turísticos       Meses  Total\n",
      "117  03133 TORREVIEJA       Total  62,64\n",
      "118  03133 TORREVIEJA       Enero     ..\n",
      "119  03133 TORREVIEJA     Febrero     ..\n",
      "120  03133 TORREVIEJA       Marzo     ..\n",
      "121  03133 TORREVIEJA       Abril     ..\n",
      "122  03133 TORREVIEJA        Mayo     ..\n",
      "123  03133 TORREVIEJA       Junio  59,93\n",
      "124  03133 TORREVIEJA       Julio  74,42\n",
      "125  03133 TORREVIEJA      Agosto  80,76\n",
      "126  03133 TORREVIEJA  Septiembre  65,18\n",
      "127  03133 TORREVIEJA     Octubre  57,88\n",
      "128  03133 TORREVIEJA   Noviembre  66,06\n",
      "129  03133 TORREVIEJA   Diciembre     ..\n"
     ]
    }
   ],
   "source": [
    "ocupacion_habitaciones_eoh = pd.read_csv(os.path.join(datos, '59869.csv'), delimiter=';')\n",
    "filtro = ocupacion_habitaciones_eoh['Puntos turísticos'] == \"03133 TORREVIEJA\"\n",
    "\n",
    "ocupacion_habitaciones_eoh = ocupacion_habitaciones_eoh[filtro]\n",
    "\n",
    "print(ocupacion_habitaciones_eoh)"
   ]
  },
  {
   "cell_type": "markdown",
   "metadata": {},
   "source": [
    "## Grado ocupación hoteles en fin de semana\n",
    "\n",
    "Tabla de INEbase Grado de ocupación por plazas en fin de semana por puntos turísticos y meses. Nacional. Encuesta de Ocupación Hotelera\n",
    "\n"
   ]
  },
  {
   "cell_type": "code",
   "execution_count": 28,
   "metadata": {},
   "outputs": [
    {
     "name": "stdout",
     "output_type": "stream",
     "text": [
      "    Puntos turísticos       Meses  Total\n",
      "117  03133 TORREVIEJA       Total  56,67\n",
      "118  03133 TORREVIEJA       Enero     ..\n",
      "119  03133 TORREVIEJA     Febrero     ..\n",
      "120  03133 TORREVIEJA       Marzo     ..\n",
      "121  03133 TORREVIEJA       Abril     ..\n",
      "122  03133 TORREVIEJA        Mayo     ..\n",
      "123  03133 TORREVIEJA       Junio  58,92\n",
      "124  03133 TORREVIEJA       Julio  64,94\n",
      "125  03133 TORREVIEJA      Agosto  69,84\n",
      "126  03133 TORREVIEJA  Septiembre  58,93\n",
      "127  03133 TORREVIEJA     Octubre  48,49\n",
      "128  03133 TORREVIEJA   Noviembre  54,08\n",
      "129  03133 TORREVIEJA   Diciembre     ..\n"
     ]
    }
   ],
   "source": [
    "ocupacion_plazas_finde_eoh = pd.read_csv(os.path.join(datos, '59871.csv'), delimiter=';')\n",
    "filtro = ocupacion_plazas_finde_eoh['Puntos turísticos'] == \"03133 TORREVIEJA\"\n",
    "\n",
    "ocupacion_plazas_finde_eoh = ocupacion_plazas_finde_eoh[filtro]\n",
    "\n",
    "print(ocupacion_plazas_finde_eoh)"
   ]
  },
  {
   "cell_type": "markdown",
   "metadata": {},
   "source": [
    "## Número de establecimientos EOH"
   ]
  },
  {
   "cell_type": "code",
   "execution_count": 29,
   "metadata": {},
   "outputs": [
    {
     "name": "stdout",
     "output_type": "stream",
     "text": [
      "    Puntos turísticos       Meses Total\n",
      "108  03133 TORREVIEJA       Enero    ..\n",
      "109  03133 TORREVIEJA     Febrero    ..\n",
      "110  03133 TORREVIEJA       Marzo    ..\n",
      "111  03133 TORREVIEJA       Abril    ..\n",
      "112  03133 TORREVIEJA        Mayo    ..\n",
      "113  03133 TORREVIEJA       Junio    16\n",
      "114  03133 TORREVIEJA       Julio    17\n",
      "115  03133 TORREVIEJA      Agosto    16\n",
      "116  03133 TORREVIEJA  Septiembre    16\n",
      "117  03133 TORREVIEJA     Octubre    16\n",
      "118  03133 TORREVIEJA   Noviembre    16\n",
      "119  03133 TORREVIEJA   Diciembre    ..\n"
     ]
    }
   ],
   "source": [
    "numero_establecimientos_eoh = pd.read_csv(os.path.join(datos, '59866.csv'), delimiter=';')\n",
    "filtro = numero_establecimientos_eoh['Puntos turísticos'] == \"03133 TORREVIEJA\"\n",
    "\n",
    "numero_establecimientos_eoh = numero_establecimientos_eoh[filtro]\n",
    "\n",
    "print(numero_establecimientos_eoh)"
   ]
  },
  {
   "cell_type": "markdown",
   "metadata": {},
   "source": [
    "## Viajeros hoteles\n",
    "\n",
    "Tabla de INEbase Viajeros entrados por puntos turísticos y meses. Nacional. Encuesta de Ocupación Hotelera"
   ]
  },
  {
   "cell_type": "code",
   "execution_count": 93,
   "metadata": {},
   "outputs": [
    {
     "name": "stdout",
     "output_type": "stream",
     "text": [
      "    Puntos turísticos       Meses    Total\n",
      "117  03133 TORREVIEJA       Total  105.574\n",
      "118  03133 TORREVIEJA       Enero       ..\n",
      "119  03133 TORREVIEJA     Febrero       ..\n",
      "120  03133 TORREVIEJA       Marzo       ..\n",
      "121  03133 TORREVIEJA       Abril       ..\n",
      "122  03133 TORREVIEJA        Mayo       ..\n",
      "123  03133 TORREVIEJA       Junio   11.671\n",
      "124  03133 TORREVIEJA       Julio   13.905\n",
      "125  03133 TORREVIEJA      Agosto   13.454\n",
      "126  03133 TORREVIEJA  Septiembre    8.608\n",
      "127  03133 TORREVIEJA     Octubre    8.312\n",
      "128  03133 TORREVIEJA   Noviembre    8.260\n",
      "129  03133 TORREVIEJA   Diciembre       ..\n"
     ]
    }
   ],
   "source": [
    "viajeros_eoh = pd.read_csv(os.path.join(datos, '59873.csv'), delimiter=';')\n",
    "filtro = viajeros_eoh['Puntos turísticos'] == \"03133 TORREVIEJA\"\n",
    "\n",
    "viajeros_eoh = viajeros_eoh[filtro]\n",
    "# viajeros_eoh = viajeros_eoh.replace('..', 0)\n",
    "\n",
    "print(viajeros_eoh)"
   ]
  },
  {
   "cell_type": "code",
   "execution_count": null,
   "metadata": {},
   "outputs": [
    {
     "name": "stdout",
     "output_type": "stream",
     "text": [
      "Tipo de df_list: <class 'dict'>\n",
      "Claves del diccionario: dict_keys(['estancia_media_eoh', 'numero_plazas_eoh', 'ocupacion_plazas_eoh', 'ocupacion_habitaciones_eoh', 'ocupacion_plazas_finde_eoh', 'numero_establecimientos_eoh', 'viajeros_eoh', 'habitaciones_eoh', 'personal_eoh'])\n",
      "Ejemplo del primer dataframe:\n",
      "    Puntos turísticos    Meses Total\n",
      "117  03133 TORREVIEJA    Total  3,42\n",
      "118  03133 TORREVIEJA    Enero    ..\n",
      "119  03133 TORREVIEJA  Febrero    ..\n",
      "120  03133 TORREVIEJA    Marzo    ..\n",
      "121  03133 TORREVIEJA    Abril    ..\n",
      "Procesando df:estancia_media_eoh\n",
      "Procesando df:numero_plazas_eoh\n",
      "Procesando df:ocupacion_plazas_eoh\n",
      "Procesando df:ocupacion_habitaciones_eoh\n",
      "Procesando df:ocupacion_plazas_finde_eoh\n",
      "Procesando df:numero_establecimientos_eoh\n",
      "Procesando df:viajeros_eoh\n"
     ]
    },
    {
     "ename": "TypeError",
     "evalue": "unhashable type: 'list'",
     "output_type": "error",
     "traceback": [
      "\u001b[1;31m---------------------------------------------------------------------------\u001b[0m\n",
      "\u001b[1;31mTypeError\u001b[0m                                 Traceback (most recent call last)\n",
      "Cell \u001b[1;32mIn[90], line 12\u001b[0m\n",
      "\u001b[0;32m      1\u001b[0m eoh_dict \u001b[38;5;241m=\u001b[39m {\n",
      "\u001b[0;32m      2\u001b[0m     \u001b[38;5;124m'\u001b[39m\u001b[38;5;124mestancia_media_eoh\u001b[39m\u001b[38;5;124m'\u001b[39m: estancia_media_eoh,\n",
      "\u001b[0;32m      3\u001b[0m     \u001b[38;5;124m'\u001b[39m\u001b[38;5;124mnumero_plazas_eoh\u001b[39m\u001b[38;5;124m'\u001b[39m: numero_plazas_eoh,\n",
      "\u001b[1;32m   (...)\u001b[0m\n",
      "\u001b[0;32m     10\u001b[0m     \u001b[38;5;124m'\u001b[39m\u001b[38;5;124mpersonal_eoh\u001b[39m\u001b[38;5;124m'\u001b[39m: personal_eoh\n",
      "\u001b[0;32m     11\u001b[0m }\n",
      "\u001b[1;32m---> 12\u001b[0m df_eoh_final \u001b[38;5;241m=\u001b[39m \u001b[43mprocesar\u001b[49m\u001b[43m(\u001b[49m\u001b[43meoh_dict\u001b[49m\u001b[43m)\u001b[49m\n",
      "\n",
      "Cell \u001b[1;32mIn[87], line 15\u001b[0m, in \u001b[0;36mprocesar\u001b[1;34m(df_list)\u001b[0m\n",
      "\u001b[0;32m     12\u001b[0m \u001b[38;5;28mprint\u001b[39m(\u001b[38;5;124mf\u001b[39m\u001b[38;5;124m\"\u001b[39m\u001b[38;5;124mProcesando df:\u001b[39m\u001b[38;5;132;01m{\u001b[39;00mnombre\u001b[38;5;132;01m}\u001b[39;00m\u001b[38;5;124m\"\u001b[39m)\n",
      "\u001b[0;32m     14\u001b[0m \u001b[38;5;66;03m# Seleccionar solo las columnas necesarias\u001b[39;00m\n",
      "\u001b[1;32m---> 15\u001b[0m df_temp \u001b[38;5;241m=\u001b[39m \u001b[43mdf\u001b[49m\u001b[43m[\u001b[49m\u001b[43m[\u001b[49m\u001b[38;5;124;43m'\u001b[39;49m\u001b[38;5;124;43mMeses\u001b[39;49m\u001b[38;5;124;43m'\u001b[39;49m\u001b[43m,\u001b[49m\u001b[43m \u001b[49m\u001b[38;5;124;43m'\u001b[39;49m\u001b[38;5;124;43mTotal\u001b[39;49m\u001b[38;5;124;43m'\u001b[39;49m\u001b[43m]\u001b[49m\u001b[43m]\u001b[49m\u001b[38;5;241m.\u001b[39mcopy()\n",
      "\u001b[0;32m     17\u001b[0m \u001b[38;5;66;03m# Convertir meses a números\u001b[39;00m\n",
      "\u001b[0;32m     18\u001b[0m df_temp[\u001b[38;5;124m'\u001b[39m\u001b[38;5;124mMes_Num\u001b[39m\u001b[38;5;124m'\u001b[39m] \u001b[38;5;241m=\u001b[39m df_temp[\u001b[38;5;124m'\u001b[39m\u001b[38;5;124mMeses\u001b[39m\u001b[38;5;124m'\u001b[39m]\u001b[38;5;241m.\u001b[39mapply(mes_a_numero)\n",
      "\n",
      "\u001b[1;31mTypeError\u001b[0m: unhashable type: 'list'"
     ]
    }
   ],
   "source": [
    "eoh_dict = {\n",
    "    'estancia_media_eoh': estancia_media_eoh,\n",
    "    'numero_plazas_eoh': numero_plazas_eoh,\n",
    "    'ocupacion_plazas_eoh': ocupacion_plazas_eoh,\n",
    "    'ocupacion_habitaciones_eoh': ocupacion_habitaciones_eoh,\n",
    "    'ocupacion_plazas_finde_eoh': ocupacion_plazas_finde_eoh,\n",
    "    'numero_establecimientos_eoh': numero_establecimientos_eoh,\n",
    "    'viajeros_eoh': viajeros_eoh,    \n",
    "    'habitaciones_eoh': habitaciones_eoh,\n",
    "    'personal_eoh': personal_eoh\n",
    "}\n",
    "df_eoh_final = procesar(eoh_dict)"
   ]
  },
  {
   "cell_type": "markdown",
   "metadata": {},
   "source": [
    "## Viajeros país\n",
    "\n",
    "Tabla de INEbase Viajeros entrados por puntos turísticos, país de residencia y meses. Nacional. Encuesta de Ocupación Hotelera"
   ]
  },
  {
   "cell_type": "code",
   "execution_count": 31,
   "metadata": {},
   "outputs": [
    {
     "name": "stdout",
     "output_type": "stream",
     "text": [
      "     Puntos turísticos País de residencia       Meses    Total\n",
      "1638  03133 TORREVIEJA              Total       Total  105.574\n",
      "1639  03133 TORREVIEJA              Total       Enero       ..\n",
      "1640  03133 TORREVIEJA              Total     Febrero       ..\n",
      "1641  03133 TORREVIEJA              Total       Marzo       ..\n",
      "1642  03133 TORREVIEJA              Total       Abril       ..\n",
      "...                ...                ...         ...      ...\n",
      "1815  03133 TORREVIEJA     Estados Unidos      Agosto       40\n",
      "1816  03133 TORREVIEJA     Estados Unidos  Septiembre       32\n",
      "1817  03133 TORREVIEJA     Estados Unidos     Octubre       68\n",
      "1818  03133 TORREVIEJA     Estados Unidos   Noviembre       14\n",
      "1819  03133 TORREVIEJA     Estados Unidos   Diciembre       ..\n",
      "\n",
      "[182 rows x 4 columns]\n"
     ]
    }
   ],
   "source": [
    "viajeros_pais_eoh = pd.read_csv(os.path.join(datos, '59875.csv'), delimiter=';')\n",
    "filtro = viajeros_pais_eoh['Puntos turísticos'] == \"03133 TORREVIEJA\"\n",
    "\n",
    "viajeros_pais_eoh = viajeros_pais_eoh[filtro]\n",
    "# viajeros_pais_eoh = viajeros_pais_eoh.replace('..', 0)\n",
    "\n",
    "print(viajeros_pais_eoh)"
   ]
  },
  {
   "cell_type": "markdown",
   "metadata": {},
   "source": [
    "## Pernoctaciones\n",
    "\n",
    "Tabla de INEbase Pernoctaciones de los viajeros por puntos turísticos y meses. Nacional. Encuesta de Ocupación Hotelera\n",
    "\n"
   ]
  },
  {
   "cell_type": "code",
   "execution_count": 32,
   "metadata": {},
   "outputs": [
    {
     "name": "stdout",
     "output_type": "stream",
     "text": [
      "    Puntos turísticos       Meses    Total\n",
      "117  03133 TORREVIEJA       Total  360.982\n",
      "118  03133 TORREVIEJA       Enero       ..\n",
      "119  03133 TORREVIEJA     Febrero       ..\n",
      "120  03133 TORREVIEJA       Marzo       ..\n",
      "121  03133 TORREVIEJA       Abril       ..\n",
      "122  03133 TORREVIEJA        Mayo       ..\n",
      "123  03133 TORREVIEJA       Junio   33.045\n",
      "124  03133 TORREVIEJA       Julio   50.721\n",
      "125  03133 TORREVIEJA      Agosto   54.878\n",
      "126  03133 TORREVIEJA  Septiembre   32.284\n",
      "127  03133 TORREVIEJA     Octubre   27.873\n",
      "128  03133 TORREVIEJA   Noviembre   30.878\n",
      "129  03133 TORREVIEJA   Diciembre       ..\n"
     ]
    }
   ],
   "source": [
    "pernoctaciones_eoh = pd.read_csv(os.path.join(datos, '59876.csv'), delimiter=';')\n",
    "filtro = pernoctaciones_eoh['Puntos turísticos'] == \"03133 TORREVIEJA\"\n",
    "\n",
    "pernoctaciones_eoh = pernoctaciones_eoh[filtro]\n",
    "# pernoctaciones_eoh = pernoctaciones_eoh.replace('..', 0)\n",
    "\n",
    "print(pernoctaciones_eoh)"
   ]
  },
  {
   "cell_type": "markdown",
   "metadata": {},
   "source": [
    "## Pernoctaciones viajeros hoteles\n",
    "\n",
    "Tabla de INEbase Pernoctaciones de los viajeros por puntos turísticos, país de residencia y meses. Nacional. Encuesta de Ocupación Hotelera"
   ]
  },
  {
   "cell_type": "code",
   "execution_count": 33,
   "metadata": {},
   "outputs": [
    {
     "name": "stdout",
     "output_type": "stream",
     "text": [
      "     Puntos turísticos País de residencia       Meses    Total\n",
      "1638  03133 TORREVIEJA              Total       Total  360.982\n",
      "1639  03133 TORREVIEJA              Total       Enero       ..\n",
      "1640  03133 TORREVIEJA              Total     Febrero       ..\n",
      "1641  03133 TORREVIEJA              Total       Marzo       ..\n",
      "1642  03133 TORREVIEJA              Total       Abril       ..\n",
      "...                ...                ...         ...      ...\n",
      "1815  03133 TORREVIEJA     Estados Unidos      Agosto      302\n",
      "1816  03133 TORREVIEJA     Estados Unidos  Septiembre      104\n",
      "1817  03133 TORREVIEJA     Estados Unidos     Octubre      233\n",
      "1818  03133 TORREVIEJA     Estados Unidos   Noviembre       39\n",
      "1819  03133 TORREVIEJA     Estados Unidos   Diciembre       ..\n",
      "\n",
      "[182 rows x 4 columns]\n"
     ]
    }
   ],
   "source": [
    "pernoctaciones_pais_eoh = pd.read_csv(os.path.join(datos, '59878.csv'), delimiter=';')\n",
    "filtro = pernoctaciones_pais_eoh['Puntos turísticos'] == \"03133 TORREVIEJA\"\n",
    "\n",
    "pernoctaciones_pais_eoh = pernoctaciones_pais_eoh[filtro]\n",
    "\n",
    "print(pernoctaciones_pais_eoh)"
   ]
  },
  {
   "cell_type": "markdown",
   "metadata": {},
   "source": [
    "## Pernoctaciones por país de residencia\n",
    "\n",
    "Tabla de INEbase Pernoctaciones de los viajeros por puntos turísticos y país de residencia. Nacional. Encuesta de Ocupación Hotelera\n",
    "\n"
   ]
  },
  {
   "cell_type": "code",
   "execution_count": 34,
   "metadata": {},
   "outputs": [
    {
     "name": "stdout",
     "output_type": "stream",
     "text": [
      "    Puntos turísticos             País de residencia    Total\n",
      "126  03133 TORREVIEJA                          Total  360.982\n",
      "127  03133 TORREVIEJA           Residentes en España  188.981\n",
      "128  03133 TORREVIEJA        No residentes en España  172.000\n",
      "129  03133 TORREVIEJA  Unión Europea 27 (sin España)  106.257\n",
      "130  03133 TORREVIEJA                       Alemania    9.842\n",
      "131  03133 TORREVIEJA                        Bélgica   17.107\n",
      "132  03133 TORREVIEJA                        Francia    7.344\n",
      "133  03133 TORREVIEJA                         Italia    4.276\n",
      "134  03133 TORREVIEJA                   Países Bajos    9.806\n",
      "135  03133 TORREVIEJA                       Portugal    1.141\n",
      "136  03133 TORREVIEJA                    Reino Unido   33.307\n",
      "137  03133 TORREVIEJA                          Japón       ..\n",
      "138  03133 TORREVIEJA                República China      503\n",
      "139  03133 TORREVIEJA                 Estados Unidos    1.537\n"
     ]
    }
   ],
   "source": [
    "pernoctaciones_residencia_eoh = pd.read_csv(os.path.join(datos, '59877.csv'), delimiter=';')\n",
    "filtro = pernoctaciones_residencia_eoh['Puntos turísticos'] == \"03133 TORREVIEJA\"\n",
    "\n",
    "pernoctaciones_residencia_eoh = pernoctaciones_residencia_eoh[filtro]\n",
    "\n",
    "print(pernoctaciones_residencia_eoh)"
   ]
  },
  {
   "cell_type": "markdown",
   "metadata": {},
   "source": [
    "## Viajeros país hoteles\n",
    "\n",
    "Tabla de INEbase Viajeros entrados por puntos turísticos y país de residencia. Nacional. Encuesta de Ocupación Hotelera"
   ]
  },
  {
   "cell_type": "code",
   "execution_count": 35,
   "metadata": {},
   "outputs": [
    {
     "name": "stdout",
     "output_type": "stream",
     "text": [
      "    Puntos turísticos             País de residencia    Total\n",
      "126  03133 TORREVIEJA                          Total  105.574\n",
      "127  03133 TORREVIEJA           Residentes en España   60.947\n",
      "128  03133 TORREVIEJA        No residentes en España   44.627\n",
      "129  03133 TORREVIEJA  Unión Europea 27 (sin España)   27.046\n",
      "130  03133 TORREVIEJA                       Alemania    2.104\n",
      "131  03133 TORREVIEJA                        Bélgica    4.543\n",
      "132  03133 TORREVIEJA                        Francia    2.025\n",
      "133  03133 TORREVIEJA                         Italia    1.086\n",
      "134  03133 TORREVIEJA                   Países Bajos    2.655\n",
      "135  03133 TORREVIEJA                       Portugal      314\n",
      "136  03133 TORREVIEJA                    Reino Unido    7.683\n",
      "137  03133 TORREVIEJA                          Japón       ..\n",
      "138  03133 TORREVIEJA                República China      354\n",
      "139  03133 TORREVIEJA                 Estados Unidos      498\n"
     ]
    }
   ],
   "source": [
    "viajeros_pais_eoh = pd.read_csv(os.path.join(datos, '59874.csv'), delimiter=';')\n",
    "filtro = viajeros_pais_eoh['Puntos turísticos'] == \"03133 TORREVIEJA\"\n",
    "\n",
    "viajeros_pais_eoh = viajeros_pais_eoh[filtro]\n",
    "\n",
    "print(viajeros_pais_eoh)"
   ]
  },
  {
   "cell_type": "markdown",
   "metadata": {},
   "source": [
    "## Habitaciones hoteles\n",
    "\n",
    "Tabla de INEbase Habitaciones estimadas por puntos turísticos y meses. Nacional. Encuesta de Ocupación Hotelera"
   ]
  },
  {
   "cell_type": "code",
   "execution_count": 36,
   "metadata": {},
   "outputs": [
    {
     "name": "stdout",
     "output_type": "stream",
     "text": [
      "    Puntos turísticos       Meses Total\n",
      "108  03133 TORREVIEJA       Enero    ..\n",
      "109  03133 TORREVIEJA     Febrero    ..\n",
      "110  03133 TORREVIEJA       Marzo    ..\n",
      "111  03133 TORREVIEJA       Abril    ..\n",
      "112  03133 TORREVIEJA        Mayo    ..\n",
      "113  03133 TORREVIEJA       Junio   874\n",
      "114  03133 TORREVIEJA       Julio   902\n",
      "115  03133 TORREVIEJA      Agosto   891\n",
      "116  03133 TORREVIEJA  Septiembre   878\n",
      "117  03133 TORREVIEJA     Octubre   893\n",
      "118  03133 TORREVIEJA   Noviembre   893\n",
      "119  03133 TORREVIEJA   Diciembre    ..\n"
     ]
    }
   ],
   "source": [
    "habitaciones_eoh = pd.read_csv(os.path.join(datos, '59867.csv'), delimiter=';')\n",
    "filtro = habitaciones_eoh['Puntos turísticos'] == \"03133 TORREVIEJA\"\n",
    "\n",
    "habitaciones_eoh = habitaciones_eoh[filtro]\n",
    "# habitaciones_eoh = habitaciones_eoh.replace('..', 0)\n",
    "\n",
    "print(habitaciones_eoh)"
   ]
  },
  {
   "cell_type": "markdown",
   "metadata": {},
   "source": [
    "## Personal ocupado\n",
    "\n",
    "Tabla de INEbase Personal ocupado por puntos turísticos y meses. Nacional. Encuesta de Ocupación Hotelera\n"
   ]
  },
  {
   "cell_type": "code",
   "execution_count": 37,
   "metadata": {},
   "outputs": [
    {
     "name": "stdout",
     "output_type": "stream",
     "text": [
      "    Puntos turísticos       Meses Total\n",
      "108  03133 TORREVIEJA       Enero    ..\n",
      "109  03133 TORREVIEJA     Febrero    ..\n",
      "110  03133 TORREVIEJA       Marzo    ..\n",
      "111  03133 TORREVIEJA       Abril    ..\n",
      "112  03133 TORREVIEJA        Mayo    ..\n",
      "113  03133 TORREVIEJA       Junio   275\n",
      "114  03133 TORREVIEJA       Julio   278\n",
      "115  03133 TORREVIEJA      Agosto   292\n",
      "116  03133 TORREVIEJA  Septiembre   290\n",
      "117  03133 TORREVIEJA     Octubre   214\n",
      "118  03133 TORREVIEJA   Noviembre   201\n",
      "119  03133 TORREVIEJA   Diciembre    ..\n"
     ]
    }
   ],
   "source": [
    "personal_eoh = pd.read_csv(os.path.join(datos, '59872.csv'), delimiter=';')\n",
    "filtro = personal_eoh['Puntos turísticos'] == \"03133 TORREVIEJA\"\n",
    "\n",
    "personal_eoh = personal_eoh[filtro]\n",
    "# personal_eoh = personal_eoh.replace('..', 0)\n",
    "\n",
    "print(personal_eoh)"
   ]
  },
  {
   "cell_type": "markdown",
   "metadata": {},
   "source": [
    "# Combinación"
   ]
  },
  {
   "cell_type": "code",
   "execution_count": 38,
   "metadata": {},
   "outputs": [],
   "source": [
    "def mes_a_numero(mes):\n",
    "    meses = {\n",
    "        'Enero': 1,\n",
    "        'Febrero': 2,\n",
    "        'Marzo': 3,\n",
    "        'Abril': 4,\n",
    "        'Mayo': 5,\n",
    "        'Junio': 6,\n",
    "        'Julio': 7,\n",
    "        'Agosto': 8,\n",
    "        'Septiembre': 9,\n",
    "        'Octubre': 10,\n",
    "        'Noviembre': 11,\n",
    "        'Diciembre': 12,\n",
    "        'Total': 0  # Podemos usar 0 para representar el total\n",
    "    }\n",
    "    return meses.get(mes, mes)"
   ]
  },
  {
   "cell_type": "code",
   "execution_count": 77,
   "metadata": {},
   "outputs": [],
   "source": [
    "eoap_dict = {\n",
    "    'estancia_media_eoap': estancia_media_eoap,\n",
    "    'pernoctaciones_eoap': pernoctaciones_eoap,\n",
    "    'ocupacion_plazas_eoap': ocupacion_plazas_eoap,\n",
    "    'ocupacion_plazas_finde_eoap': ocupacion_plazas_finde_eoap,\n",
    "    'ocupacion_apartamentos_eoap': ocupacion_apartamentos_eoap,\n",
    "    'ocupacion_apartamentos_finde_eoap': ocupacion_apartamentos_finde_eoap,\n",
    "    'numero_apartamentos_eoap': numero_apartamentos_eoap,\n",
    "    'numero_plazas_eoap': numero_plazas_eoap,\n",
    "    'numero_establecimientos_eoap': numero_establecimientos_eoap,\n",
    "    'viajeros_eoap': viajeros_eaop\n",
    "}\n",
    "\n",
    "viajeros_eoap = {\n",
    "    'pernoctaciones_pais': pernoctaciones_viajeros_pais_eoap,\n",
    "    'viajeros_pais': viajeros_pais_eoap\n",
    "}\n",
    "\n",
    "eoh_dict = {\n",
    "    'estancia_media_eoh': estancia_media_eoh,\n",
    "    'numero_plazas_eoh': numero_plazas_eoh,\n",
    "    'ocupacion_plazas_eoh': ocupacion_plazas_eoh,\n",
    "    'ocupacion_habitaciones_eoh': ocupacion_habitaciones_eoh,\n",
    "    'ocupacion_plazas_finde_eoh': ocupacion_plazas_finde_eoh,\n",
    "    'numero_establecimientos_eoh': numero_establecimientos_eoh,\n",
    "    'viajeros_eoh': viajeros_eoh,    \n",
    "    'habitaciones_eoh': habitaciones_eoh,\n",
    "    'personal_eoh': personal_eoh\n",
    "}\n",
    "\n",
    "viajeros_eoh = {\n",
    "    'pernoctaciones_eoh': pernoctaciones_eoh,\n",
    "    'pernoctaciones_residencia_eoh': pernoctaciones_residencia_eoh,\n",
    "    'viajeros_pais_eoh': viajeros_pais_eoh,\n",
    "    'estancia_media_residencia_eoh': estancia_media_residencia_eoh\n",
    "}"
   ]
  },
  {
   "cell_type": "code",
   "execution_count": 87,
   "metadata": {},
   "outputs": [],
   "source": [
    "def procesar(df_list):\n",
    "\n",
    "    print(\"Tipo de df_list:\", type(df_list))\n",
    "    print(\"Claves del diccionario:\", df_list.keys())\n",
    "    print(\"Ejemplo del primer dataframe:\")\n",
    "    primer_nombre = list(df_list.keys())[0]\n",
    "    print(df_list[primer_nombre].head())\n",
    "    \n",
    "    dfs_procesados = []\n",
    "    for nombre, df in df_list.items():\n",
    "\n",
    "        print(f\"Procesando df:{nombre}\")\n",
    "        \n",
    "        # Seleccionar solo las columnas necesarias\n",
    "        df_temp = df[['Meses', 'Total']].copy()\n",
    "        \n",
    "        # Convertir meses a números\n",
    "        df_temp['Mes_Num'] = df_temp['Meses'].apply(mes_a_numero)\n",
    "        \n",
    "        # Excluir la fila de total\n",
    "        df_temp = df_temp[df_temp['Mes_Num'] != 0]\n",
    "        \n",
    "        # Reemplazar '..' por '0' y ',' por '.'\n",
    "        df_temp = df_temp.replace('..', '0')\n",
    "        df_temp['Total'] = df_temp['Total'].astype(str).str.replace(',', '.')\n",
    "        \n",
    "        # Convertir a numérico\n",
    "        df_temp['Total'] = pd.to_numeric(df_temp['Total'], errors='coerce')\n",
    "        \n",
    "        # Renombrar la columna Total con el nombre del dataset\n",
    "        df_temp = df_temp.rename(columns={'Total': nombre})\n",
    "        \n",
    "        # Ordenar por el número de mes\n",
    "        df_temp = df_temp.sort_values('Mes_Num')\n",
    "        \n",
    "        # Eliminar la columna de meses en texto\n",
    "        df_temp = df_temp.drop('Meses', axis=1)\n",
    "        \n",
    "        dfs_procesados.append(df_temp)\n",
    "\n",
    "    # Combinar todos los dataframes usando el número de mes como índice\n",
    "    df_final = dfs_procesados[0]\n",
    "    for df in dfs_procesados[1:]:\n",
    "        df_final = df_final.merge(df, on='Mes_Num', how='outer')\n",
    "\n",
    "    # Ordenar por mes\n",
    "    df_final = df_final.sort_values('Mes_Num')\n",
    "\n",
    "    # Convertir todas las columnas (excepto Mes_Num) a tipo numérico\n",
    "    columnas_numericas = [col for col in df_final.columns if col != 'Mes_Num']\n",
    "    for col in columnas_numericas:\n",
    "        df_final[col] = pd.to_numeric(df_final[col], errors='coerce')\n",
    "\n",
    "    # Calcular el total para cada columna\n",
    "    totales = df_final[columnas_numericas].mean()\n",
    "    fila_total = pd.DataFrame(totales).T\n",
    "    fila_total['Mes_Num'] = 0\n",
    "\n",
    "    # Combinar el dataframe original con la fila de totales\n",
    "    df_final = pd.concat([fila_total, df_final], ignore_index=True)\n",
    "\n",
    "    # Si quieres mantener el mes como índice\n",
    "    df_final = df_final.set_index('Mes_Num')\n",
    "\n",
    "    # Crear un diccionario para mapear los números de mes a nombres\n",
    "    meses = {\n",
    "        0: 'Media total',\n",
    "        1: 'Enero',\n",
    "        2: 'Febrero',\n",
    "        3: 'Marzo',\n",
    "        4: 'Abril',\n",
    "        5: 'Mayo',\n",
    "        6: 'Junio',\n",
    "        7: 'Julio',\n",
    "        8: 'Agosto',\n",
    "        9: 'Septiembre',\n",
    "        10: 'Octubre',\n",
    "        11: 'Noviembre',\n",
    "        12: 'Diciembre'\n",
    "    }\n",
    "\n",
    "    # Añadir los nombres de los meses como una columna\n",
    "    df_final['Mes'] = df_final.index.map(meses)\n",
    "\n",
    "    # Reordenar las columnas para que 'Mes' sea la primera\n",
    "    columnas = ['Mes'] + [col for col in df_final.columns if col != 'Mes']\n",
    "    df_final = df_final[columnas]\n",
    "\n",
    "    # Mostrar el resultado\n",
    "    display(df_final)\n",
    "\n",
    "    return df_final"
   ]
  },
  {
   "cell_type": "code",
   "execution_count": 96,
   "metadata": {},
   "outputs": [
    {
     "name": "stdout",
     "output_type": "stream",
     "text": [
      "Tipo de df_list: <class 'dict'>\n",
      "Claves del diccionario: dict_keys(['estancia_media_eoap', 'pernoctaciones_eoap', 'ocupacion_plazas_eoap', 'ocupacion_plazas_finde_eoap', 'ocupacion_apartamentos_eoap', 'ocupacion_apartamentos_finde_eoap', 'numero_apartamentos_eoap', 'numero_plazas_eoap', 'numero_establecimientos_eoap', 'viajeros_eoap'])\n",
      "Ejemplo del primer dataframe:\n",
      "    Puntos turísticos    Meses  Total\n",
      "156  03133 TORREVIEJA    Total  11,47\n",
      "157  03133 TORREVIEJA    Enero  13,34\n",
      "158  03133 TORREVIEJA  Febrero  12,89\n",
      "159  03133 TORREVIEJA    Marzo  14,94\n",
      "160  03133 TORREVIEJA    Abril  13,77\n",
      "Procesando df:estancia_media_eoap\n",
      "Procesando df:pernoctaciones_eoap\n",
      "Procesando df:ocupacion_plazas_eoap\n",
      "Procesando df:ocupacion_plazas_finde_eoap\n",
      "Procesando df:ocupacion_apartamentos_eoap\n",
      "Procesando df:ocupacion_apartamentos_finde_eoap\n",
      "Procesando df:numero_apartamentos_eoap\n",
      "Procesando df:numero_plazas_eoap\n",
      "Procesando df:numero_establecimientos_eoap\n",
      "Procesando df:viajeros_eoap\n"
     ]
    },
    {
     "data": {
      "text/html": [
       "<div>\n",
       "<style scoped>\n",
       "    .dataframe tbody tr th:only-of-type {\n",
       "        vertical-align: middle;\n",
       "    }\n",
       "\n",
       "    .dataframe tbody tr th {\n",
       "        vertical-align: top;\n",
       "    }\n",
       "\n",
       "    .dataframe thead th {\n",
       "        text-align: right;\n",
       "    }\n",
       "</style>\n",
       "<table border=\"1\" class=\"dataframe\">\n",
       "  <thead>\n",
       "    <tr style=\"text-align: right;\">\n",
       "      <th></th>\n",
       "      <th>Mes</th>\n",
       "      <th>estancia_media_eoap</th>\n",
       "      <th>pernoctaciones_eoap</th>\n",
       "      <th>ocupacion_plazas_eoap</th>\n",
       "      <th>ocupacion_plazas_finde_eoap</th>\n",
       "      <th>ocupacion_apartamentos_eoap</th>\n",
       "      <th>ocupacion_apartamentos_finde_eoap</th>\n",
       "      <th>numero_apartamentos_eoap</th>\n",
       "      <th>numero_plazas_eoap</th>\n",
       "      <th>numero_establecimientos_eoap</th>\n",
       "      <th>viajeros_eoap</th>\n",
       "    </tr>\n",
       "    <tr>\n",
       "      <th>Mes_Num</th>\n",
       "      <th></th>\n",
       "      <th></th>\n",
       "      <th></th>\n",
       "      <th></th>\n",
       "      <th></th>\n",
       "      <th></th>\n",
       "      <th></th>\n",
       "      <th></th>\n",
       "      <th></th>\n",
       "      <th></th>\n",
       "      <th></th>\n",
       "    </tr>\n",
       "  </thead>\n",
       "  <tbody>\n",
       "    <tr>\n",
       "      <th>0</th>\n",
       "      <td>Media total</td>\n",
       "      <td>13.445</td>\n",
       "      <td>37.8935</td>\n",
       "      <td>14.858333</td>\n",
       "      <td>14.541667</td>\n",
       "      <td>21.105833</td>\n",
       "      <td>20.851667</td>\n",
       "      <td>2.091</td>\n",
       "      <td>8.361</td>\n",
       "      <td>35.75</td>\n",
       "      <td>149.240083</td>\n",
       "    </tr>\n",
       "    <tr>\n",
       "      <th>1</th>\n",
       "      <td>Enero</td>\n",
       "      <td>13.340</td>\n",
       "      <td>10.2390</td>\n",
       "      <td>7.200000</td>\n",
       "      <td>7.440000</td>\n",
       "      <td>15.150000</td>\n",
       "      <td>16.430000</td>\n",
       "      <td>1.058</td>\n",
       "      <td>4.589</td>\n",
       "      <td>22.00</td>\n",
       "      <td>767.000000</td>\n",
       "    </tr>\n",
       "    <tr>\n",
       "      <th>2</th>\n",
       "      <td>Febrero</td>\n",
       "      <td>12.890</td>\n",
       "      <td>12.7120</td>\n",
       "      <td>9.890000</td>\n",
       "      <td>9.750000</td>\n",
       "      <td>18.070000</td>\n",
       "      <td>17.910000</td>\n",
       "      <td>1.057</td>\n",
       "      <td>4.589</td>\n",
       "      <td>22.00</td>\n",
       "      <td>986.000000</td>\n",
       "    </tr>\n",
       "    <tr>\n",
       "      <th>3</th>\n",
       "      <td>Marzo</td>\n",
       "      <td>14.940</td>\n",
       "      <td>16.7090</td>\n",
       "      <td>11.220000</td>\n",
       "      <td>11.990000</td>\n",
       "      <td>22.890000</td>\n",
       "      <td>23.160000</td>\n",
       "      <td>1.123</td>\n",
       "      <td>4.802</td>\n",
       "      <td>27.00</td>\n",
       "      <td>1.118000</td>\n",
       "    </tr>\n",
       "    <tr>\n",
       "      <th>4</th>\n",
       "      <td>Abril</td>\n",
       "      <td>13.770</td>\n",
       "      <td>35.9130</td>\n",
       "      <td>9.110000</td>\n",
       "      <td>8.990000</td>\n",
       "      <td>14.470000</td>\n",
       "      <td>14.140000</td>\n",
       "      <td>3.527</td>\n",
       "      <td>13.140</td>\n",
       "      <td>38.00</td>\n",
       "      <td>2.608000</td>\n",
       "    </tr>\n",
       "    <tr>\n",
       "      <th>5</th>\n",
       "      <td>Mayo</td>\n",
       "      <td>12.300</td>\n",
       "      <td>33.4940</td>\n",
       "      <td>8.040000</td>\n",
       "      <td>8.620000</td>\n",
       "      <td>11.560000</td>\n",
       "      <td>12.270000</td>\n",
       "      <td>3.624</td>\n",
       "      <td>13.439</td>\n",
       "      <td>38.00</td>\n",
       "      <td>2.723000</td>\n",
       "    </tr>\n",
       "    <tr>\n",
       "      <th>6</th>\n",
       "      <td>Junio</td>\n",
       "      <td>7.700</td>\n",
       "      <td>59.9210</td>\n",
       "      <td>14.160000</td>\n",
       "      <td>10.990000</td>\n",
       "      <td>16.230000</td>\n",
       "      <td>13.020000</td>\n",
       "      <td>3.833</td>\n",
       "      <td>14.102</td>\n",
       "      <td>39.00</td>\n",
       "      <td>7.780000</td>\n",
       "    </tr>\n",
       "    <tr>\n",
       "      <th>7</th>\n",
       "      <td>Julio</td>\n",
       "      <td>10.610</td>\n",
       "      <td>67.2820</td>\n",
       "      <td>25.910000</td>\n",
       "      <td>23.850000</td>\n",
       "      <td>26.020000</td>\n",
       "      <td>24.320000</td>\n",
       "      <td>2.188</td>\n",
       "      <td>8.377</td>\n",
       "      <td>40.00</td>\n",
       "      <td>6.342000</td>\n",
       "    </tr>\n",
       "    <tr>\n",
       "      <th>8</th>\n",
       "      <td>Agosto</td>\n",
       "      <td>10.240</td>\n",
       "      <td>80.6720</td>\n",
       "      <td>28.530000</td>\n",
       "      <td>30.910000</td>\n",
       "      <td>27.370000</td>\n",
       "      <td>29.440000</td>\n",
       "      <td>2.142</td>\n",
       "      <td>9.117</td>\n",
       "      <td>46.00</td>\n",
       "      <td>7.879000</td>\n",
       "    </tr>\n",
       "    <tr>\n",
       "      <th>9</th>\n",
       "      <td>Septiembre</td>\n",
       "      <td>9.200</td>\n",
       "      <td>33.9140</td>\n",
       "      <td>14.610000</td>\n",
       "      <td>13.050000</td>\n",
       "      <td>17.410000</td>\n",
       "      <td>15.870000</td>\n",
       "      <td>1.800</td>\n",
       "      <td>7.740</td>\n",
       "      <td>45.00</td>\n",
       "      <td>3.687000</td>\n",
       "    </tr>\n",
       "    <tr>\n",
       "      <th>10</th>\n",
       "      <td>Octubre</td>\n",
       "      <td>16.150</td>\n",
       "      <td>39.7770</td>\n",
       "      <td>17.960000</td>\n",
       "      <td>17.760000</td>\n",
       "      <td>29.350000</td>\n",
       "      <td>30.160000</td>\n",
       "      <td>1.668</td>\n",
       "      <td>7.143</td>\n",
       "      <td>39.00</td>\n",
       "      <td>2.464000</td>\n",
       "    </tr>\n",
       "    <tr>\n",
       "      <th>11</th>\n",
       "      <td>Noviembre</td>\n",
       "      <td>23.930</td>\n",
       "      <td>33.5030</td>\n",
       "      <td>17.010000</td>\n",
       "      <td>17.100000</td>\n",
       "      <td>29.930000</td>\n",
       "      <td>29.980000</td>\n",
       "      <td>1.518</td>\n",
       "      <td>6.564</td>\n",
       "      <td>36.00</td>\n",
       "      <td>1.400000</td>\n",
       "    </tr>\n",
       "    <tr>\n",
       "      <th>12</th>\n",
       "      <td>Diciembre</td>\n",
       "      <td>16.270</td>\n",
       "      <td>30.5860</td>\n",
       "      <td>14.660000</td>\n",
       "      <td>14.050000</td>\n",
       "      <td>24.820000</td>\n",
       "      <td>23.520000</td>\n",
       "      <td>1.554</td>\n",
       "      <td>6.730</td>\n",
       "      <td>37.00</td>\n",
       "      <td>1.880000</td>\n",
       "    </tr>\n",
       "  </tbody>\n",
       "</table>\n",
       "</div>"
      ],
      "text/plain": [
       "                 Mes  estancia_media_eoap  pernoctaciones_eoap  \\\n",
       "Mes_Num                                                          \n",
       "0        Media total               13.445              37.8935   \n",
       "1              Enero               13.340              10.2390   \n",
       "2            Febrero               12.890              12.7120   \n",
       "3              Marzo               14.940              16.7090   \n",
       "4              Abril               13.770              35.9130   \n",
       "5               Mayo               12.300              33.4940   \n",
       "6              Junio                7.700              59.9210   \n",
       "7              Julio               10.610              67.2820   \n",
       "8             Agosto               10.240              80.6720   \n",
       "9         Septiembre                9.200              33.9140   \n",
       "10           Octubre               16.150              39.7770   \n",
       "11         Noviembre               23.930              33.5030   \n",
       "12         Diciembre               16.270              30.5860   \n",
       "\n",
       "         ocupacion_plazas_eoap  ocupacion_plazas_finde_eoap  \\\n",
       "Mes_Num                                                       \n",
       "0                    14.858333                    14.541667   \n",
       "1                     7.200000                     7.440000   \n",
       "2                     9.890000                     9.750000   \n",
       "3                    11.220000                    11.990000   \n",
       "4                     9.110000                     8.990000   \n",
       "5                     8.040000                     8.620000   \n",
       "6                    14.160000                    10.990000   \n",
       "7                    25.910000                    23.850000   \n",
       "8                    28.530000                    30.910000   \n",
       "9                    14.610000                    13.050000   \n",
       "10                   17.960000                    17.760000   \n",
       "11                   17.010000                    17.100000   \n",
       "12                   14.660000                    14.050000   \n",
       "\n",
       "         ocupacion_apartamentos_eoap  ocupacion_apartamentos_finde_eoap  \\\n",
       "Mes_Num                                                                   \n",
       "0                          21.105833                          20.851667   \n",
       "1                          15.150000                          16.430000   \n",
       "2                          18.070000                          17.910000   \n",
       "3                          22.890000                          23.160000   \n",
       "4                          14.470000                          14.140000   \n",
       "5                          11.560000                          12.270000   \n",
       "6                          16.230000                          13.020000   \n",
       "7                          26.020000                          24.320000   \n",
       "8                          27.370000                          29.440000   \n",
       "9                          17.410000                          15.870000   \n",
       "10                         29.350000                          30.160000   \n",
       "11                         29.930000                          29.980000   \n",
       "12                         24.820000                          23.520000   \n",
       "\n",
       "         numero_apartamentos_eoap  numero_plazas_eoap  \\\n",
       "Mes_Num                                                 \n",
       "0                           2.091               8.361   \n",
       "1                           1.058               4.589   \n",
       "2                           1.057               4.589   \n",
       "3                           1.123               4.802   \n",
       "4                           3.527              13.140   \n",
       "5                           3.624              13.439   \n",
       "6                           3.833              14.102   \n",
       "7                           2.188               8.377   \n",
       "8                           2.142               9.117   \n",
       "9                           1.800               7.740   \n",
       "10                          1.668               7.143   \n",
       "11                          1.518               6.564   \n",
       "12                          1.554               6.730   \n",
       "\n",
       "         numero_establecimientos_eoap  viajeros_eoap  \n",
       "Mes_Num                                               \n",
       "0                               35.75     149.240083  \n",
       "1                               22.00     767.000000  \n",
       "2                               22.00     986.000000  \n",
       "3                               27.00       1.118000  \n",
       "4                               38.00       2.608000  \n",
       "5                               38.00       2.723000  \n",
       "6                               39.00       7.780000  \n",
       "7                               40.00       6.342000  \n",
       "8                               46.00       7.879000  \n",
       "9                               45.00       3.687000  \n",
       "10                              39.00       2.464000  \n",
       "11                              36.00       1.400000  \n",
       "12                              37.00       1.880000  "
      ]
     },
     "metadata": {},
     "output_type": "display_data"
    }
   ],
   "source": [
    "eoap_final = procesar(eoap_dict)"
   ]
  },
  {
   "cell_type": "code",
   "execution_count": 95,
   "metadata": {},
   "outputs": [
    {
     "name": "stdout",
     "output_type": "stream",
     "text": [
      "Tipo de df_list: <class 'dict'>\n",
      "Claves del diccionario: dict_keys(['estancia_media_eoh', 'numero_plazas_eoh', 'ocupacion_plazas_eoh', 'ocupacion_habitaciones_eoh', 'ocupacion_plazas_finde_eoh', 'numero_establecimientos_eoh', 'viajeros_eoh', 'habitaciones_eoh', 'personal_eoh'])\n",
      "Ejemplo del primer dataframe:\n",
      "    Puntos turísticos    Meses Total\n",
      "117  03133 TORREVIEJA    Total  3,42\n",
      "118  03133 TORREVIEJA    Enero    ..\n",
      "119  03133 TORREVIEJA  Febrero    ..\n",
      "120  03133 TORREVIEJA    Marzo    ..\n",
      "121  03133 TORREVIEJA    Abril    ..\n",
      "Procesando df:estancia_media_eoh\n",
      "Procesando df:numero_plazas_eoh\n",
      "Procesando df:ocupacion_plazas_eoh\n",
      "Procesando df:ocupacion_habitaciones_eoh\n",
      "Procesando df:ocupacion_plazas_finde_eoh\n",
      "Procesando df:numero_establecimientos_eoh\n",
      "Procesando df:viajeros_eoh\n",
      "Procesando df:habitaciones_eoh\n",
      "Procesando df:personal_eoh\n"
     ]
    },
    {
     "data": {
      "text/html": [
       "<div>\n",
       "<style scoped>\n",
       "    .dataframe tbody tr th:only-of-type {\n",
       "        vertical-align: middle;\n",
       "    }\n",
       "\n",
       "    .dataframe tbody tr th {\n",
       "        vertical-align: top;\n",
       "    }\n",
       "\n",
       "    .dataframe thead th {\n",
       "        text-align: right;\n",
       "    }\n",
       "</style>\n",
       "<table border=\"1\" class=\"dataframe\">\n",
       "  <thead>\n",
       "    <tr style=\"text-align: right;\">\n",
       "      <th></th>\n",
       "      <th>Mes</th>\n",
       "      <th>estancia_media_eoh</th>\n",
       "      <th>numero_plazas_eoh</th>\n",
       "      <th>ocupacion_plazas_eoh</th>\n",
       "      <th>ocupacion_habitaciones_eoh</th>\n",
       "      <th>ocupacion_plazas_finde_eoh</th>\n",
       "      <th>numero_establecimientos_eoh</th>\n",
       "      <th>viajeros_eoh</th>\n",
       "      <th>habitaciones_eoh</th>\n",
       "      <th>personal_eoh</th>\n",
       "    </tr>\n",
       "    <tr>\n",
       "      <th>Mes_Num</th>\n",
       "      <th></th>\n",
       "      <th></th>\n",
       "      <th></th>\n",
       "      <th></th>\n",
       "      <th></th>\n",
       "      <th></th>\n",
       "      <th></th>\n",
       "      <th></th>\n",
       "      <th></th>\n",
       "      <th></th>\n",
       "    </tr>\n",
       "  </thead>\n",
       "  <tbody>\n",
       "    <tr>\n",
       "      <th>0</th>\n",
       "      <td>Media total</td>\n",
       "      <td>1.783333</td>\n",
       "      <td>0.965833</td>\n",
       "      <td>27.630833</td>\n",
       "      <td>33.685833</td>\n",
       "      <td>29.60</td>\n",
       "      <td>8.083333</td>\n",
       "      <td>5.350833</td>\n",
       "      <td>444.25</td>\n",
       "      <td>129.166667</td>\n",
       "    </tr>\n",
       "    <tr>\n",
       "      <th>1</th>\n",
       "      <td>Enero</td>\n",
       "      <td>0.000000</td>\n",
       "      <td>0.000000</td>\n",
       "      <td>0.000000</td>\n",
       "      <td>0.000000</td>\n",
       "      <td>0.00</td>\n",
       "      <td>0.000000</td>\n",
       "      <td>0.000000</td>\n",
       "      <td>0.00</td>\n",
       "      <td>0.000000</td>\n",
       "    </tr>\n",
       "    <tr>\n",
       "      <th>2</th>\n",
       "      <td>Febrero</td>\n",
       "      <td>0.000000</td>\n",
       "      <td>0.000000</td>\n",
       "      <td>0.000000</td>\n",
       "      <td>0.000000</td>\n",
       "      <td>0.00</td>\n",
       "      <td>0.000000</td>\n",
       "      <td>0.000000</td>\n",
       "      <td>0.00</td>\n",
       "      <td>0.000000</td>\n",
       "    </tr>\n",
       "    <tr>\n",
       "      <th>3</th>\n",
       "      <td>Marzo</td>\n",
       "      <td>0.000000</td>\n",
       "      <td>0.000000</td>\n",
       "      <td>0.000000</td>\n",
       "      <td>0.000000</td>\n",
       "      <td>0.00</td>\n",
       "      <td>0.000000</td>\n",
       "      <td>0.000000</td>\n",
       "      <td>0.00</td>\n",
       "      <td>0.000000</td>\n",
       "    </tr>\n",
       "    <tr>\n",
       "      <th>4</th>\n",
       "      <td>Abril</td>\n",
       "      <td>0.000000</td>\n",
       "      <td>0.000000</td>\n",
       "      <td>0.000000</td>\n",
       "      <td>0.000000</td>\n",
       "      <td>0.00</td>\n",
       "      <td>0.000000</td>\n",
       "      <td>0.000000</td>\n",
       "      <td>0.00</td>\n",
       "      <td>0.000000</td>\n",
       "    </tr>\n",
       "    <tr>\n",
       "      <th>5</th>\n",
       "      <td>Mayo</td>\n",
       "      <td>0.000000</td>\n",
       "      <td>0.000000</td>\n",
       "      <td>0.000000</td>\n",
       "      <td>0.000000</td>\n",
       "      <td>0.00</td>\n",
       "      <td>0.000000</td>\n",
       "      <td>0.000000</td>\n",
       "      <td>0.00</td>\n",
       "      <td>0.000000</td>\n",
       "    </tr>\n",
       "    <tr>\n",
       "      <th>6</th>\n",
       "      <td>Junio</td>\n",
       "      <td>2.830000</td>\n",
       "      <td>1.901000</td>\n",
       "      <td>51.880000</td>\n",
       "      <td>59.930000</td>\n",
       "      <td>58.92</td>\n",
       "      <td>16.000000</td>\n",
       "      <td>11.671000</td>\n",
       "      <td>874.00</td>\n",
       "      <td>275.000000</td>\n",
       "    </tr>\n",
       "    <tr>\n",
       "      <th>7</th>\n",
       "      <td>Julio</td>\n",
       "      <td>3.650000</td>\n",
       "      <td>1.976000</td>\n",
       "      <td>62.340000</td>\n",
       "      <td>74.420000</td>\n",
       "      <td>64.94</td>\n",
       "      <td>17.000000</td>\n",
       "      <td>13.905000</td>\n",
       "      <td>902.00</td>\n",
       "      <td>278.000000</td>\n",
       "    </tr>\n",
       "    <tr>\n",
       "      <th>8</th>\n",
       "      <td>Agosto</td>\n",
       "      <td>4.080000</td>\n",
       "      <td>1.949000</td>\n",
       "      <td>66.530000</td>\n",
       "      <td>80.760000</td>\n",
       "      <td>69.84</td>\n",
       "      <td>16.000000</td>\n",
       "      <td>13.454000</td>\n",
       "      <td>891.00</td>\n",
       "      <td>292.000000</td>\n",
       "    </tr>\n",
       "    <tr>\n",
       "      <th>9</th>\n",
       "      <td>Septiembre</td>\n",
       "      <td>3.750000</td>\n",
       "      <td>1.910000</td>\n",
       "      <td>52.000000</td>\n",
       "      <td>65.180000</td>\n",
       "      <td>58.93</td>\n",
       "      <td>16.000000</td>\n",
       "      <td>8.608000</td>\n",
       "      <td>878.00</td>\n",
       "      <td>290.000000</td>\n",
       "    </tr>\n",
       "    <tr>\n",
       "      <th>10</th>\n",
       "      <td>Octubre</td>\n",
       "      <td>3.350000</td>\n",
       "      <td>1.927000</td>\n",
       "      <td>45.420000</td>\n",
       "      <td>57.880000</td>\n",
       "      <td>48.49</td>\n",
       "      <td>16.000000</td>\n",
       "      <td>8.312000</td>\n",
       "      <td>893.00</td>\n",
       "      <td>214.000000</td>\n",
       "    </tr>\n",
       "    <tr>\n",
       "      <th>11</th>\n",
       "      <td>Noviembre</td>\n",
       "      <td>3.740000</td>\n",
       "      <td>1.927000</td>\n",
       "      <td>53.400000</td>\n",
       "      <td>66.060000</td>\n",
       "      <td>54.08</td>\n",
       "      <td>16.000000</td>\n",
       "      <td>8.260000</td>\n",
       "      <td>893.00</td>\n",
       "      <td>201.000000</td>\n",
       "    </tr>\n",
       "    <tr>\n",
       "      <th>12</th>\n",
       "      <td>Diciembre</td>\n",
       "      <td>0.000000</td>\n",
       "      <td>0.000000</td>\n",
       "      <td>0.000000</td>\n",
       "      <td>0.000000</td>\n",
       "      <td>0.00</td>\n",
       "      <td>0.000000</td>\n",
       "      <td>0.000000</td>\n",
       "      <td>0.00</td>\n",
       "      <td>0.000000</td>\n",
       "    </tr>\n",
       "  </tbody>\n",
       "</table>\n",
       "</div>"
      ],
      "text/plain": [
       "                 Mes  estancia_media_eoh  numero_plazas_eoh  \\\n",
       "Mes_Num                                                       \n",
       "0        Media total            1.783333           0.965833   \n",
       "1              Enero            0.000000           0.000000   \n",
       "2            Febrero            0.000000           0.000000   \n",
       "3              Marzo            0.000000           0.000000   \n",
       "4              Abril            0.000000           0.000000   \n",
       "5               Mayo            0.000000           0.000000   \n",
       "6              Junio            2.830000           1.901000   \n",
       "7              Julio            3.650000           1.976000   \n",
       "8             Agosto            4.080000           1.949000   \n",
       "9         Septiembre            3.750000           1.910000   \n",
       "10           Octubre            3.350000           1.927000   \n",
       "11         Noviembre            3.740000           1.927000   \n",
       "12         Diciembre            0.000000           0.000000   \n",
       "\n",
       "         ocupacion_plazas_eoh  ocupacion_habitaciones_eoh  \\\n",
       "Mes_Num                                                     \n",
       "0                   27.630833                   33.685833   \n",
       "1                    0.000000                    0.000000   \n",
       "2                    0.000000                    0.000000   \n",
       "3                    0.000000                    0.000000   \n",
       "4                    0.000000                    0.000000   \n",
       "5                    0.000000                    0.000000   \n",
       "6                   51.880000                   59.930000   \n",
       "7                   62.340000                   74.420000   \n",
       "8                   66.530000                   80.760000   \n",
       "9                   52.000000                   65.180000   \n",
       "10                  45.420000                   57.880000   \n",
       "11                  53.400000                   66.060000   \n",
       "12                   0.000000                    0.000000   \n",
       "\n",
       "         ocupacion_plazas_finde_eoh  numero_establecimientos_eoh  \\\n",
       "Mes_Num                                                            \n",
       "0                             29.60                     8.083333   \n",
       "1                              0.00                     0.000000   \n",
       "2                              0.00                     0.000000   \n",
       "3                              0.00                     0.000000   \n",
       "4                              0.00                     0.000000   \n",
       "5                              0.00                     0.000000   \n",
       "6                             58.92                    16.000000   \n",
       "7                             64.94                    17.000000   \n",
       "8                             69.84                    16.000000   \n",
       "9                             58.93                    16.000000   \n",
       "10                            48.49                    16.000000   \n",
       "11                            54.08                    16.000000   \n",
       "12                             0.00                     0.000000   \n",
       "\n",
       "         viajeros_eoh  habitaciones_eoh  personal_eoh  \n",
       "Mes_Num                                                \n",
       "0            5.350833            444.25    129.166667  \n",
       "1            0.000000              0.00      0.000000  \n",
       "2            0.000000              0.00      0.000000  \n",
       "3            0.000000              0.00      0.000000  \n",
       "4            0.000000              0.00      0.000000  \n",
       "5            0.000000              0.00      0.000000  \n",
       "6           11.671000            874.00    275.000000  \n",
       "7           13.905000            902.00    278.000000  \n",
       "8           13.454000            891.00    292.000000  \n",
       "9            8.608000            878.00    290.000000  \n",
       "10           8.312000            893.00    214.000000  \n",
       "11           8.260000            893.00    201.000000  \n",
       "12           0.000000              0.00      0.000000  "
      ]
     },
     "metadata": {},
     "output_type": "display_data"
    }
   ],
   "source": [
    "eoh_final = procesar(eoh_dict)"
   ]
  },
  {
   "cell_type": "code",
   "execution_count": 99,
   "metadata": {},
   "outputs": [],
   "source": [
    "eoap_final.to_csv('combined_eoap.csv', index=True, sep=';')\n",
    "eoh_final.to_csv('combined_eoh.csv', index=True, sep=';')"
   ]
  }
 ],
 "metadata": {
  "kernelspec": {
   "display_name": "Python 3",
   "language": "python",
   "name": "python3"
  },
  "language_info": {
   "codemirror_mode": {
    "name": "ipython",
    "version": 3
   },
   "file_extension": ".py",
   "mimetype": "text/x-python",
   "name": "python",
   "nbconvert_exporter": "python",
   "pygments_lexer": "ipython3",
   "version": "3.12.4"
  }
 },
 "nbformat": 4,
 "nbformat_minor": 2
}
