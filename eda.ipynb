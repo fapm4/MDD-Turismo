{
 "cells": [
  {
   "cell_type": "markdown",
   "id": "d93a0bdc",
   "metadata": {},
   "source": [
    "## Librerías"
   ]
  },
  {
   "cell_type": "code",
   "execution_count": 1,
   "id": "6de9070a",
   "metadata": {},
   "outputs": [],
   "source": [
    "import pandas as pd\n",
    "import matplotlib.pyplot as plt\n",
    "import os\n"
   ]
  },
  {
   "cell_type": "markdown",
   "id": "f6518337",
   "metadata": {},
   "source": [
    "## Carga de datos"
   ]
  },
  {
   "cell_type": "markdown",
   "id": "3ab3ca73",
   "metadata": {},
   "source": [
    "Descripción de las columnas:\n",
    "\n",
    "- `Property ID`:\n",
    "- `Property Type`:\n",
    "- `Listing Type`:\n",
    "- `Bedrooms`:\n",
    "- `Reporting Month`:\n",
    "- `Occupancy Rate`:\n",
    "- `Revenue (USD)`:\n",
    "- `Revenue(Native)`:\n",
    "- `ADR (USD)`:\n",
    "- `ADR (Native)`:\n",
    "- `Number of Reservations`:\n",
    "- `Reservation Days`:\n",
    "- `Available Days`:\n",
    "- `Blocked Days`:\n",
    "- `Country`:\n",
    "- `State`:\n",
    "- `City`:\n",
    "- `Latitude`:\n",
    "- `Longitude`:\n",
    "- `Active`:\n",
    "- `Scraped During Month`:\n",
    "- `Currency Native`:\n",
    "- `Airbnb Property ID`:\n",
    "- `HomeAway Property Manager`:"
   ]
  },
  {
   "cell_type": "code",
   "execution_count": 3,
   "id": "5e6079cc",
   "metadata": {},
   "outputs": [
    {
     "name": "stderr",
     "output_type": "stream",
     "text": [
      "C:\\Users\\Multivac Desktop\\AppData\\Local\\Temp\\ipykernel_18120\\1201202551.py:3: DtypeWarning: Columns (21,23) have mixed types. Specify dtype option on import or set low_memory=False.\n",
      "  df = pd.read_csv(path, sep=',', decimal='.')\n"
     ]
    },
    {
     "data": {
      "application/vnd.microsoft.datawrangler.viewer.v0+json": {
       "columns": [
        {
         "name": "index",
         "rawType": "int64",
         "type": "integer"
        },
        {
         "name": "Property ID",
         "rawType": "object",
         "type": "string"
        },
        {
         "name": "Property Type",
         "rawType": "object",
         "type": "string"
        },
        {
         "name": "Listing Type",
         "rawType": "object",
         "type": "string"
        },
        {
         "name": "Bedrooms",
         "rawType": "int64",
         "type": "integer"
        },
        {
         "name": "Reporting Month",
         "rawType": "object",
         "type": "string"
        },
        {
         "name": "Occupancy Rate",
         "rawType": "float64",
         "type": "float"
        },
        {
         "name": "Revenue (USD)",
         "rawType": "float64",
         "type": "float"
        },
        {
         "name": "Revenue (Native)",
         "rawType": "float64",
         "type": "float"
        },
        {
         "name": "ADR (USD)",
         "rawType": "float64",
         "type": "float"
        },
        {
         "name": "ADR (Native)",
         "rawType": "float64",
         "type": "float"
        },
        {
         "name": "Number of Reservations",
         "rawType": "int64",
         "type": "integer"
        },
        {
         "name": "Reservation Days",
         "rawType": "int64",
         "type": "integer"
        },
        {
         "name": "Available Days",
         "rawType": "int64",
         "type": "integer"
        },
        {
         "name": "Blocked Days",
         "rawType": "int64",
         "type": "integer"
        },
        {
         "name": "Country",
         "rawType": "object",
         "type": "string"
        },
        {
         "name": "State",
         "rawType": "object",
         "type": "unknown"
        },
        {
         "name": "City",
         "rawType": "object",
         "type": "string"
        },
        {
         "name": "Latitude",
         "rawType": "float64",
         "type": "float"
        },
        {
         "name": "Longitude",
         "rawType": "float64",
         "type": "float"
        },
        {
         "name": "Active",
         "rawType": "bool",
         "type": "boolean"
        },
        {
         "name": "Scraped During Month",
         "rawType": "bool",
         "type": "boolean"
        },
        {
         "name": "Currency Native",
         "rawType": "object",
         "type": "string"
        },
        {
         "name": "Airbnb Property ID",
         "rawType": "float64",
         "type": "float"
        },
        {
         "name": "HomeAway Property Manager",
         "rawType": "object",
         "type": "unknown"
        }
       ],
       "conversionMethod": "pd.DataFrame",
       "ref": "33967306-7b07-4562-aa29-8ad674a6f152",
       "rows": [
        [
         "0",
         "ab-295403",
         "Entire apartment",
         "Entire home/apt",
         "2",
         "2016-06-01",
         "0.0",
         "0.0",
         "0.0",
         null,
         null,
         "0",
         "0",
         "0",
         "30",
         "Spain",
         null,
         "Guardamar del Segura",
         "38.09555946723424",
         "-0.65612200462782",
         "False",
         "True",
         "EUR",
         "295403.0",
         null
        ],
        [
         "1",
         "ab-295403",
         "Entire apartment",
         "Entire home/apt",
         "2",
         "2016-07-01",
         "0.0",
         "0.0",
         "0.0",
         null,
         null,
         "0",
         "0",
         "0",
         "31",
         "Spain",
         null,
         "Guardamar del Segura",
         "38.09555946723424",
         "-0.65612200462782",
         "False",
         "True",
         "EUR",
         "295403.0",
         null
        ],
        [
         "2",
         "ab-295403",
         "Entire apartment",
         "Entire home/apt",
         "2",
         "2016-08-01",
         "0.0",
         "0.0",
         "0.0",
         null,
         null,
         "0",
         "0",
         "0",
         "31",
         "Spain",
         null,
         "Guardamar del Segura",
         "38.09555946723424",
         "-0.65612200462782",
         "False",
         "False",
         "EUR",
         "295403.0",
         null
        ]
       ],
       "shape": {
        "columns": 24,
        "rows": 3
       }
      },
      "text/html": [
       "<div>\n",
       "<style scoped>\n",
       "    .dataframe tbody tr th:only-of-type {\n",
       "        vertical-align: middle;\n",
       "    }\n",
       "\n",
       "    .dataframe tbody tr th {\n",
       "        vertical-align: top;\n",
       "    }\n",
       "\n",
       "    .dataframe thead th {\n",
       "        text-align: right;\n",
       "    }\n",
       "</style>\n",
       "<table border=\"1\" class=\"dataframe\">\n",
       "  <thead>\n",
       "    <tr style=\"text-align: right;\">\n",
       "      <th></th>\n",
       "      <th>Property ID</th>\n",
       "      <th>Property Type</th>\n",
       "      <th>Listing Type</th>\n",
       "      <th>Bedrooms</th>\n",
       "      <th>Reporting Month</th>\n",
       "      <th>Occupancy Rate</th>\n",
       "      <th>Revenue (USD)</th>\n",
       "      <th>Revenue (Native)</th>\n",
       "      <th>ADR (USD)</th>\n",
       "      <th>ADR (Native)</th>\n",
       "      <th>...</th>\n",
       "      <th>Country</th>\n",
       "      <th>State</th>\n",
       "      <th>City</th>\n",
       "      <th>Latitude</th>\n",
       "      <th>Longitude</th>\n",
       "      <th>Active</th>\n",
       "      <th>Scraped During Month</th>\n",
       "      <th>Currency Native</th>\n",
       "      <th>Airbnb Property ID</th>\n",
       "      <th>HomeAway Property Manager</th>\n",
       "    </tr>\n",
       "  </thead>\n",
       "  <tbody>\n",
       "    <tr>\n",
       "      <th>0</th>\n",
       "      <td>ab-295403</td>\n",
       "      <td>Entire apartment</td>\n",
       "      <td>Entire home/apt</td>\n",
       "      <td>2</td>\n",
       "      <td>2016-06-01</td>\n",
       "      <td>0.0</td>\n",
       "      <td>0.0</td>\n",
       "      <td>0.0</td>\n",
       "      <td>NaN</td>\n",
       "      <td>NaN</td>\n",
       "      <td>...</td>\n",
       "      <td>Spain</td>\n",
       "      <td>NaN</td>\n",
       "      <td>Guardamar del Segura</td>\n",
       "      <td>38.095559</td>\n",
       "      <td>-0.656122</td>\n",
       "      <td>False</td>\n",
       "      <td>True</td>\n",
       "      <td>EUR</td>\n",
       "      <td>295403.0</td>\n",
       "      <td>NaN</td>\n",
       "    </tr>\n",
       "    <tr>\n",
       "      <th>1</th>\n",
       "      <td>ab-295403</td>\n",
       "      <td>Entire apartment</td>\n",
       "      <td>Entire home/apt</td>\n",
       "      <td>2</td>\n",
       "      <td>2016-07-01</td>\n",
       "      <td>0.0</td>\n",
       "      <td>0.0</td>\n",
       "      <td>0.0</td>\n",
       "      <td>NaN</td>\n",
       "      <td>NaN</td>\n",
       "      <td>...</td>\n",
       "      <td>Spain</td>\n",
       "      <td>NaN</td>\n",
       "      <td>Guardamar del Segura</td>\n",
       "      <td>38.095559</td>\n",
       "      <td>-0.656122</td>\n",
       "      <td>False</td>\n",
       "      <td>True</td>\n",
       "      <td>EUR</td>\n",
       "      <td>295403.0</td>\n",
       "      <td>NaN</td>\n",
       "    </tr>\n",
       "    <tr>\n",
       "      <th>2</th>\n",
       "      <td>ab-295403</td>\n",
       "      <td>Entire apartment</td>\n",
       "      <td>Entire home/apt</td>\n",
       "      <td>2</td>\n",
       "      <td>2016-08-01</td>\n",
       "      <td>0.0</td>\n",
       "      <td>0.0</td>\n",
       "      <td>0.0</td>\n",
       "      <td>NaN</td>\n",
       "      <td>NaN</td>\n",
       "      <td>...</td>\n",
       "      <td>Spain</td>\n",
       "      <td>NaN</td>\n",
       "      <td>Guardamar del Segura</td>\n",
       "      <td>38.095559</td>\n",
       "      <td>-0.656122</td>\n",
       "      <td>False</td>\n",
       "      <td>False</td>\n",
       "      <td>EUR</td>\n",
       "      <td>295403.0</td>\n",
       "      <td>NaN</td>\n",
       "    </tr>\n",
       "  </tbody>\n",
       "</table>\n",
       "<p>3 rows × 24 columns</p>\n",
       "</div>"
      ],
      "text/plain": [
       "  Property ID     Property Type     Listing Type  Bedrooms Reporting Month  \\\n",
       "0   ab-295403  Entire apartment  Entire home/apt         2      2016-06-01   \n",
       "1   ab-295403  Entire apartment  Entire home/apt         2      2016-07-01   \n",
       "2   ab-295403  Entire apartment  Entire home/apt         2      2016-08-01   \n",
       "\n",
       "   Occupancy Rate  Revenue (USD)  Revenue (Native)  ADR (USD)  ADR (Native)  \\\n",
       "0             0.0            0.0               0.0        NaN           NaN   \n",
       "1             0.0            0.0               0.0        NaN           NaN   \n",
       "2             0.0            0.0               0.0        NaN           NaN   \n",
       "\n",
       "   ...  Country  State                  City   Latitude Longitude Active  \\\n",
       "0  ...    Spain    NaN  Guardamar del Segura  38.095559 -0.656122  False   \n",
       "1  ...    Spain    NaN  Guardamar del Segura  38.095559 -0.656122  False   \n",
       "2  ...    Spain    NaN  Guardamar del Segura  38.095559 -0.656122  False   \n",
       "\n",
       "  Scraped During Month  Currency Native  Airbnb Property ID  \\\n",
       "0                 True              EUR            295403.0   \n",
       "1                 True              EUR            295403.0   \n",
       "2                False              EUR            295403.0   \n",
       "\n",
       "   HomeAway Property Manager  \n",
       "0                        NaN  \n",
       "1                        NaN  \n",
       "2                        NaN  \n",
       "\n",
       "[3 rows x 24 columns]"
      ]
     },
     "execution_count": 3,
     "metadata": {},
     "output_type": "execute_result"
    }
   ],
   "source": [
    "path = os.path.join(os.getcwd(), 'data/processed_monthly.csv')\n",
    "\n",
    "df = pd.read_csv(path, sep=',', decimal='.')\n",
    "\n",
    "df.head(3)"
   ]
  },
  {
   "cell_type": "code",
   "execution_count": 4,
   "id": "abd5bda8",
   "metadata": {},
   "outputs": [
    {
     "name": "stdout",
     "output_type": "stream",
     "text": [
      "<class 'pandas.core.frame.DataFrame'>\n",
      "RangeIndex: 950448 entries, 0 to 950447\n",
      "Data columns (total 24 columns):\n",
      " #   Column                     Non-Null Count   Dtype  \n",
      "---  ------                     --------------   -----  \n",
      " 0   Property ID                950448 non-null  object \n",
      " 1   Property Type              950307 non-null  object \n",
      " 2   Listing Type               950400 non-null  object \n",
      " 3   Bedrooms                   950448 non-null  int64  \n",
      " 4   Reporting Month            950448 non-null  object \n",
      " 5   Occupancy Rate             950448 non-null  float64\n",
      " 6   Revenue (USD)              950448 non-null  float64\n",
      " 7   Revenue (Native)           713678 non-null  float64\n",
      " 8   ADR (USD)                  306907 non-null  float64\n",
      " 9   ADR (Native)               241112 non-null  float64\n",
      " 10  Number of Reservations     950448 non-null  int64  \n",
      " 11  Reservation Days           950448 non-null  int64  \n",
      " 12  Available Days             950448 non-null  int64  \n",
      " 13  Blocked Days               950448 non-null  int64  \n",
      " 14  Country                    950436 non-null  object \n",
      " 15  State                      898336 non-null  object \n",
      " 16  City                       950448 non-null  object \n",
      " 17  Latitude                   950448 non-null  float64\n",
      " 18  Longitude                  950448 non-null  float64\n",
      " 19  Active                     950448 non-null  bool   \n",
      " 20  Scraped During Month       950448 non-null  bool   \n",
      " 21  Currency Native            713678 non-null  object \n",
      " 22  Airbnb Property ID         713690 non-null  float64\n",
      " 23  HomeAway Property Manager  29844 non-null   object \n",
      "dtypes: bool(2), float64(8), int64(5), object(9)\n",
      "memory usage: 161.3+ MB\n"
     ]
    }
   ],
   "source": [
    "df.info()"
   ]
  },
  {
   "cell_type": "code",
   "execution_count": 6,
   "id": "06ee4fd4",
   "metadata": {},
   "outputs": [
    {
     "name": "stdout",
     "output_type": "stream",
     "text": [
      "Número de líneas duplicadas: 0\n",
      "Valores nulos: 3036092\n"
     ]
    }
   ],
   "source": [
    "# Analisis de nulos\n",
    "num_duplicated = df.duplicated().sum()\n",
    "print(f'Número de líneas duplicadas: {num_duplicated}')\n",
    "\n",
    "num_nulls = df.isnull().sum().sum()\n",
    "print(f'Valores nulos: {num_nulls}')"
   ]
  },
  {
   "cell_type": "code",
   "execution_count": 7,
   "id": "c138709e",
   "metadata": {},
   "outputs": [
    {
     "data": {
      "text/plain": [
       "HomeAway Property Manager    920604\n",
       "ADR (Native)                 709336\n",
       "ADR (USD)                    643541\n",
       "Revenue (Native)             236770\n",
       "Currency Native              236770\n",
       "Airbnb Property ID           236758\n",
       "State                         52112\n",
       "Property Type                   141\n",
       "Listing Type                     48\n",
       "Country                          12\n",
       "Revenue (USD)                     0\n",
       "Bedrooms                          0\n",
       "Property ID                       0\n",
       "Occupancy Rate                    0\n",
       "Reporting Month                   0\n",
       "Reservation Days                  0\n",
       "Available Days                    0\n",
       "Blocked Days                      0\n",
       "Number of Reservations            0\n",
       "City                              0\n",
       "Active                            0\n",
       "Longitude                         0\n",
       "Latitude                          0\n",
       "Scraped During Month              0\n",
       "dtype: int64"
      ]
     },
     "execution_count": 7,
     "metadata": {},
     "output_type": "execute_result"
    }
   ],
   "source": [
    "df.isnull().sum().sort_values(ascending=False)"
   ]
  }
 ],
 "metadata": {
  "kernelspec": {
   "display_name": "prvd",
   "language": "python",
   "name": "python3"
  },
  "language_info": {
   "codemirror_mode": {
    "name": "ipython",
    "version": 3
   },
   "file_extension": ".py",
   "mimetype": "text/x-python",
   "name": "python",
   "nbconvert_exporter": "python",
   "pygments_lexer": "ipython3",
   "version": "3.13.1"
  }
 },
 "nbformat": 4,
 "nbformat_minor": 5
}
