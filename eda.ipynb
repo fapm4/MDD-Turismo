{
 "cells": [
  {
   "cell_type": "markdown",
   "id": "d93a0bdc",
   "metadata": {},
   "source": [
    "## Librerías"
   ]
  },
  {
   "cell_type": "code",
   "execution_count": 8,
   "id": "6de9070a",
   "metadata": {},
   "outputs": [],
   "source": [
    "import pandas as pd\n",
    "import matplotlib.pyplot as plt\n",
    "import os\n",
    "from math import ceil\n",
    "import seaborn as sns\n"
   ]
  },
  {
   "cell_type": "markdown",
   "id": "f6518337",
   "metadata": {},
   "source": [
    "## Carga de datos"
   ]
  },
  {
   "cell_type": "markdown",
   "id": "704fbd48",
   "metadata": {},
   "source": [
    "### Monthly Report\n",
    "\n",
    "Monthly performance breakdown for every property in the market. 1 row = 1 month's performance data for a specific property."
   ]
  },
  {
   "cell_type": "markdown",
   "id": "3ab3ca73",
   "metadata": {},
   "source": [
    "Descripción de las columnas:\n",
    "\n",
    "| Variable | Descripción | Relevancia para el estudio de turismo |\n",
    "|----------|-------------|---------------------------------------|\n",
    "- `Property ID`:\n",
    "- `Property Type`:\n",
    "- `Listing Type`:\n",
    "- `Bedrooms`:\n",
    "- `Reporting Month`:\n",
    "- `Occupancy Rate`:\n",
    "- `Revenue (USD)`:\n",
    "- `Revenue(Native)`:\n",
    "- `ADR (USD)`:\n",
    "- `ADR (Native)`:\n",
    "- `Number of Reservations`:\n",
    "- `Reservation Days`:\n",
    "- `Available Days`:\n",
    "- `Blocked Days`:\n",
    "- `Country`:\n",
    "- `State`:\n",
    "- `City`:\n",
    "- `Latitude`:\n",
    "- `Longitude`:\n",
    "- `Active`:\n",
    "- `Scraped During Month`:\n",
    "- `Currency Native`:\n",
    "- `Airbnb Property ID`:\n",
    "- `HomeAway Property Manager`:\n",
    "\n",
    "\n"
   ]
  },
  {
   "cell_type": "code",
   "execution_count": 2,
   "id": "09f2ce8a",
   "metadata": {},
   "outputs": [
    {
     "name": "stderr",
     "output_type": "stream",
     "text": [
      "C:\\Users\\Multivac Desktop\\AppData\\Local\\Temp\\ipykernel_21476\\3927858529.py:3: DtypeWarning: Columns (21,23) have mixed types. Specify dtype option on import or set low_memory=False.\n",
      "  df_monthly = pd.read_csv(path, sep=',', decimal='.')\n"
     ]
    },
    {
     "data": {
      "application/vnd.microsoft.datawrangler.viewer.v0+json": {
       "columns": [
        {
         "name": "index",
         "rawType": "int64",
         "type": "integer"
        },
        {
         "name": "Property ID",
         "rawType": "object",
         "type": "string"
        },
        {
         "name": "Property Type",
         "rawType": "object",
         "type": "string"
        },
        {
         "name": "Listing Type",
         "rawType": "object",
         "type": "string"
        },
        {
         "name": "Bedrooms",
         "rawType": "int64",
         "type": "integer"
        },
        {
         "name": "Reporting Month",
         "rawType": "object",
         "type": "string"
        },
        {
         "name": "Occupancy Rate",
         "rawType": "float64",
         "type": "float"
        },
        {
         "name": "Revenue (USD)",
         "rawType": "float64",
         "type": "float"
        },
        {
         "name": "Revenue (Native)",
         "rawType": "float64",
         "type": "float"
        },
        {
         "name": "ADR (USD)",
         "rawType": "float64",
         "type": "float"
        },
        {
         "name": "ADR (Native)",
         "rawType": "float64",
         "type": "float"
        },
        {
         "name": "Number of Reservations",
         "rawType": "int64",
         "type": "integer"
        },
        {
         "name": "Reservation Days",
         "rawType": "int64",
         "type": "integer"
        },
        {
         "name": "Available Days",
         "rawType": "int64",
         "type": "integer"
        },
        {
         "name": "Blocked Days",
         "rawType": "int64",
         "type": "integer"
        },
        {
         "name": "Country",
         "rawType": "object",
         "type": "string"
        },
        {
         "name": "State",
         "rawType": "object",
         "type": "unknown"
        },
        {
         "name": "City",
         "rawType": "object",
         "type": "string"
        },
        {
         "name": "Latitude",
         "rawType": "float64",
         "type": "float"
        },
        {
         "name": "Longitude",
         "rawType": "float64",
         "type": "float"
        },
        {
         "name": "Active",
         "rawType": "bool",
         "type": "boolean"
        },
        {
         "name": "Scraped During Month",
         "rawType": "bool",
         "type": "boolean"
        },
        {
         "name": "Currency Native",
         "rawType": "object",
         "type": "string"
        },
        {
         "name": "Airbnb Property ID",
         "rawType": "float64",
         "type": "float"
        },
        {
         "name": "HomeAway Property Manager",
         "rawType": "object",
         "type": "unknown"
        }
       ],
       "conversionMethod": "pd.DataFrame",
       "ref": "1d0d7c18-6f3f-4522-af09-6e46f6740fb3",
       "rows": [
        [
         "0",
         "ab-295403",
         "Entire apartment",
         "Entire home/apt",
         "2",
         "2016-06-01",
         "0.0",
         "0.0",
         "0.0",
         null,
         null,
         "0",
         "0",
         "0",
         "30",
         "Spain",
         null,
         "Guardamar del Segura",
         "38.09555946723424",
         "-0.65612200462782",
         "False",
         "True",
         "EUR",
         "295403.0",
         null
        ],
        [
         "1",
         "ab-295403",
         "Entire apartment",
         "Entire home/apt",
         "2",
         "2016-07-01",
         "0.0",
         "0.0",
         "0.0",
         null,
         null,
         "0",
         "0",
         "0",
         "31",
         "Spain",
         null,
         "Guardamar del Segura",
         "38.09555946723424",
         "-0.65612200462782",
         "False",
         "True",
         "EUR",
         "295403.0",
         null
        ],
        [
         "2",
         "ab-295403",
         "Entire apartment",
         "Entire home/apt",
         "2",
         "2016-08-01",
         "0.0",
         "0.0",
         "0.0",
         null,
         null,
         "0",
         "0",
         "0",
         "31",
         "Spain",
         null,
         "Guardamar del Segura",
         "38.09555946723424",
         "-0.65612200462782",
         "False",
         "False",
         "EUR",
         "295403.0",
         null
        ]
       ],
       "shape": {
        "columns": 24,
        "rows": 3
       }
      },
      "text/html": [
       "<div>\n",
       "<style scoped>\n",
       "    .dataframe tbody tr th:only-of-type {\n",
       "        vertical-align: middle;\n",
       "    }\n",
       "\n",
       "    .dataframe tbody tr th {\n",
       "        vertical-align: top;\n",
       "    }\n",
       "\n",
       "    .dataframe thead th {\n",
       "        text-align: right;\n",
       "    }\n",
       "</style>\n",
       "<table border=\"1\" class=\"dataframe\">\n",
       "  <thead>\n",
       "    <tr style=\"text-align: right;\">\n",
       "      <th></th>\n",
       "      <th>Property ID</th>\n",
       "      <th>Property Type</th>\n",
       "      <th>Listing Type</th>\n",
       "      <th>Bedrooms</th>\n",
       "      <th>Reporting Month</th>\n",
       "      <th>Occupancy Rate</th>\n",
       "      <th>Revenue (USD)</th>\n",
       "      <th>Revenue (Native)</th>\n",
       "      <th>ADR (USD)</th>\n",
       "      <th>ADR (Native)</th>\n",
       "      <th>...</th>\n",
       "      <th>Country</th>\n",
       "      <th>State</th>\n",
       "      <th>City</th>\n",
       "      <th>Latitude</th>\n",
       "      <th>Longitude</th>\n",
       "      <th>Active</th>\n",
       "      <th>Scraped During Month</th>\n",
       "      <th>Currency Native</th>\n",
       "      <th>Airbnb Property ID</th>\n",
       "      <th>HomeAway Property Manager</th>\n",
       "    </tr>\n",
       "  </thead>\n",
       "  <tbody>\n",
       "    <tr>\n",
       "      <th>0</th>\n",
       "      <td>ab-295403</td>\n",
       "      <td>Entire apartment</td>\n",
       "      <td>Entire home/apt</td>\n",
       "      <td>2</td>\n",
       "      <td>2016-06-01</td>\n",
       "      <td>0.0</td>\n",
       "      <td>0.0</td>\n",
       "      <td>0.0</td>\n",
       "      <td>NaN</td>\n",
       "      <td>NaN</td>\n",
       "      <td>...</td>\n",
       "      <td>Spain</td>\n",
       "      <td>NaN</td>\n",
       "      <td>Guardamar del Segura</td>\n",
       "      <td>38.095559</td>\n",
       "      <td>-0.656122</td>\n",
       "      <td>False</td>\n",
       "      <td>True</td>\n",
       "      <td>EUR</td>\n",
       "      <td>295403.0</td>\n",
       "      <td>NaN</td>\n",
       "    </tr>\n",
       "    <tr>\n",
       "      <th>1</th>\n",
       "      <td>ab-295403</td>\n",
       "      <td>Entire apartment</td>\n",
       "      <td>Entire home/apt</td>\n",
       "      <td>2</td>\n",
       "      <td>2016-07-01</td>\n",
       "      <td>0.0</td>\n",
       "      <td>0.0</td>\n",
       "      <td>0.0</td>\n",
       "      <td>NaN</td>\n",
       "      <td>NaN</td>\n",
       "      <td>...</td>\n",
       "      <td>Spain</td>\n",
       "      <td>NaN</td>\n",
       "      <td>Guardamar del Segura</td>\n",
       "      <td>38.095559</td>\n",
       "      <td>-0.656122</td>\n",
       "      <td>False</td>\n",
       "      <td>True</td>\n",
       "      <td>EUR</td>\n",
       "      <td>295403.0</td>\n",
       "      <td>NaN</td>\n",
       "    </tr>\n",
       "    <tr>\n",
       "      <th>2</th>\n",
       "      <td>ab-295403</td>\n",
       "      <td>Entire apartment</td>\n",
       "      <td>Entire home/apt</td>\n",
       "      <td>2</td>\n",
       "      <td>2016-08-01</td>\n",
       "      <td>0.0</td>\n",
       "      <td>0.0</td>\n",
       "      <td>0.0</td>\n",
       "      <td>NaN</td>\n",
       "      <td>NaN</td>\n",
       "      <td>...</td>\n",
       "      <td>Spain</td>\n",
       "      <td>NaN</td>\n",
       "      <td>Guardamar del Segura</td>\n",
       "      <td>38.095559</td>\n",
       "      <td>-0.656122</td>\n",
       "      <td>False</td>\n",
       "      <td>False</td>\n",
       "      <td>EUR</td>\n",
       "      <td>295403.0</td>\n",
       "      <td>NaN</td>\n",
       "    </tr>\n",
       "  </tbody>\n",
       "</table>\n",
       "<p>3 rows × 24 columns</p>\n",
       "</div>"
      ],
      "text/plain": [
       "  Property ID     Property Type     Listing Type  Bedrooms Reporting Month  \\\n",
       "0   ab-295403  Entire apartment  Entire home/apt         2      2016-06-01   \n",
       "1   ab-295403  Entire apartment  Entire home/apt         2      2016-07-01   \n",
       "2   ab-295403  Entire apartment  Entire home/apt         2      2016-08-01   \n",
       "\n",
       "   Occupancy Rate  Revenue (USD)  Revenue (Native)  ADR (USD)  ADR (Native)  \\\n",
       "0             0.0            0.0               0.0        NaN           NaN   \n",
       "1             0.0            0.0               0.0        NaN           NaN   \n",
       "2             0.0            0.0               0.0        NaN           NaN   \n",
       "\n",
       "   ...  Country  State                  City   Latitude Longitude Active  \\\n",
       "0  ...    Spain    NaN  Guardamar del Segura  38.095559 -0.656122  False   \n",
       "1  ...    Spain    NaN  Guardamar del Segura  38.095559 -0.656122  False   \n",
       "2  ...    Spain    NaN  Guardamar del Segura  38.095559 -0.656122  False   \n",
       "\n",
       "  Scraped During Month  Currency Native  Airbnb Property ID  \\\n",
       "0                 True              EUR            295403.0   \n",
       "1                 True              EUR            295403.0   \n",
       "2                False              EUR            295403.0   \n",
       "\n",
       "   HomeAway Property Manager  \n",
       "0                        NaN  \n",
       "1                        NaN  \n",
       "2                        NaN  \n",
       "\n",
       "[3 rows x 24 columns]"
      ]
     },
     "execution_count": 2,
     "metadata": {},
     "output_type": "execute_result"
    }
   ],
   "source": [
    "path = os.path.join(os.getcwd(), 'data/processed_monthly.csv')\n",
    "\n",
    "df_monthly = pd.read_csv(path, sep=',', decimal='.')\n",
    "\n",
    "df_monthly.head(3)"
   ]
  },
  {
   "cell_type": "code",
   "execution_count": 6,
   "id": "a75d4d70",
   "metadata": {},
   "outputs": [
    {
     "name": "stdout",
     "output_type": "stream",
     "text": [
      "<class 'pandas.core.frame.DataFrame'>\n",
      "RangeIndex: 950448 entries, 0 to 950447\n",
      "Data columns (total 24 columns):\n",
      " #   Column                     Non-Null Count   Dtype  \n",
      "---  ------                     --------------   -----  \n",
      " 0   Property ID                950448 non-null  object \n",
      " 1   Property Type              950307 non-null  object \n",
      " 2   Listing Type               950400 non-null  object \n",
      " 3   Bedrooms                   950448 non-null  int64  \n",
      " 4   Reporting Month            950448 non-null  object \n",
      " 5   Occupancy Rate             950448 non-null  float64\n",
      " 6   Revenue (USD)              950448 non-null  float64\n",
      " 7   Revenue (Native)           713678 non-null  float64\n",
      " 8   ADR (USD)                  306907 non-null  float64\n",
      " 9   ADR (Native)               241112 non-null  float64\n",
      " 10  Number of Reservations     950448 non-null  int64  \n",
      " 11  Reservation Days           950448 non-null  int64  \n",
      " 12  Available Days             950448 non-null  int64  \n",
      " 13  Blocked Days               950448 non-null  int64  \n",
      " 14  Country                    950436 non-null  object \n",
      " 15  State                      898336 non-null  object \n",
      " 16  City                       950448 non-null  object \n",
      " 17  Latitude                   950448 non-null  float64\n",
      " 18  Longitude                  950448 non-null  float64\n",
      " 19  Active                     950448 non-null  bool   \n",
      " 20  Scraped During Month       950448 non-null  bool   \n",
      " 21  Currency Native            713678 non-null  object \n",
      " 22  Airbnb Property ID         713690 non-null  float64\n",
      " 23  HomeAway Property Manager  29844 non-null   object \n",
      "dtypes: bool(2), float64(8), int64(5), object(9)\n",
      "memory usage: 161.3+ MB\n"
     ]
    }
   ],
   "source": [
    "df_monthly.info()"
   ]
  },
  {
   "cell_type": "markdown",
   "id": "04130b64",
   "metadata": {},
   "source": [
    "### Extended Report\n",
    "\n",
    "An index of properties in the market. It holds some performance data, but this file's main purpose is to report on listing characteristics."
   ]
  },
  {
   "cell_type": "markdown",
   "id": "fa974d45",
   "metadata": {},
   "source": [
    "| Variable | Descripción | Relevancia para el estudio de turismo |\n",
    "|----------|-------------|---------------------------------------|\n",
    "| `distancia_ayuntamiento_km` | Distancia (en km) desde cada alojamiento al ayuntamiento del municipio | Proximidad al centro administrativo / centro urbano (acceso a servicios, vida local) |\n",
    "| `distancia_playa_km` | Distancia (en km) desde cada alojamiento a la playa más cercana | Factor clave para turismo de sol y playa (atractivo principal en Costa Blanca) |\n",
    "| `distancia_poi_mas_cercano_km` | Distancia (en m) al punto de interés turístico más cercano | Medida de accesibilidad a atracciones culturales / turísticas |\n",
    "| `distancia_supermercado_mas_cercano_km` | Distancia (en m) al supermercado más cercano | Comodidad para estancias largas / turismo residencial |\n",
    "| `distancia_parada_bus_mas_cercana_km` | Distancia (en m) a la parada de autobús más cercana | Accesibilidad mediante transporte público, movilidad sin coche |\n",
    "| `num_pois_2km` | Número de puntos de interés turístico en un radio de 2 km | Densidad de atracciones cercanas (entorno atractivo) |\n",
    "| `num_supermercados_2km` | Número de supermercados en un radio de 2 km | Acceso a compras de proximidad |\n",
    "| `num_paradas_bus_2km` | Número de paradas de autobús en un radio de 2 km | Acceso a transporte público local |\n",
    "| `num_restaurantes_2km` | Número de restaurantes en un radio de 2 km | Oferta gastronómica accesible |"
   ]
  },
  {
   "cell_type": "code",
   "execution_count": 17,
   "id": "5e6079cc",
   "metadata": {},
   "outputs": [
    {
     "name": "stderr",
     "output_type": "stream",
     "text": [
      "C:\\Users\\Multivac Desktop\\AppData\\Local\\Temp\\ipykernel_21476\\1752036324.py:3: DtypeWarning: Columns (48,56,57,59) have mixed types. Specify dtype option on import or set low_memory=False.\n",
      "  df_extended = pd.read_csv(path, sep=',', decimal='.')\n"
     ]
    },
    {
     "data": {
      "application/vnd.microsoft.datawrangler.viewer.v0+json": {
       "columns": [
        {
         "name": "index",
         "rawType": "int64",
         "type": "integer"
        },
        {
         "name": "Property ID",
         "rawType": "object",
         "type": "string"
        },
        {
         "name": "Listing Title",
         "rawType": "object",
         "type": "string"
        },
        {
         "name": "Property Type",
         "rawType": "object",
         "type": "string"
        },
        {
         "name": "Listing Type",
         "rawType": "object",
         "type": "string"
        },
        {
         "name": "Created Date",
         "rawType": "object",
         "type": "string"
        },
        {
         "name": "Last Scraped Date",
         "rawType": "object",
         "type": "string"
        },
        {
         "name": "Country",
         "rawType": "object",
         "type": "string"
        },
        {
         "name": "State",
         "rawType": "object",
         "type": "unknown"
        },
        {
         "name": "City",
         "rawType": "object",
         "type": "string"
        },
        {
         "name": "Currency Native",
         "rawType": "object",
         "type": "string"
        },
        {
         "name": "Average Daily Rate (USD)",
         "rawType": "float64",
         "type": "float"
        },
        {
         "name": "Average Daily Rate (Native)",
         "rawType": "float64",
         "type": "float"
        },
        {
         "name": "Annual Revenue LTM (USD)",
         "rawType": "float64",
         "type": "float"
        },
        {
         "name": "Annual Revenue LTM (Native)",
         "rawType": "float64",
         "type": "float"
        },
        {
         "name": "Occupancy Rate LTM",
         "rawType": "float64",
         "type": "float"
        },
        {
         "name": "Number of Bookings LTM",
         "rawType": "float64",
         "type": "float"
        },
        {
         "name": "Number of Reviews",
         "rawType": "float64",
         "type": "float"
        },
        {
         "name": "Bedrooms",
         "rawType": "int64",
         "type": "integer"
        },
        {
         "name": "Bathrooms",
         "rawType": "float64",
         "type": "float"
        },
        {
         "name": "Max Guests",
         "rawType": "int64",
         "type": "integer"
        },
        {
         "name": "Calendar Last Updated",
         "rawType": "object",
         "type": "string"
        },
        {
         "name": "Response Rate",
         "rawType": "float64",
         "type": "float"
        },
        {
         "name": "Airbnb Response Time (Text)",
         "rawType": "object",
         "type": "unknown"
        },
        {
         "name": "Airbnb Superhost",
         "rawType": "object",
         "type": "unknown"
        },
        {
         "name": "HomeAway Premier Partner",
         "rawType": "object",
         "type": "unknown"
        },
        {
         "name": "Cancellation Policy",
         "rawType": "object",
         "type": "string"
        },
        {
         "name": "Security Deposit (USD)",
         "rawType": "float64",
         "type": "float"
        },
        {
         "name": "Security Deposit (Native)",
         "rawType": "float64",
         "type": "float"
        },
        {
         "name": "Cleaning Fee (USD)",
         "rawType": "float64",
         "type": "float"
        },
        {
         "name": "Cleaning Fee (Native)",
         "rawType": "float64",
         "type": "float"
        },
        {
         "name": "Extra People Fee (USD)",
         "rawType": "float64",
         "type": "float"
        },
        {
         "name": "Extra People Fee (Native)",
         "rawType": "float64",
         "type": "float"
        },
        {
         "name": "Published Nightly Rate (USD)",
         "rawType": "float64",
         "type": "float"
        },
        {
         "name": "Published Monthly Rate (USD)",
         "rawType": "float64",
         "type": "float"
        },
        {
         "name": "Published Weekly Rate (USD)",
         "rawType": "float64",
         "type": "float"
        },
        {
         "name": "Check-in Time",
         "rawType": "object",
         "type": "string"
        },
        {
         "name": "Checkout Time",
         "rawType": "object",
         "type": "string"
        },
        {
         "name": "Minimum Stay",
         "rawType": "float64",
         "type": "float"
        },
        {
         "name": "Count Reservation Days LTM",
         "rawType": "float64",
         "type": "float"
        },
        {
         "name": "Count Available Days LTM",
         "rawType": "float64",
         "type": "float"
        },
        {
         "name": "Count Blocked Days LTM",
         "rawType": "float64",
         "type": "float"
        },
        {
         "name": "Number of Photos",
         "rawType": "float64",
         "type": "float"
        },
        {
         "name": "Instantbook Enabled",
         "rawType": "bool",
         "type": "boolean"
        },
        {
         "name": "Listing URL",
         "rawType": "object",
         "type": "string"
        },
        {
         "name": "Listing Main Image URL",
         "rawType": "object",
         "type": "string"
        },
        {
         "name": "Listing Images",
         "rawType": "object",
         "type": "string"
        },
        {
         "name": "Latitude",
         "rawType": "float64",
         "type": "float"
        },
        {
         "name": "Longitude",
         "rawType": "float64",
         "type": "float"
        },
        {
         "name": "Exact Location",
         "rawType": "object",
         "type": "unknown"
        },
        {
         "name": "Overall Rating",
         "rawType": "float64",
         "type": "float"
        },
        {
         "name": "Airbnb Communication Rating",
         "rawType": "float64",
         "type": "float"
        },
        {
         "name": "Airbnb Accuracy Rating",
         "rawType": "float64",
         "type": "float"
        },
        {
         "name": "Airbnb Cleanliness Rating",
         "rawType": "float64",
         "type": "float"
        },
        {
         "name": "Airbnb Checkin Rating",
         "rawType": "float64",
         "type": "float"
        },
        {
         "name": "Airbnb Location Rating",
         "rawType": "float64",
         "type": "float"
        },
        {
         "name": "Airbnb Value Rating",
         "rawType": "float64",
         "type": "float"
        },
        {
         "name": "Pets Allowed",
         "rawType": "object",
         "type": "unknown"
        },
        {
         "name": "Integrated Property Manager",
         "rawType": "object",
         "type": "unknown"
        },
        {
         "name": "Amenities",
         "rawType": "object",
         "type": "string"
        },
        {
         "name": "HomeAway Location Type",
         "rawType": "object",
         "type": "unknown"
        },
        {
         "name": "Airbnb Property Plus",
         "rawType": "object",
         "type": "unknown"
        },
        {
         "name": "License",
         "rawType": "object",
         "type": "unknown"
        },
        {
         "name": "Airbnb Property ID",
         "rawType": "float64",
         "type": "float"
        },
        {
         "name": "distancia_ayuntamiento_km",
         "rawType": "float64",
         "type": "float"
        },
        {
         "name": "distancia_playa_km",
         "rawType": "float64",
         "type": "float"
        },
        {
         "name": "Dist_POI_m",
         "rawType": "float64",
         "type": "float"
        },
        {
         "name": "N_POI_2km",
         "rawType": "int64",
         "type": "integer"
        },
        {
         "name": "Dist_Supermercado_m",
         "rawType": "float64",
         "type": "float"
        },
        {
         "name": "N_Supermercado_2km",
         "rawType": "int64",
         "type": "integer"
        },
        {
         "name": "Dist_ParadaBus_m",
         "rawType": "float64",
         "type": "float"
        },
        {
         "name": "N_ParadaBus_2km",
         "rawType": "int64",
         "type": "integer"
        },
        {
         "name": "N_Restaurante_2km",
         "rawType": "int64",
         "type": "integer"
        }
       ],
       "conversionMethod": "pd.DataFrame",
       "ref": "5398cbb4-6f11-45f5-a53b-55f0757d5bc4",
       "rows": [
        [
         "0",
         "ab-295403",
         "A top floor apartment by the sea",
         "Entire apartment",
         "Entire home/apt",
         "2011-12-24",
         "2017-12-19",
         "Spain",
         null,
         "Guardamar del Segura",
         "EUR",
         null,
         null,
         null,
         null,
         null,
         null,
         "18.0",
         "2",
         "1.0",
         "4",
         "2017-07-14",
         "0.0",
         null,
         "False",
         null,
         "strict",
         "243.0",
         "200.0",
         "73.0",
         "60.0",
         "85.0",
         "70.0",
         "158.0",
         "2378.0",
         "358.0",
         "Anytime after 3PM",
         "12PM (noon)",
         "3.0",
         null,
         null,
         null,
         "18.0",
         "False",
         "https://www.airbnb.com/rooms/295403",
         "https://a0.muscache.com/im/pictures/4898056/697f5219_original.jpg?aki_policy=x_large",
         "['https://a0.muscache.com/im/pictures/4898056/697f5219_original.jpg', 'https://a0.muscache.com/im/pictures/4897905/877bb4b0_original.jpg', 'https://a0.muscache.com/im/pictures/4897941/b392d812_original.jpg', 'https://a0.muscache.com/im/pictures/4897965/43b0253f_original.jpg', 'https://a0.muscache.com/im/pictures/4898002/cc69b484_original.jpg', 'https://a0.muscache.com/im/pictures/4898042/4bdb3c7c_original.jpg', 'https://a0.muscache.com/im/pictures/4898071/dd93150c_original.jpg', 'https://a0.muscache.com/im/pictures/4898093/08c4deba_original.jpg', 'https://a0.muscache.com/im/pictures/4898104/61aef837_original.jpg', 'https://a0.muscache.com/im/pictures/4898127/ccfebb23_original.jpg', 'https://a0.muscache.com/im/pictures/4898146/99cf37e7_original.jpg', 'https://a0.muscache.com/im/pictures/4898133/ff06a361_original.jpg', 'https://a0.muscache.com/im/pictures/4407632/99d93093_original.jpg', 'https://a0.muscache.com/im/pictures/4407636/70f48bd6_original.jpg', 'https://a0.muscache.com/im/pictures/4407681/453e0263_original.jpg', 'https://a0.muscache.com/im/pictures/4897879/341c0238_original.jpg', 'https://a0.muscache.com/im/pictures/4407703/97abd0fb_original.jpg', 'https://a0.muscache.com/im/pictures/4407720/a9e13fd6_original.jpg']",
         "38.09555946723424",
         "-0.65612200462782",
         "False",
         "93.0",
         "10.0",
         "10.0",
         "9.0",
         "10.0",
         "9.0",
         "9.0",
         "True",
         null,
         "[\"kitchen\", \"tv\", \"heating\", \"ac\", \"washer\", \"free_parking\", \"wireless_internet\", \"allows_pets\", \"family_friendly\", \"wheelchair_accessible\", \"elevator\"]",
         null,
         null,
         null,
         "295403.0",
         "0.6336518947279446",
         "1.4199843809155483",
         "165.89060323551055",
         "20",
         "335.75859125931925",
         "4",
         "150.92847766246268",
         "31",
         "60"
        ],
        [
         "1",
         "ab-484366",
         "Beach house 300m from the sea Spain",
         "Home",
         "Entire home/apt",
         "2012-05-16",
         "2023-11-15",
         "Spain",
         "Alicante",
         "Guardamar del Segura",
         "EUR",
         "119.83",
         "107.46",
         "5033.0",
         "4514.0",
         "0.875",
         "2.0",
         "29.0",
         "2",
         "2.0",
         "5",
         "2019-03-06",
         "0.0",
         "a few days or more",
         "False",
         "True",
         "moderate",
         "567.0",
         "500.0",
         "214.0",
         "200.0",
         null,
         null,
         "107.0",
         "2835.0",
         "794.0",
         "After 12:00 AM",
         "12:00 AM",
         "7.0",
         "42.0",
         "6.0",
         "44.0",
         "21.0",
         "False",
         "https://www.airbnb.com/rooms/484366",
         "https://a0.muscache.com/im/pictures/5747232/742bb424_original.jpg?aki_policy=x_large",
         "['https://a0.muscache.com/im/pictures/5747232/742bb424_original.jpg', 'https://a0.muscache.com/im/pictures/6158216/385b5677_original.jpg', 'https://a0.muscache.com/im/pictures/64384947/03544625_original.jpg', 'https://a0.muscache.com/im/pictures/64384954/d6d72d79_original.jpg', 'https://a0.muscache.com/im/pictures/5747225/6dbbcbbd_original.jpg', 'https://a0.muscache.com/im/pictures/6158020/b307397b_original.jpg', 'https://a0.muscache.com/im/pictures/6157443/d6c0313c_original.jpg', 'https://a0.muscache.com/im/pictures/6157494/4693166a_original.jpg', 'https://a0.muscache.com/im/pictures/6157553/6a63f02a_original.jpg', 'https://a0.muscache.com/im/pictures/6157612/8a009b25_original.jpg', 'https://a0.muscache.com/im/pictures/6157646/cc931133_original.jpg', 'https://a0.muscache.com/im/pictures/6157688/e3d4ded5_original.jpg', 'https://a0.muscache.com/im/pictures/6157718/b2b1886f_original.jpg', 'https://a0.muscache.com/im/pictures/6157749/2b9917e1_original.jpg', 'https://a0.muscache.com/im/pictures/6157807/0f74cb31_original.jpg', 'https://a0.muscache.com/im/pictures/6157844/1a4c2cf1_original.jpg', 'https://a0.muscache.com/im/pictures/6157778/c7e51454_original.jpg', 'https://a0.muscache.com/im/pictures/6157870/58be28bd_original.jpg', 'https://a0.muscache.com/im/pictures/6157989/e3b62d43_original.jpg', 'https://a0.muscache.com/im/pictures/6157943/e881efcd_original.jpg', 'https://a0.muscache.com/im/pictures/6157908/93c0de07_original.jpg']",
         "38.06359",
         "-0.65306",
         "False",
         "95.0",
         "10.0",
         "10.0",
         "9.0",
         "10.0",
         "9.0",
         "9.0",
         "False",
         null,
         "[\"free_parking\", \"wireless_internet\", \"fireplace\", \"cable\", \"kitchen\", \"ac\", \"heating\", \"pool\", \"tv\"]",
         null,
         "False",
         null,
         "484366.0",
         "2.947032662148421",
         "1.7791206623232068",
         "232.15164220588963",
         "2",
         "1112.3857955347348",
         "1",
         "280.1145971361298",
         "12",
         "11"
        ],
        [
         "2",
         "ab-608855",
         "Ven a tomar el sol al Mediterráneo",
         "Apartment",
         "Entire home/apt",
         "2012-07-21",
         "2021-02-09",
         "Spain",
         "Alicante",
         "Guardamar del Segura",
         "EUR",
         null,
         null,
         null,
         null,
         null,
         null,
         "47.0",
         "2",
         "1.0",
         "4",
         "2019-07-29",
         "100.0",
         "within a day",
         "False",
         null,
         "strict_14_with_grace_period",
         "224.0",
         "200.0",
         "36.0",
         "39.0",
         "11.0",
         "10.0",
         "32.0",
         "2010.0",
         "503.0",
         "3:00 PM - 10:00 PM",
         "12:00 PM",
         "20.0",
         null,
         null,
         null,
         "24.0",
         "False",
         "https://www.airbnb.com/rooms/608855",
         "https://a0.muscache.com/im/pictures/14234393/a2d7e728_original.jpg?aki_policy=x_large",
         "['https://a0.muscache.com/im/pictures/14234393/a2d7e728_original.jpg', 'https://a0.muscache.com/im/pictures/14234441/9a9e28f4_original.jpg', 'https://a0.muscache.com/im/pictures/14234470/4aea2f44_original.jpg', 'https://a0.muscache.com/im/pictures/f75c8bc3-4fa3-4a3e-894b-c4e30e11b5d6.jpg', 'https://a0.muscache.com/im/pictures/53735cbb-b34c-4c82-9a5a-17e4974fae00.jpg', 'https://a0.muscache.com/im/pictures/29072604-3d74-44e0-9b8a-a9cbed99dded.jpg', 'https://a0.muscache.com/im/pictures/14234571/3c580ddf_original.jpg', 'https://a0.muscache.com/im/pictures/74937873/95551b1c_original.jpg', 'https://a0.muscache.com/im/pictures/5662acc0-5615-497f-b8bd-390f78ee4b96.jpg', 'https://a0.muscache.com/im/pictures/14234433/f2cab0df_original.jpg', 'https://a0.muscache.com/im/pictures/14234342/1b5fe6d4_original.jpg', 'https://a0.muscache.com/im/pictures/14234408/ff3b3d00_original.jpg', 'https://a0.muscache.com/im/pictures/14234482/39c9d439_original.jpg', 'https://a0.muscache.com/im/pictures/14234455/a9dc4ded_original.jpg', 'https://a0.muscache.com/im/pictures/14234520/d640778b_original.jpg', 'https://a0.muscache.com/im/pictures/14234530/8bd110da_original.jpg', 'https://a0.muscache.com/im/pictures/14234533/4ae877bd_original.jpg', 'https://a0.muscache.com/im/pictures/14234548/ef628399_original.jpg', 'https://a0.muscache.com/im/pictures/14234557/6f9b2bf4_original.jpg', 'https://a0.muscache.com/im/pictures/22762f3d-2fdf-41be-a193-3d8f4284665b.jpg', 'https://a0.muscache.com/im/pictures/f8456660-8641-43d9-9db7-96a58a393b44.jpg', 'https://a0.muscache.com/im/pictures/14234565/d7f66bf8_original.jpg', 'https://a0.muscache.com/im/pictures/14234544/1006030b_original.jpg', 'https://a0.muscache.com/im/pictures/3e0363e8-472e-41d3-9dbc-31ea60f078b9.jpg']",
         "38.082",
         "-0.652",
         "True",
         "88.0",
         "9.0",
         "9.0",
         "9.0",
         "9.0",
         "9.0",
         "9.0",
         "False",
         null,
         "[\"elevator\", \"free_parking\", \"wireless_internet\", \"laptop-friendly\", \"kitchen\", \"ac\", \"heating\", \"hair-dryer\", \"hangers\", \"iron\", \"shampoo\", \"washer\", \"essentials\", \"tv\", \"hot_water\", \"bed_linens\", \"extra_pillows_and_blankets\", \"coffee_maker\", \"cooking_basics\", \"dishes_and_silverware\", \"microwave\", \"oven\", \"refrigerator\", \"stove\", \"waterfront\", \"beach_essentials\", \"patio_or_balcony\", \"street_parking\", \"long_term_stays_allowed\", \"luggage_dropoff_allowed\", \"host_checkin\"]",
         null,
         "False",
         "VT-460933-A",
         "608855.0",
         "0.9176454284467462",
         "0.4927964742403576",
         "181.470750780636",
         "18",
         "467.3561950400324",
         "4",
         "205.0492527883888",
         "36",
         "62"
        ]
       ],
       "shape": {
        "columns": 72,
        "rows": 3
       }
      },
      "text/html": [
       "<div>\n",
       "<style scoped>\n",
       "    .dataframe tbody tr th:only-of-type {\n",
       "        vertical-align: middle;\n",
       "    }\n",
       "\n",
       "    .dataframe tbody tr th {\n",
       "        vertical-align: top;\n",
       "    }\n",
       "\n",
       "    .dataframe thead th {\n",
       "        text-align: right;\n",
       "    }\n",
       "</style>\n",
       "<table border=\"1\" class=\"dataframe\">\n",
       "  <thead>\n",
       "    <tr style=\"text-align: right;\">\n",
       "      <th></th>\n",
       "      <th>Property ID</th>\n",
       "      <th>Listing Title</th>\n",
       "      <th>Property Type</th>\n",
       "      <th>Listing Type</th>\n",
       "      <th>Created Date</th>\n",
       "      <th>Last Scraped Date</th>\n",
       "      <th>Country</th>\n",
       "      <th>State</th>\n",
       "      <th>City</th>\n",
       "      <th>Currency Native</th>\n",
       "      <th>...</th>\n",
       "      <th>Airbnb Property ID</th>\n",
       "      <th>distancia_ayuntamiento_km</th>\n",
       "      <th>distancia_playa_km</th>\n",
       "      <th>Dist_POI_m</th>\n",
       "      <th>N_POI_2km</th>\n",
       "      <th>Dist_Supermercado_m</th>\n",
       "      <th>N_Supermercado_2km</th>\n",
       "      <th>Dist_ParadaBus_m</th>\n",
       "      <th>N_ParadaBus_2km</th>\n",
       "      <th>N_Restaurante_2km</th>\n",
       "    </tr>\n",
       "  </thead>\n",
       "  <tbody>\n",
       "    <tr>\n",
       "      <th>0</th>\n",
       "      <td>ab-295403</td>\n",
       "      <td>A top floor apartment by the sea</td>\n",
       "      <td>Entire apartment</td>\n",
       "      <td>Entire home/apt</td>\n",
       "      <td>2011-12-24</td>\n",
       "      <td>2017-12-19</td>\n",
       "      <td>Spain</td>\n",
       "      <td>NaN</td>\n",
       "      <td>Guardamar del Segura</td>\n",
       "      <td>EUR</td>\n",
       "      <td>...</td>\n",
       "      <td>295403.0</td>\n",
       "      <td>0.633652</td>\n",
       "      <td>1.419984</td>\n",
       "      <td>165.890603</td>\n",
       "      <td>20</td>\n",
       "      <td>335.758591</td>\n",
       "      <td>4</td>\n",
       "      <td>150.928478</td>\n",
       "      <td>31</td>\n",
       "      <td>60</td>\n",
       "    </tr>\n",
       "    <tr>\n",
       "      <th>1</th>\n",
       "      <td>ab-484366</td>\n",
       "      <td>Beach house 300m from the sea Spain</td>\n",
       "      <td>Home</td>\n",
       "      <td>Entire home/apt</td>\n",
       "      <td>2012-05-16</td>\n",
       "      <td>2023-11-15</td>\n",
       "      <td>Spain</td>\n",
       "      <td>Alicante</td>\n",
       "      <td>Guardamar del Segura</td>\n",
       "      <td>EUR</td>\n",
       "      <td>...</td>\n",
       "      <td>484366.0</td>\n",
       "      <td>2.947033</td>\n",
       "      <td>1.779121</td>\n",
       "      <td>232.151642</td>\n",
       "      <td>2</td>\n",
       "      <td>1112.385796</td>\n",
       "      <td>1</td>\n",
       "      <td>280.114597</td>\n",
       "      <td>12</td>\n",
       "      <td>11</td>\n",
       "    </tr>\n",
       "    <tr>\n",
       "      <th>2</th>\n",
       "      <td>ab-608855</td>\n",
       "      <td>Ven a tomar el sol al Mediterráneo</td>\n",
       "      <td>Apartment</td>\n",
       "      <td>Entire home/apt</td>\n",
       "      <td>2012-07-21</td>\n",
       "      <td>2021-02-09</td>\n",
       "      <td>Spain</td>\n",
       "      <td>Alicante</td>\n",
       "      <td>Guardamar del Segura</td>\n",
       "      <td>EUR</td>\n",
       "      <td>...</td>\n",
       "      <td>608855.0</td>\n",
       "      <td>0.917645</td>\n",
       "      <td>0.492796</td>\n",
       "      <td>181.470751</td>\n",
       "      <td>18</td>\n",
       "      <td>467.356195</td>\n",
       "      <td>4</td>\n",
       "      <td>205.049253</td>\n",
       "      <td>36</td>\n",
       "      <td>62</td>\n",
       "    </tr>\n",
       "  </tbody>\n",
       "</table>\n",
       "<p>3 rows × 72 columns</p>\n",
       "</div>"
      ],
      "text/plain": [
       "  Property ID                        Listing Title     Property Type  \\\n",
       "0   ab-295403     A top floor apartment by the sea  Entire apartment   \n",
       "1   ab-484366  Beach house 300m from the sea Spain              Home   \n",
       "2   ab-608855   Ven a tomar el sol al Mediterráneo         Apartment   \n",
       "\n",
       "      Listing Type Created Date Last Scraped Date Country     State  \\\n",
       "0  Entire home/apt   2011-12-24        2017-12-19   Spain       NaN   \n",
       "1  Entire home/apt   2012-05-16        2023-11-15   Spain  Alicante   \n",
       "2  Entire home/apt   2012-07-21        2021-02-09   Spain  Alicante   \n",
       "\n",
       "                   City Currency Native  ...  Airbnb Property ID  \\\n",
       "0  Guardamar del Segura             EUR  ...            295403.0   \n",
       "1  Guardamar del Segura             EUR  ...            484366.0   \n",
       "2  Guardamar del Segura             EUR  ...            608855.0   \n",
       "\n",
       "   distancia_ayuntamiento_km  distancia_playa_km  Dist_POI_m  N_POI_2km  \\\n",
       "0                   0.633652            1.419984  165.890603         20   \n",
       "1                   2.947033            1.779121  232.151642          2   \n",
       "2                   0.917645            0.492796  181.470751         18   \n",
       "\n",
       "   Dist_Supermercado_m  N_Supermercado_2km  Dist_ParadaBus_m  N_ParadaBus_2km  \\\n",
       "0           335.758591                   4        150.928478               31   \n",
       "1          1112.385796                   1        280.114597               12   \n",
       "2           467.356195                   4        205.049253               36   \n",
       "\n",
       "   N_Restaurante_2km  \n",
       "0                 60  \n",
       "1                 11  \n",
       "2                 62  \n",
       "\n",
       "[3 rows x 72 columns]"
      ]
     },
     "execution_count": 17,
     "metadata": {},
     "output_type": "execute_result"
    }
   ],
   "source": [
    "path = os.path.join(os.getcwd(), 'data/processed_extended.csv')\n",
    "\n",
    "df_extended = pd.read_csv(path, sep=',', decimal='.')\n",
    "\n",
    "df_extended.head(3)"
   ]
  },
  {
   "cell_type": "code",
   "execution_count": 13,
   "id": "463dee69",
   "metadata": {},
   "outputs": [
    {
     "data": {
      "text/plain": [
       "Index(['Property ID', 'Listing Title', 'Property Type', 'Listing Type',\n",
       "       'Created Date', 'Last Scraped Date', 'Country', 'State', 'City',\n",
       "       'Currency Native', 'Average Daily Rate (USD)',\n",
       "       'Average Daily Rate (Native)', 'Annual Revenue LTM (USD)',\n",
       "       'Annual Revenue LTM (Native)', 'Occupancy Rate LTM',\n",
       "       'Number of Bookings LTM', 'Number of Reviews', 'Bedrooms', 'Bathrooms',\n",
       "       'Max Guests', 'Calendar Last Updated', 'Response Rate',\n",
       "       'Airbnb Response Time (Text)', 'Airbnb Superhost',\n",
       "       'HomeAway Premier Partner', 'Cancellation Policy',\n",
       "       'Security Deposit (USD)', 'Security Deposit (Native)',\n",
       "       'Cleaning Fee (USD)', 'Cleaning Fee (Native)', 'Extra People Fee (USD)',\n",
       "       'Extra People Fee (Native)', 'Published Nightly Rate (USD)',\n",
       "       'Published Monthly Rate (USD)', 'Published Weekly Rate (USD)',\n",
       "       'Check-in Time', 'Checkout Time', 'Minimum Stay',\n",
       "       'Count Reservation Days LTM', 'Count Available Days LTM',\n",
       "       'Count Blocked Days LTM', 'Number of Photos', 'Instantbook Enabled',\n",
       "       'Listing URL', 'Listing Main Image URL', 'Listing Images', 'Latitude',\n",
       "       'Longitude', 'Exact Location', 'Overall Rating',\n",
       "       'Airbnb Communication Rating', 'Airbnb Accuracy Rating',\n",
       "       'Airbnb Cleanliness Rating', 'Airbnb Checkin Rating',\n",
       "       'Airbnb Location Rating', 'Airbnb Value Rating', 'Pets Allowed',\n",
       "       'Integrated Property Manager', 'Amenities', 'HomeAway Location Type',\n",
       "       'Airbnb Property Plus', 'License', 'Airbnb Property ID',\n",
       "       'distancia_ayuntamiento_km', 'distancia_playa_km', 'Dist_POI_m',\n",
       "       'N_POI_2km', 'Dist_Supermercado_m', 'N_Supermercado_2km',\n",
       "       'Dist_ParadaBus_m', 'N_ParadaBus_2km', 'N_Restaurante_2km'],\n",
       "      dtype='object')"
      ]
     },
     "execution_count": 13,
     "metadata": {},
     "output_type": "execute_result"
    }
   ],
   "source": [
    "df_extended.columns"
   ]
  },
  {
   "cell_type": "markdown",
   "id": "4b35fb23",
   "metadata": {},
   "source": [
    "## Funciones auxiliares"
   ]
  },
  {
   "cell_type": "code",
   "execution_count": 11,
   "id": "9306c92b",
   "metadata": {},
   "outputs": [],
   "source": [
    "def graficos_eda_categoricos(cat):\n",
    "\n",
    "    #Calculamos el número de filas que necesitamos\n",
    "    filas = ceil(cat.shape[1] / 2)\n",
    "\n",
    "    #Definimos el gráfico\n",
    "    f, ax = plt.subplots(nrows = filas, ncols = 2, figsize = (16, filas * 6))\n",
    "\n",
    "    #Aplanamos para iterar por el gráfico como si fuera de 1 dimensión en lugar de 2\n",
    "    ax = ax.flat\n",
    "\n",
    "    #Creamos el bucle que va añadiendo gráficos\n",
    "    for cada, variable in enumerate(cat):\n",
    "        cat[variable].value_counts().plot.barh(ax = ax[cada])\n",
    "        ax[cada].set_title(variable, fontsize = 12, fontweight = \"bold\")\n",
    "        ax[cada].tick_params(labelsize = 12)\n",
    "\n",
    "\n",
    "def estadisticos_cont(num):\n",
    "    #Calculamos describe\n",
    "    estadisticos = num.describe().T\n",
    "    #Añadimos la mediana\n",
    "    estadisticos['median'] = num.median()\n",
    "    #Reordenamos para que la mediana esté al lado de la media\n",
    "    estadisticos = estadisticos.iloc[:,[0,1,8,2,3,4,5,6,7]]\n",
    "    #Lo devolvemos\n",
    "    return(estadisticos)\n",
    "\n",
    "\n",
    "\n",
    "def show_nulls(df):\n",
    "    nulos = df.isnull().sum()\n",
    "\n",
    "    # Para verlo como porcentaje\n",
    "    porcentaje_nulos = (df.isnull().sum() / len(df)) * 100\n",
    "\n",
    "    # Para ver ambos en un DataFrame ordenado por porcentaje de nulos\n",
    "    resumen_nulos = pd.DataFrame({\n",
    "        'Valores Nulos': nulos,\n",
    "        'Porcentaje Nulos': porcentaje_nulos\n",
    "    }).sort_values('Porcentaje Nulos', ascending=False)\n",
    "\n",
    "    plt.figure(figsize=(15, 8))\n",
    "    sns.heatmap(df.isnull(), yticklabels=False, cbar=True, cmap='viridis')\n",
    "    plt.title('Mapa de Calor de Valores Nulos')\n",
    "    plt.show()\n",
    "    print(resumen_nulos.to_string())"
   ]
  },
  {
   "cell_type": "markdown",
   "id": "303a69b7",
   "metadata": {},
   "source": [
    "## Preprocesado"
   ]
  },
  {
   "cell_type": "code",
   "execution_count": 12,
   "id": "06ee4fd4",
   "metadata": {},
   "outputs": [
    {
     "data": {
      "image/png": "[encoded data removed]",
      "text/plain": [
       "<Figure size 1500x800 with 2 Axes>"
      ]
     },
     "metadata": {},
     "output_type": "display_data"
    },
    {
     "name": "stdout",
     "output_type": "stream",
     "text": [
      "                              Valores Nulos  Porcentaje Nulos\n",
      "Extra People Fee (Native)             29999         93.849523\n",
      "Extra People Fee (USD)                29585         92.554356\n",
      "License                               25907         81.048021\n",
      "Integrated Property Manager           25902         81.032379\n",
      "HomeAway Location Type                25844         80.850931\n",
      "Security Deposit (Native)             25253         79.002033\n",
      "Cleaning Fee (Native)                 23880         74.706710\n",
      "HomeAway Premier Partner              23518         73.574222\n",
      "Security Deposit (USD)                23373         73.120601\n",
      "Average Daily Rate (Native)           21942         68.643829\n",
      "Occupancy Rate LTM                    20699         64.755201\n",
      "Average Daily Rate (USD)              20699         64.755201\n",
      "Published Monthly Rate (USD)          20428         63.907399\n",
      "Published Weekly Rate (USD)           20427         63.904270\n",
      "Annual Revenue LTM (Native)           17823         55.757860\n",
      "Airbnb Location Rating                17608         55.085249\n",
      "Airbnb Value Rating                   17607         55.082121\n",
      "Airbnb Checkin Rating                 17606         55.078993\n",
      "Airbnb Communication Rating           17599         55.057094\n",
      "Airbnb Accuracy Rating                17596         55.047708\n",
      "Airbnb Cleanliness Rating             17586         55.016424\n",
      "Annual Revenue LTM (USD)              15598         48.797122\n",
      "Count Blocked Days LTM                15598         48.797122\n",
      "Number of Bookings LTM                15598         48.797122\n",
      "Count Available Days LTM              15598         48.797122\n",
      "Count Reservation Days LTM            15598         48.797122\n",
      "Airbnb Property Plus                  15416         48.227749\n",
      "Overall Rating                        15282         47.808541\n",
      "Number of Reviews                     13099         40.979196\n",
      "Calendar Last Updated                 12233         38.269983\n",
      "Checkout Time                         11945         37.368997\n",
      "Airbnb Response Time (Text)           11476         35.901768\n",
      "Cleaning Fee (USD)                    10220         31.972470\n",
      "Response Rate                          9986         31.240419\n",
      "Airbnb Superhost                       8272         25.878304\n",
      "Check-in Time                          8257         25.831378\n",
      "Published Nightly Rate (USD)           6621         20.713280\n",
      "Currency Native                        6131         19.180354\n",
      "Listing Images                         6121         19.149069\n",
      "Created Date                           6121         19.149069\n",
      "Pets Allowed                           6121         19.149069\n",
      "Airbnb Property ID                     6121         19.149069\n",
      "State                                  2961          9.263257\n",
      "Minimum Stay                            913          2.856249\n",
      "Exact Location                          533          1.667449\n",
      "Cancellation Policy                     310          0.969811\n",
      "Number of Photos                         38          0.118880\n",
      "Property Type                            10          0.031284\n",
      "Listing Title                             6          0.018771\n",
      "Listing Main Image URL                    6          0.018771\n",
      "Listing Type                              4          0.012514\n",
      "Country                                   1          0.003128\n",
      "Last Scraped Date                         0          0.000000\n",
      "Property ID                               0          0.000000\n",
      "Bedrooms                                  0          0.000000\n",
      "Bathrooms                                 0          0.000000\n",
      "City                                      0          0.000000\n",
      "Max Guests                                0          0.000000\n",
      "Latitude                                  0          0.000000\n",
      "Longitude                                 0          0.000000\n",
      "Listing URL                               0          0.000000\n",
      "Instantbook Enabled                       0          0.000000\n",
      "Amenities                                 0          0.000000\n",
      "distancia_ayuntamiento_km                 0          0.000000\n",
      "distancia_playa_km                        0          0.000000\n",
      "Dist_POI_m                                0          0.000000\n",
      "N_POI_2km                                 0          0.000000\n",
      "Dist_Supermercado_m                       0          0.000000\n",
      "N_Supermercado_2km                        0          0.000000\n",
      "Dist_ParadaBus_m                          0          0.000000\n",
      "N_ParadaBus_2km                           0          0.000000\n",
      "N_Restaurante_2km                         0          0.000000\n"
     ]
    }
   ],
   "source": [
    "# Analisis de nulos\n",
    "show_nulls(df_extended)"
   ]
  },
  {
   "cell_type": "markdown",
   "id": "0880d59c",
   "metadata": {},
   "source": [
    "Las columnas que tienen demasiados nulos (>50%) las eliminamos"
   ]
  },
  {
   "cell_type": "code",
   "execution_count": 18,
   "id": "ec2e2227",
   "metadata": {},
   "outputs": [
    {
     "data": {
      "application/vnd.microsoft.datawrangler.viewer.v0+json": {
       "columns": [
        {
         "name": "index",
         "rawType": "int64",
         "type": "integer"
        },
        {
         "name": "Property ID",
         "rawType": "object",
         "type": "string"
        },
        {
         "name": "Listing Title",
         "rawType": "object",
         "type": "string"
        },
        {
         "name": "Property Type",
         "rawType": "object",
         "type": "string"
        },
        {
         "name": "Listing Type",
         "rawType": "object",
         "type": "string"
        },
        {
         "name": "Created Date",
         "rawType": "object",
         "type": "string"
        },
        {
         "name": "Last Scraped Date",
         "rawType": "object",
         "type": "string"
        },
        {
         "name": "Country",
         "rawType": "object",
         "type": "string"
        },
        {
         "name": "State",
         "rawType": "object",
         "type": "unknown"
        },
        {
         "name": "City",
         "rawType": "object",
         "type": "string"
        },
        {
         "name": "Currency Native",
         "rawType": "object",
         "type": "string"
        },
        {
         "name": "Annual Revenue LTM (USD)",
         "rawType": "float64",
         "type": "float"
        },
        {
         "name": "Number of Bookings LTM",
         "rawType": "float64",
         "type": "float"
        },
        {
         "name": "Number of Reviews",
         "rawType": "float64",
         "type": "float"
        },
        {
         "name": "Bedrooms",
         "rawType": "int64",
         "type": "integer"
        },
        {
         "name": "Bathrooms",
         "rawType": "float64",
         "type": "float"
        },
        {
         "name": "Max Guests",
         "rawType": "int64",
         "type": "integer"
        },
        {
         "name": "Calendar Last Updated",
         "rawType": "object",
         "type": "string"
        },
        {
         "name": "Response Rate",
         "rawType": "float64",
         "type": "float"
        },
        {
         "name": "Airbnb Response Time (Text)",
         "rawType": "object",
         "type": "unknown"
        },
        {
         "name": "Airbnb Superhost",
         "rawType": "object",
         "type": "unknown"
        },
        {
         "name": "Cancellation Policy",
         "rawType": "object",
         "type": "string"
        },
        {
         "name": "Cleaning Fee (USD)",
         "rawType": "float64",
         "type": "float"
        },
        {
         "name": "Published Nightly Rate (USD)",
         "rawType": "float64",
         "type": "float"
        },
        {
         "name": "Check-in Time",
         "rawType": "object",
         "type": "string"
        },
        {
         "name": "Checkout Time",
         "rawType": "object",
         "type": "string"
        },
        {
         "name": "Minimum Stay",
         "rawType": "float64",
         "type": "float"
        },
        {
         "name": "Count Reservation Days LTM",
         "rawType": "float64",
         "type": "float"
        },
        {
         "name": "Count Available Days LTM",
         "rawType": "float64",
         "type": "float"
        },
        {
         "name": "Count Blocked Days LTM",
         "rawType": "float64",
         "type": "float"
        },
        {
         "name": "Number of Photos",
         "rawType": "float64",
         "type": "float"
        },
        {
         "name": "Instantbook Enabled",
         "rawType": "bool",
         "type": "boolean"
        },
        {
         "name": "Listing URL",
         "rawType": "object",
         "type": "string"
        },
        {
         "name": "Listing Main Image URL",
         "rawType": "object",
         "type": "string"
        },
        {
         "name": "Listing Images",
         "rawType": "object",
         "type": "string"
        },
        {
         "name": "Latitude",
         "rawType": "float64",
         "type": "float"
        },
        {
         "name": "Longitude",
         "rawType": "float64",
         "type": "float"
        },
        {
         "name": "Exact Location",
         "rawType": "object",
         "type": "unknown"
        },
        {
         "name": "Overall Rating",
         "rawType": "float64",
         "type": "float"
        },
        {
         "name": "Pets Allowed",
         "rawType": "object",
         "type": "unknown"
        },
        {
         "name": "Amenities",
         "rawType": "object",
         "type": "string"
        },
        {
         "name": "Airbnb Property Plus",
         "rawType": "object",
         "type": "unknown"
        },
        {
         "name": "Airbnb Property ID",
         "rawType": "float64",
         "type": "float"
        },
        {
         "name": "distancia_ayuntamiento_km",
         "rawType": "float64",
         "type": "float"
        },
        {
         "name": "distancia_playa_km",
         "rawType": "float64",
         "type": "float"
        },
        {
         "name": "Dist_POI_m",
         "rawType": "float64",
         "type": "float"
        },
        {
         "name": "N_POI_2km",
         "rawType": "int64",
         "type": "integer"
        },
        {
         "name": "Dist_Supermercado_m",
         "rawType": "float64",
         "type": "float"
        },
        {
         "name": "N_Supermercado_2km",
         "rawType": "int64",
         "type": "integer"
        },
        {
         "name": "Dist_ParadaBus_m",
         "rawType": "float64",
         "type": "float"
        },
        {
         "name": "N_ParadaBus_2km",
         "rawType": "int64",
         "type": "integer"
        },
        {
         "name": "N_Restaurante_2km",
         "rawType": "int64",
         "type": "integer"
        }
       ],
       "conversionMethod": "pd.DataFrame",
       "ref": "ef962142-d837-4f81-89e4-471f185eb29d",
       "rows": [
        [
         "0",
         "ab-295403",
         "A top floor apartment by the sea",
         "Entire apartment",
         "Entire home/apt",
         "2011-12-24",
         "2017-12-19",
         "Spain",
         null,
         "Guardamar del Segura",
         "EUR",
         null,
         null,
         "18.0",
         "2",
         "1.0",
         "4",
         "2017-07-14",
         "0.0",
         null,
         "False",
         "strict",
         "73.0",
         "158.0",
         "Anytime after 3PM",
         "12PM (noon)",
         "3.0",
         null,
         null,
         null,
         "18.0",
         "False",
         "https://www.airbnb.com/rooms/295403",
         "https://a0.muscache.com/im/pictures/4898056/697f5219_original.jpg?aki_policy=x_large",
         "['https://a0.muscache.com/im/pictures/4898056/697f5219_original.jpg', 'https://a0.muscache.com/im/pictures/4897905/877bb4b0_original.jpg', 'https://a0.muscache.com/im/pictures/4897941/b392d812_original.jpg', 'https://a0.muscache.com/im/pictures/4897965/43b0253f_original.jpg', 'https://a0.muscache.com/im/pictures/4898002/cc69b484_original.jpg', 'https://a0.muscache.com/im/pictures/4898042/4bdb3c7c_original.jpg', 'https://a0.muscache.com/im/pictures/4898071/dd93150c_original.jpg', 'https://a0.muscache.com/im/pictures/4898093/08c4deba_original.jpg', 'https://a0.muscache.com/im/pictures/4898104/61aef837_original.jpg', 'https://a0.muscache.com/im/pictures/4898127/ccfebb23_original.jpg', 'https://a0.muscache.com/im/pictures/4898146/99cf37e7_original.jpg', 'https://a0.muscache.com/im/pictures/4898133/ff06a361_original.jpg', 'https://a0.muscache.com/im/pictures/4407632/99d93093_original.jpg', 'https://a0.muscache.com/im/pictures/4407636/70f48bd6_original.jpg', 'https://a0.muscache.com/im/pictures/4407681/453e0263_original.jpg', 'https://a0.muscache.com/im/pictures/4897879/341c0238_original.jpg', 'https://a0.muscache.com/im/pictures/4407703/97abd0fb_original.jpg', 'https://a0.muscache.com/im/pictures/4407720/a9e13fd6_original.jpg']",
         "38.09555946723424",
         "-0.65612200462782",
         "False",
         "93.0",
         "True",
         "[\"kitchen\", \"tv\", \"heating\", \"ac\", \"washer\", \"free_parking\", \"wireless_internet\", \"allows_pets\", \"family_friendly\", \"wheelchair_accessible\", \"elevator\"]",
         null,
         "295403.0",
         "0.6336518947279446",
         "1.4199843809155483",
         "165.89060323551055",
         "20",
         "335.75859125931925",
         "4",
         "150.92847766246268",
         "31",
         "60"
        ],
        [
         "1",
         "ab-484366",
         "Beach house 300m from the sea Spain",
         "Home",
         "Entire home/apt",
         "2012-05-16",
         "2023-11-15",
         "Spain",
         "Alicante",
         "Guardamar del Segura",
         "EUR",
         "5033.0",
         "2.0",
         "29.0",
         "2",
         "2.0",
         "5",
         "2019-03-06",
         "0.0",
         "a few days or more",
         "False",
         "moderate",
         "214.0",
         "107.0",
         "After 12:00 AM",
         "12:00 AM",
         "7.0",
         "42.0",
         "6.0",
         "44.0",
         "21.0",
         "False",
         "https://www.airbnb.com/rooms/484366",
         "https://a0.muscache.com/im/pictures/5747232/742bb424_original.jpg?aki_policy=x_large",
         "['https://a0.muscache.com/im/pictures/5747232/742bb424_original.jpg', 'https://a0.muscache.com/im/pictures/6158216/385b5677_original.jpg', 'https://a0.muscache.com/im/pictures/64384947/03544625_original.jpg', 'https://a0.muscache.com/im/pictures/64384954/d6d72d79_original.jpg', 'https://a0.muscache.com/im/pictures/5747225/6dbbcbbd_original.jpg', 'https://a0.muscache.com/im/pictures/6158020/b307397b_original.jpg', 'https://a0.muscache.com/im/pictures/6157443/d6c0313c_original.jpg', 'https://a0.muscache.com/im/pictures/6157494/4693166a_original.jpg', 'https://a0.muscache.com/im/pictures/6157553/6a63f02a_original.jpg', 'https://a0.muscache.com/im/pictures/6157612/8a009b25_original.jpg', 'https://a0.muscache.com/im/pictures/6157646/cc931133_original.jpg', 'https://a0.muscache.com/im/pictures/6157688/e3d4ded5_original.jpg', 'https://a0.muscache.com/im/pictures/6157718/b2b1886f_original.jpg', 'https://a0.muscache.com/im/pictures/6157749/2b9917e1_original.jpg', 'https://a0.muscache.com/im/pictures/6157807/0f74cb31_original.jpg', 'https://a0.muscache.com/im/pictures/6157844/1a4c2cf1_original.jpg', 'https://a0.muscache.com/im/pictures/6157778/c7e51454_original.jpg', 'https://a0.muscache.com/im/pictures/6157870/58be28bd_original.jpg', 'https://a0.muscache.com/im/pictures/6157989/e3b62d43_original.jpg', 'https://a0.muscache.com/im/pictures/6157943/e881efcd_original.jpg', 'https://a0.muscache.com/im/pictures/6157908/93c0de07_original.jpg']",
         "38.06359",
         "-0.65306",
         "False",
         "95.0",
         "False",
         "[\"free_parking\", \"wireless_internet\", \"fireplace\", \"cable\", \"kitchen\", \"ac\", \"heating\", \"pool\", \"tv\"]",
         "False",
         "484366.0",
         "2.947032662148421",
         "1.7791206623232068",
         "232.15164220588963",
         "2",
         "1112.3857955347348",
         "1",
         "280.1145971361298",
         "12",
         "11"
        ],
        [
         "2",
         "ab-608855",
         "Ven a tomar el sol al Mediterráneo",
         "Apartment",
         "Entire home/apt",
         "2012-07-21",
         "2021-02-09",
         "Spain",
         "Alicante",
         "Guardamar del Segura",
         "EUR",
         null,
         null,
         "47.0",
         "2",
         "1.0",
         "4",
         "2019-07-29",
         "100.0",
         "within a day",
         "False",
         "strict_14_with_grace_period",
         "36.0",
         "32.0",
         "3:00 PM - 10:00 PM",
         "12:00 PM",
         "20.0",
         null,
         null,
         null,
         "24.0",
         "False",
         "https://www.airbnb.com/rooms/608855",
         "https://a0.muscache.com/im/pictures/14234393/a2d7e728_original.jpg?aki_policy=x_large",
         "['https://a0.muscache.com/im/pictures/14234393/a2d7e728_original.jpg', 'https://a0.muscache.com/im/pictures/14234441/9a9e28f4_original.jpg', 'https://a0.muscache.com/im/pictures/14234470/4aea2f44_original.jpg', 'https://a0.muscache.com/im/pictures/f75c8bc3-4fa3-4a3e-894b-c4e30e11b5d6.jpg', 'https://a0.muscache.com/im/pictures/53735cbb-b34c-4c82-9a5a-17e4974fae00.jpg', 'https://a0.muscache.com/im/pictures/29072604-3d74-44e0-9b8a-a9cbed99dded.jpg', 'https://a0.muscache.com/im/pictures/14234571/3c580ddf_original.jpg', 'https://a0.muscache.com/im/pictures/74937873/95551b1c_original.jpg', 'https://a0.muscache.com/im/pictures/5662acc0-5615-497f-b8bd-390f78ee4b96.jpg', 'https://a0.muscache.com/im/pictures/14234433/f2cab0df_original.jpg', 'https://a0.muscache.com/im/pictures/14234342/1b5fe6d4_original.jpg', 'https://a0.muscache.com/im/pictures/14234408/ff3b3d00_original.jpg', 'https://a0.muscache.com/im/pictures/14234482/39c9d439_original.jpg', 'https://a0.muscache.com/im/pictures/14234455/a9dc4ded_original.jpg', 'https://a0.muscache.com/im/pictures/14234520/d640778b_original.jpg', 'https://a0.muscache.com/im/pictures/14234530/8bd110da_original.jpg', 'https://a0.muscache.com/im/pictures/14234533/4ae877bd_original.jpg', 'https://a0.muscache.com/im/pictures/14234548/ef628399_original.jpg', 'https://a0.muscache.com/im/pictures/14234557/6f9b2bf4_original.jpg', 'https://a0.muscache.com/im/pictures/22762f3d-2fdf-41be-a193-3d8f4284665b.jpg', 'https://a0.muscache.com/im/pictures/f8456660-8641-43d9-9db7-96a58a393b44.jpg', 'https://a0.muscache.com/im/pictures/14234565/d7f66bf8_original.jpg', 'https://a0.muscache.com/im/pictures/14234544/1006030b_original.jpg', 'https://a0.muscache.com/im/pictures/3e0363e8-472e-41d3-9dbc-31ea60f078b9.jpg']",
         "38.082",
         "-0.652",
         "True",
         "88.0",
         "False",
         "[\"elevator\", \"free_parking\", \"wireless_internet\", \"laptop-friendly\", \"kitchen\", \"ac\", \"heating\", \"hair-dryer\", \"hangers\", \"iron\", \"shampoo\", \"washer\", \"essentials\", \"tv\", \"hot_water\", \"bed_linens\", \"extra_pillows_and_blankets\", \"coffee_maker\", \"cooking_basics\", \"dishes_and_silverware\", \"microwave\", \"oven\", \"refrigerator\", \"stove\", \"waterfront\", \"beach_essentials\", \"patio_or_balcony\", \"street_parking\", \"long_term_stays_allowed\", \"luggage_dropoff_allowed\", \"host_checkin\"]",
         "False",
         "608855.0",
         "0.9176454284467462",
         "0.4927964742403576",
         "181.470750780636",
         "18",
         "467.3561950400324",
         "4",
         "205.0492527883888",
         "36",
         "62"
        ]
       ],
       "shape": {
        "columns": 51,
        "rows": 3
       }
      },
      "text/html": [
       "<div>\n",
       "<style scoped>\n",
       "    .dataframe tbody tr th:only-of-type {\n",
       "        vertical-align: middle;\n",
       "    }\n",
       "\n",
       "    .dataframe tbody tr th {\n",
       "        vertical-align: top;\n",
       "    }\n",
       "\n",
       "    .dataframe thead th {\n",
       "        text-align: right;\n",
       "    }\n",
       "</style>\n",
       "<table border=\"1\" class=\"dataframe\">\n",
       "  <thead>\n",
       "    <tr style=\"text-align: right;\">\n",
       "      <th></th>\n",
       "      <th>Property ID</th>\n",
       "      <th>Listing Title</th>\n",
       "      <th>Property Type</th>\n",
       "      <th>Listing Type</th>\n",
       "      <th>Created Date</th>\n",
       "      <th>Last Scraped Date</th>\n",
       "      <th>Country</th>\n",
       "      <th>State</th>\n",
       "      <th>City</th>\n",
       "      <th>Currency Native</th>\n",
       "      <th>...</th>\n",
       "      <th>Airbnb Property ID</th>\n",
       "      <th>distancia_ayuntamiento_km</th>\n",
       "      <th>distancia_playa_km</th>\n",
       "      <th>Dist_POI_m</th>\n",
       "      <th>N_POI_2km</th>\n",
       "      <th>Dist_Supermercado_m</th>\n",
       "      <th>N_Supermercado_2km</th>\n",
       "      <th>Dist_ParadaBus_m</th>\n",
       "      <th>N_ParadaBus_2km</th>\n",
       "      <th>N_Restaurante_2km</th>\n",
       "    </tr>\n",
       "  </thead>\n",
       "  <tbody>\n",
       "    <tr>\n",
       "      <th>0</th>\n",
       "      <td>ab-295403</td>\n",
       "      <td>A top floor apartment by the sea</td>\n",
       "      <td>Entire apartment</td>\n",
       "      <td>Entire home/apt</td>\n",
       "      <td>2011-12-24</td>\n",
       "      <td>2017-12-19</td>\n",
       "      <td>Spain</td>\n",
       "      <td>NaN</td>\n",
       "      <td>Guardamar del Segura</td>\n",
       "      <td>EUR</td>\n",
       "      <td>...</td>\n",
       "      <td>295403.0</td>\n",
       "      <td>0.633652</td>\n",
       "      <td>1.419984</td>\n",
       "      <td>165.890603</td>\n",
       "      <td>20</td>\n",
       "      <td>335.758591</td>\n",
       "      <td>4</td>\n",
       "      <td>150.928478</td>\n",
       "      <td>31</td>\n",
       "      <td>60</td>\n",
       "    </tr>\n",
       "    <tr>\n",
       "      <th>1</th>\n",
       "      <td>ab-484366</td>\n",
       "      <td>Beach house 300m from the sea Spain</td>\n",
       "      <td>Home</td>\n",
       "      <td>Entire home/apt</td>\n",
       "      <td>2012-05-16</td>\n",
       "      <td>2023-11-15</td>\n",
       "      <td>Spain</td>\n",
       "      <td>Alicante</td>\n",
       "      <td>Guardamar del Segura</td>\n",
       "      <td>EUR</td>\n",
       "      <td>...</td>\n",
       "      <td>484366.0</td>\n",
       "      <td>2.947033</td>\n",
       "      <td>1.779121</td>\n",
       "      <td>232.151642</td>\n",
       "      <td>2</td>\n",
       "      <td>1112.385796</td>\n",
       "      <td>1</td>\n",
       "      <td>280.114597</td>\n",
       "      <td>12</td>\n",
       "      <td>11</td>\n",
       "    </tr>\n",
       "    <tr>\n",
       "      <th>2</th>\n",
       "      <td>ab-608855</td>\n",
       "      <td>Ven a tomar el sol al Mediterráneo</td>\n",
       "      <td>Apartment</td>\n",
       "      <td>Entire home/apt</td>\n",
       "      <td>2012-07-21</td>\n",
       "      <td>2021-02-09</td>\n",
       "      <td>Spain</td>\n",
       "      <td>Alicante</td>\n",
       "      <td>Guardamar del Segura</td>\n",
       "      <td>EUR</td>\n",
       "      <td>...</td>\n",
       "      <td>608855.0</td>\n",
       "      <td>0.917645</td>\n",
       "      <td>0.492796</td>\n",
       "      <td>181.470751</td>\n",
       "      <td>18</td>\n",
       "      <td>467.356195</td>\n",
       "      <td>4</td>\n",
       "      <td>205.049253</td>\n",
       "      <td>36</td>\n",
       "      <td>62</td>\n",
       "    </tr>\n",
       "  </tbody>\n",
       "</table>\n",
       "<p>3 rows × 51 columns</p>\n",
       "</div>"
      ],
      "text/plain": [
       "  Property ID                        Listing Title     Property Type  \\\n",
       "0   ab-295403     A top floor apartment by the sea  Entire apartment   \n",
       "1   ab-484366  Beach house 300m from the sea Spain              Home   \n",
       "2   ab-608855   Ven a tomar el sol al Mediterráneo         Apartment   \n",
       "\n",
       "      Listing Type Created Date Last Scraped Date Country     State  \\\n",
       "0  Entire home/apt   2011-12-24        2017-12-19   Spain       NaN   \n",
       "1  Entire home/apt   2012-05-16        2023-11-15   Spain  Alicante   \n",
       "2  Entire home/apt   2012-07-21        2021-02-09   Spain  Alicante   \n",
       "\n",
       "                   City Currency Native  ...  Airbnb Property ID  \\\n",
       "0  Guardamar del Segura             EUR  ...            295403.0   \n",
       "1  Guardamar del Segura             EUR  ...            484366.0   \n",
       "2  Guardamar del Segura             EUR  ...            608855.0   \n",
       "\n",
       "   distancia_ayuntamiento_km  distancia_playa_km  Dist_POI_m  N_POI_2km  \\\n",
       "0                   0.633652            1.419984  165.890603         20   \n",
       "1                   2.947033            1.779121  232.151642          2   \n",
       "2                   0.917645            0.492796  181.470751         18   \n",
       "\n",
       "   Dist_Supermercado_m N_Supermercado_2km  Dist_ParadaBus_m N_ParadaBus_2km  \\\n",
       "0           335.758591                  4        150.928478              31   \n",
       "1          1112.385796                  1        280.114597              12   \n",
       "2           467.356195                  4        205.049253              36   \n",
       "\n",
       "  N_Restaurante_2km  \n",
       "0                60  \n",
       "1                11  \n",
       "2                62  \n",
       "\n",
       "[3 rows x 51 columns]"
      ]
     },
     "execution_count": 18,
     "metadata": {},
     "output_type": "execute_result"
    }
   ],
   "source": [
    "df_extended_processed = df_extended.dropna(axis=1, thresh=(1-50/100)*len(df_extended))\n",
    "\n",
    "df_extended_processed.head(3)"
   ]
  },
  {
   "cell_type": "markdown",
   "id": "9d21e9a5",
   "metadata": {},
   "source": [
    "## Análisis Exploratorio (EDA)"
   ]
  },
  {
   "cell_type": "code",
   "execution_count": 9,
   "id": "a9289d7d",
   "metadata": {},
   "outputs": [
    {
     "data": {
      "image/png": "[encoded data removed]",
      "text/plain": [
       "<Figure size 1600x600 with 2 Axes>"
      ]
     },
     "metadata": {},
     "output_type": "display_data"
    }
   ],
   "source": [
    "graficos_eda_categoricos(df[['City', 'Active']])"
   ]
  },
  {
   "cell_type": "code",
   "execution_count": 10,
   "id": "a17a73f8",
   "metadata": {},
   "outputs": [
    {
     "data": {
      "application/vnd.microsoft.datawrangler.viewer.v0+json": {
       "columns": [
        {
         "name": "index",
         "rawType": "object",
         "type": "string"
        },
        {
         "name": "count",
         "rawType": "float64",
         "type": "float"
        },
        {
         "name": "mean",
         "rawType": "float64",
         "type": "float"
        },
        {
         "name": "median",
         "rawType": "float64",
         "type": "float"
        },
        {
         "name": "std",
         "rawType": "float64",
         "type": "float"
        },
        {
         "name": "min",
         "rawType": "float64",
         "type": "float"
        },
        {
         "name": "25%",
         "rawType": "float64",
         "type": "float"
        },
        {
         "name": "50%",
         "rawType": "float64",
         "type": "float"
        },
        {
         "name": "75%",
         "rawType": "float64",
         "type": "float"
        },
        {
         "name": "max",
         "rawType": "float64",
         "type": "float"
        }
       ],
       "conversionMethod": "pd.DataFrame",
       "ref": "2bb392f0-e5f7-46e7-944f-0ee656ed723d",
       "rows": [
        [
         "Bedrooms",
         "950448.0",
         "2.159897227412757",
         "2.0",
         "0.9727750789559297",
         "0.0",
         "2.0",
         "2.0",
         "3.0",
         "23.0"
        ],
        [
         "Occupancy Rate",
         "950448.0",
         "0.19377478620608388",
         "0.0",
         "0.3359623089249078",
         "0.0",
         "0.0",
         "0.0",
         "0.273",
         "1.0"
        ],
        [
         "Reservation Days",
         "950448.0",
         "3.9813056579634023",
         "0.0",
         "7.701028374890889",
         "0.0",
         "0.0",
         "0.0",
         "4.0",
         "31.0"
        ],
        [
         "Available Days",
         "950448.0",
         "15.866805969395486",
         "17.0",
         "13.330054086518702",
         "0.0",
         "0.0",
         "17.0",
         "30.0",
         "31.0"
        ],
        [
         "Blocked Days",
         "950448.0",
         "9.92773513122233",
         "0.0",
         "13.090531722402561",
         "0.0",
         "0.0",
         "0.0",
         "27.0",
         "31.0"
        ],
        [
         "Number of Reservations",
         "950448.0",
         "0.8645123141928859",
         "0.0",
         "1.771497116606716",
         "0.0",
         "0.0",
         "0.0",
         "1.0",
         "30.0"
        ],
        [
         "Revenue (Native)",
         "713678.0",
         "372.6771577097796",
         "0.0",
         "966.3171046829058",
         "0.0",
         "0.0",
         "0.0",
         "325.11",
         "118097.79"
        ]
       ],
       "shape": {
        "columns": 9,
        "rows": 7
       }
      },
      "text/html": [
       "<div>\n",
       "<style scoped>\n",
       "    .dataframe tbody tr th:only-of-type {\n",
       "        vertical-align: middle;\n",
       "    }\n",
       "\n",
       "    .dataframe tbody tr th {\n",
       "        vertical-align: top;\n",
       "    }\n",
       "\n",
       "    .dataframe thead th {\n",
       "        text-align: right;\n",
       "    }\n",
       "</style>\n",
       "<table border=\"1\" class=\"dataframe\">\n",
       "  <thead>\n",
       "    <tr style=\"text-align: right;\">\n",
       "      <th></th>\n",
       "      <th>count</th>\n",
       "      <th>mean</th>\n",
       "      <th>median</th>\n",
       "      <th>std</th>\n",
       "      <th>min</th>\n",
       "      <th>25%</th>\n",
       "      <th>50%</th>\n",
       "      <th>75%</th>\n",
       "      <th>max</th>\n",
       "    </tr>\n",
       "  </thead>\n",
       "  <tbody>\n",
       "    <tr>\n",
       "      <th>Bedrooms</th>\n",
       "      <td>950448.0</td>\n",
       "      <td>2.159897</td>\n",
       "      <td>2.0</td>\n",
       "      <td>0.972775</td>\n",
       "      <td>0.0</td>\n",
       "      <td>2.0</td>\n",
       "      <td>2.0</td>\n",
       "      <td>3.000</td>\n",
       "      <td>23.00</td>\n",
       "    </tr>\n",
       "    <tr>\n",
       "      <th>Occupancy Rate</th>\n",
       "      <td>950448.0</td>\n",
       "      <td>0.193775</td>\n",
       "      <td>0.0</td>\n",
       "      <td>0.335962</td>\n",
       "      <td>0.0</td>\n",
       "      <td>0.0</td>\n",
       "      <td>0.0</td>\n",
       "      <td>0.273</td>\n",
       "      <td>1.00</td>\n",
       "    </tr>\n",
       "    <tr>\n",
       "      <th>Reservation Days</th>\n",
       "      <td>950448.0</td>\n",
       "      <td>3.981306</td>\n",
       "      <td>0.0</td>\n",
       "      <td>7.701028</td>\n",
       "      <td>0.0</td>\n",
       "      <td>0.0</td>\n",
       "      <td>0.0</td>\n",
       "      <td>4.000</td>\n",
       "      <td>31.00</td>\n",
       "    </tr>\n",
       "    <tr>\n",
       "      <th>Available Days</th>\n",
       "      <td>950448.0</td>\n",
       "      <td>15.866806</td>\n",
       "      <td>17.0</td>\n",
       "      <td>13.330054</td>\n",
       "      <td>0.0</td>\n",
       "      <td>0.0</td>\n",
       "      <td>17.0</td>\n",
       "      <td>30.000</td>\n",
       "      <td>31.00</td>\n",
       "    </tr>\n",
       "    <tr>\n",
       "      <th>Blocked Days</th>\n",
       "      <td>950448.0</td>\n",
       "      <td>9.927735</td>\n",
       "      <td>0.0</td>\n",
       "      <td>13.090532</td>\n",
       "      <td>0.0</td>\n",
       "      <td>0.0</td>\n",
       "      <td>0.0</td>\n",
       "      <td>27.000</td>\n",
       "      <td>31.00</td>\n",
       "    </tr>\n",
       "    <tr>\n",
       "      <th>Number of Reservations</th>\n",
       "      <td>950448.0</td>\n",
       "      <td>0.864512</td>\n",
       "      <td>0.0</td>\n",
       "      <td>1.771497</td>\n",
       "      <td>0.0</td>\n",
       "      <td>0.0</td>\n",
       "      <td>0.0</td>\n",
       "      <td>1.000</td>\n",
       "      <td>30.00</td>\n",
       "    </tr>\n",
       "    <tr>\n",
       "      <th>Revenue (Native)</th>\n",
       "      <td>713678.0</td>\n",
       "      <td>372.677158</td>\n",
       "      <td>0.0</td>\n",
       "      <td>966.317105</td>\n",
       "      <td>0.0</td>\n",
       "      <td>0.0</td>\n",
       "      <td>0.0</td>\n",
       "      <td>325.110</td>\n",
       "      <td>118097.79</td>\n",
       "    </tr>\n",
       "  </tbody>\n",
       "</table>\n",
       "</div>"
      ],
      "text/plain": [
       "                           count        mean  median         std  min  25%  \\\n",
       "Bedrooms                950448.0    2.159897     2.0    0.972775  0.0  2.0   \n",
       "Occupancy Rate          950448.0    0.193775     0.0    0.335962  0.0  0.0   \n",
       "Reservation Days        950448.0    3.981306     0.0    7.701028  0.0  0.0   \n",
       "Available Days          950448.0   15.866806    17.0   13.330054  0.0  0.0   \n",
       "Blocked Days            950448.0    9.927735     0.0   13.090532  0.0  0.0   \n",
       "Number of Reservations  950448.0    0.864512     0.0    1.771497  0.0  0.0   \n",
       "Revenue (Native)        713678.0  372.677158     0.0  966.317105  0.0  0.0   \n",
       "\n",
       "                         50%      75%        max  \n",
       "Bedrooms                 2.0    3.000      23.00  \n",
       "Occupancy Rate           0.0    0.273       1.00  \n",
       "Reservation Days         0.0    4.000      31.00  \n",
       "Available Days          17.0   30.000      31.00  \n",
       "Blocked Days             0.0   27.000      31.00  \n",
       "Number of Reservations   0.0    1.000      30.00  \n",
       "Revenue (Native)         0.0  325.110  118097.79  "
      ]
     },
     "execution_count": 10,
     "metadata": {},
     "output_type": "execute_result"
    }
   ],
   "source": [
    "estadisticos_cont(df[['Bedrooms', 'Occupancy Rate', 'Reservation Days', 'Available Days', 'Blocked Days', 'Number of Reservations', 'Revenue (Native)']])"
   ]
  }
 ],
 "metadata": {
  "kernelspec": {
   "display_name": "prvd",
   "language": "python",
   "name": "python3"
  },
  "language_info": {
   "codemirror_mode": {
    "name": "ipython",
    "version": 3
   },
   "file_extension": ".py",
   "mimetype": "text/x-python",
   "name": "python",
   "nbconvert_exporter": "python",
   "pygments_lexer": "ipython3",
   "version": "3.13.1"
  }
 },
 "nbformat": 4,
 "nbformat_minor": 5
}
