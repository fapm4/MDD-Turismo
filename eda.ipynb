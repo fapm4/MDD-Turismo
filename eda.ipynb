{
 "cells": [
  {
   "cell_type": "markdown",
   "id": "d93a0bdc",
   "metadata": {},
   "source": [
    "## Librerías"
   ]
  },
  {
   "cell_type": "code",
   "execution_count": 1,
   "id": "6de9070a",
   "metadata": {},
   "outputs": [],
   "source": [
    "import pandas as pd\n",
    "import matplotlib.pyplot as plt\n",
    "import os\n",
    "from math import ceil\n"
   ]
  },
  {
   "cell_type": "markdown",
   "id": "f6518337",
   "metadata": {},
   "source": [
    "## Carga de datos"
   ]
  },
  {
   "cell_type": "markdown",
   "id": "3ab3ca73",
   "metadata": {},
   "source": [
    "Descripción de las columnas:\n",
    "\n",
    "- `Property ID`:\n",
    "- `Property Type`:\n",
    "- `Listing Type`:\n",
    "- `Bedrooms`:\n",
    "- `Reporting Month`:\n",
    "- `Occupancy Rate`:\n",
    "- `Revenue (USD)`:\n",
    "- `Revenue(Native)`:\n",
    "- `ADR (USD)`:\n",
    "- `ADR (Native)`:\n",
    "- `Number of Reservations`:\n",
    "- `Reservation Days`:\n",
    "- `Available Days`:\n",
    "- `Blocked Days`:\n",
    "- `Country`:\n",
    "- `State`:\n",
    "- `City`:\n",
    "- `Latitude`:\n",
    "- `Longitude`:\n",
    "- `Active`:\n",
    "- `Scraped During Month`:\n",
    "- `Currency Native`:\n",
    "- `Airbnb Property ID`:\n",
    "- `HomeAway Property Manager`:"
   ]
  },
  {
   "cell_type": "code",
   "execution_count": 2,
   "id": "5e6079cc",
   "metadata": {},
   "outputs": [
    {
     "name": "stderr",
     "output_type": "stream",
     "text": [
      "C:\\Users\\Multivac Desktop\\AppData\\Local\\Temp\\ipykernel_13496\\1201202551.py:3: DtypeWarning: Columns (21,23) have mixed types. Specify dtype option on import or set low_memory=False.\n",
      "  df = pd.read_csv(path, sep=',', decimal='.')\n"
     ]
    },
    {
     "data": {
      "application/vnd.microsoft.datawrangler.viewer.v0+json": {
       "columns": [
        {
         "name": "index",
         "rawType": "int64",
         "type": "integer"
        },
        {
         "name": "Property ID",
         "rawType": "object",
         "type": "string"
        },
        {
         "name": "Property Type",
         "rawType": "object",
         "type": "string"
        },
        {
         "name": "Listing Type",
         "rawType": "object",
         "type": "string"
        },
        {
         "name": "Bedrooms",
         "rawType": "int64",
         "type": "integer"
        },
        {
         "name": "Reporting Month",
         "rawType": "object",
         "type": "string"
        },
        {
         "name": "Occupancy Rate",
         "rawType": "float64",
         "type": "float"
        },
        {
         "name": "Revenue (USD)",
         "rawType": "float64",
         "type": "float"
        },
        {
         "name": "Revenue (Native)",
         "rawType": "float64",
         "type": "float"
        },
        {
         "name": "ADR (USD)",
         "rawType": "float64",
         "type": "float"
        },
        {
         "name": "ADR (Native)",
         "rawType": "float64",
         "type": "float"
        },
        {
         "name": "Number of Reservations",
         "rawType": "int64",
         "type": "integer"
        },
        {
         "name": "Reservation Days",
         "rawType": "int64",
         "type": "integer"
        },
        {
         "name": "Available Days",
         "rawType": "int64",
         "type": "integer"
        },
        {
         "name": "Blocked Days",
         "rawType": "int64",
         "type": "integer"
        },
        {
         "name": "Country",
         "rawType": "object",
         "type": "string"
        },
        {
         "name": "State",
         "rawType": "object",
         "type": "unknown"
        },
        {
         "name": "City",
         "rawType": "object",
         "type": "string"
        },
        {
         "name": "Latitude",
         "rawType": "float64",
         "type": "float"
        },
        {
         "name": "Longitude",
         "rawType": "float64",
         "type": "float"
        },
        {
         "name": "Active",
         "rawType": "bool",
         "type": "boolean"
        },
        {
         "name": "Scraped During Month",
         "rawType": "bool",
         "type": "boolean"
        },
        {
         "name": "Currency Native",
         "rawType": "object",
         "type": "string"
        },
        {
         "name": "Airbnb Property ID",
         "rawType": "float64",
         "type": "float"
        },
        {
         "name": "HomeAway Property Manager",
         "rawType": "object",
         "type": "unknown"
        }
       ],
       "conversionMethod": "pd.DataFrame",
       "ref": "444c09ad-f6cc-4b59-8113-fbdbbe2d7d0a",
       "rows": [
        [
         "0",
         "ab-295403",
         "Entire apartment",
         "Entire home/apt",
         "2",
         "2016-06-01",
         "0.0",
         "0.0",
         "0.0",
         null,
         null,
         "0",
         "0",
         "0",
         "30",
         "Spain",
         null,
         "Guardamar del Segura",
         "38.09555946723424",
         "-0.65612200462782",
         "False",
         "True",
         "EUR",
         "295403.0",
         null
        ],
        [
         "1",
         "ab-295403",
         "Entire apartment",
         "Entire home/apt",
         "2",
         "2016-07-01",
         "0.0",
         "0.0",
         "0.0",
         null,
         null,
         "0",
         "0",
         "0",
         "31",
         "Spain",
         null,
         "Guardamar del Segura",
         "38.09555946723424",
         "-0.65612200462782",
         "False",
         "True",
         "EUR",
         "295403.0",
         null
        ],
        [
         "2",
         "ab-295403",
         "Entire apartment",
         "Entire home/apt",
         "2",
         "2016-08-01",
         "0.0",
         "0.0",
         "0.0",
         null,
         null,
         "0",
         "0",
         "0",
         "31",
         "Spain",
         null,
         "Guardamar del Segura",
         "38.09555946723424",
         "-0.65612200462782",
         "False",
         "False",
         "EUR",
         "295403.0",
         null
        ]
       ],
       "shape": {
        "columns": 24,
        "rows": 3
       }
      },
      "text/html": [
       "<div>\n",
       "<style scoped>\n",
       "    .dataframe tbody tr th:only-of-type {\n",
       "        vertical-align: middle;\n",
       "    }\n",
       "\n",
       "    .dataframe tbody tr th {\n",
       "        vertical-align: top;\n",
       "    }\n",
       "\n",
       "    .dataframe thead th {\n",
       "        text-align: right;\n",
       "    }\n",
       "</style>\n",
       "<table border=\"1\" class=\"dataframe\">\n",
       "  <thead>\n",
       "    <tr style=\"text-align: right;\">\n",
       "      <th></th>\n",
       "      <th>Property ID</th>\n",
       "      <th>Property Type</th>\n",
       "      <th>Listing Type</th>\n",
       "      <th>Bedrooms</th>\n",
       "      <th>Reporting Month</th>\n",
       "      <th>Occupancy Rate</th>\n",
       "      <th>Revenue (USD)</th>\n",
       "      <th>Revenue (Native)</th>\n",
       "      <th>ADR (USD)</th>\n",
       "      <th>ADR (Native)</th>\n",
       "      <th>...</th>\n",
       "      <th>Country</th>\n",
       "      <th>State</th>\n",
       "      <th>City</th>\n",
       "      <th>Latitude</th>\n",
       "      <th>Longitude</th>\n",
       "      <th>Active</th>\n",
       "      <th>Scraped During Month</th>\n",
       "      <th>Currency Native</th>\n",
       "      <th>Airbnb Property ID</th>\n",
       "      <th>HomeAway Property Manager</th>\n",
       "    </tr>\n",
       "  </thead>\n",
       "  <tbody>\n",
       "    <tr>\n",
       "      <th>0</th>\n",
       "      <td>ab-295403</td>\n",
       "      <td>Entire apartment</td>\n",
       "      <td>Entire home/apt</td>\n",
       "      <td>2</td>\n",
       "      <td>2016-06-01</td>\n",
       "      <td>0.0</td>\n",
       "      <td>0.0</td>\n",
       "      <td>0.0</td>\n",
       "      <td>NaN</td>\n",
       "      <td>NaN</td>\n",
       "      <td>...</td>\n",
       "      <td>Spain</td>\n",
       "      <td>NaN</td>\n",
       "      <td>Guardamar del Segura</td>\n",
       "      <td>38.095559</td>\n",
       "      <td>-0.656122</td>\n",
       "      <td>False</td>\n",
       "      <td>True</td>\n",
       "      <td>EUR</td>\n",
       "      <td>295403.0</td>\n",
       "      <td>NaN</td>\n",
       "    </tr>\n",
       "    <tr>\n",
       "      <th>1</th>\n",
       "      <td>ab-295403</td>\n",
       "      <td>Entire apartment</td>\n",
       "      <td>Entire home/apt</td>\n",
       "      <td>2</td>\n",
       "      <td>2016-07-01</td>\n",
       "      <td>0.0</td>\n",
       "      <td>0.0</td>\n",
       "      <td>0.0</td>\n",
       "      <td>NaN</td>\n",
       "      <td>NaN</td>\n",
       "      <td>...</td>\n",
       "      <td>Spain</td>\n",
       "      <td>NaN</td>\n",
       "      <td>Guardamar del Segura</td>\n",
       "      <td>38.095559</td>\n",
       "      <td>-0.656122</td>\n",
       "      <td>False</td>\n",
       "      <td>True</td>\n",
       "      <td>EUR</td>\n",
       "      <td>295403.0</td>\n",
       "      <td>NaN</td>\n",
       "    </tr>\n",
       "    <tr>\n",
       "      <th>2</th>\n",
       "      <td>ab-295403</td>\n",
       "      <td>Entire apartment</td>\n",
       "      <td>Entire home/apt</td>\n",
       "      <td>2</td>\n",
       "      <td>2016-08-01</td>\n",
       "      <td>0.0</td>\n",
       "      <td>0.0</td>\n",
       "      <td>0.0</td>\n",
       "      <td>NaN</td>\n",
       "      <td>NaN</td>\n",
       "      <td>...</td>\n",
       "      <td>Spain</td>\n",
       "      <td>NaN</td>\n",
       "      <td>Guardamar del Segura</td>\n",
       "      <td>38.095559</td>\n",
       "      <td>-0.656122</td>\n",
       "      <td>False</td>\n",
       "      <td>False</td>\n",
       "      <td>EUR</td>\n",
       "      <td>295403.0</td>\n",
       "      <td>NaN</td>\n",
       "    </tr>\n",
       "  </tbody>\n",
       "</table>\n",
       "<p>3 rows × 24 columns</p>\n",
       "</div>"
      ],
      "text/plain": [
       "  Property ID     Property Type     Listing Type  Bedrooms Reporting Month  \\\n",
       "0   ab-295403  Entire apartment  Entire home/apt         2      2016-06-01   \n",
       "1   ab-295403  Entire apartment  Entire home/apt         2      2016-07-01   \n",
       "2   ab-295403  Entire apartment  Entire home/apt         2      2016-08-01   \n",
       "\n",
       "   Occupancy Rate  Revenue (USD)  Revenue (Native)  ADR (USD)  ADR (Native)  \\\n",
       "0             0.0            0.0               0.0        NaN           NaN   \n",
       "1             0.0            0.0               0.0        NaN           NaN   \n",
       "2             0.0            0.0               0.0        NaN           NaN   \n",
       "\n",
       "   ...  Country  State                  City   Latitude Longitude Active  \\\n",
       "0  ...    Spain    NaN  Guardamar del Segura  38.095559 -0.656122  False   \n",
       "1  ...    Spain    NaN  Guardamar del Segura  38.095559 -0.656122  False   \n",
       "2  ...    Spain    NaN  Guardamar del Segura  38.095559 -0.656122  False   \n",
       "\n",
       "  Scraped During Month  Currency Native  Airbnb Property ID  \\\n",
       "0                 True              EUR            295403.0   \n",
       "1                 True              EUR            295403.0   \n",
       "2                False              EUR            295403.0   \n",
       "\n",
       "   HomeAway Property Manager  \n",
       "0                        NaN  \n",
       "1                        NaN  \n",
       "2                        NaN  \n",
       "\n",
       "[3 rows x 24 columns]"
      ]
     },
     "execution_count": 2,
     "metadata": {},
     "output_type": "execute_result"
    }
   ],
   "source": [
    "path = os.path.join(os.getcwd(), 'data/processed_monthly.csv')\n",
    "\n",
    "df = pd.read_csv(path, sep=',', decimal='.')\n",
    "\n",
    "df.head(3)"
   ]
  },
  {
   "cell_type": "code",
   "execution_count": 3,
   "id": "abd5bda8",
   "metadata": {},
   "outputs": [
    {
     "name": "stdout",
     "output_type": "stream",
     "text": [
      "<class 'pandas.core.frame.DataFrame'>\n",
      "RangeIndex: 950448 entries, 0 to 950447\n",
      "Data columns (total 24 columns):\n",
      " #   Column                     Non-Null Count   Dtype  \n",
      "---  ------                     --------------   -----  \n",
      " 0   Property ID                950448 non-null  object \n",
      " 1   Property Type              950307 non-null  object \n",
      " 2   Listing Type               950400 non-null  object \n",
      " 3   Bedrooms                   950448 non-null  int64  \n",
      " 4   Reporting Month            950448 non-null  object \n",
      " 5   Occupancy Rate             950448 non-null  float64\n",
      " 6   Revenue (USD)              950448 non-null  float64\n",
      " 7   Revenue (Native)           713678 non-null  float64\n",
      " 8   ADR (USD)                  306907 non-null  float64\n",
      " 9   ADR (Native)               241112 non-null  float64\n",
      " 10  Number of Reservations     950448 non-null  int64  \n",
      " 11  Reservation Days           950448 non-null  int64  \n",
      " 12  Available Days             950448 non-null  int64  \n",
      " 13  Blocked Days               950448 non-null  int64  \n",
      " 14  Country                    950436 non-null  object \n",
      " 15  State                      898336 non-null  object \n",
      " 16  City                       950448 non-null  object \n",
      " 17  Latitude                   950448 non-null  float64\n",
      " 18  Longitude                  950448 non-null  float64\n",
      " 19  Active                     950448 non-null  bool   \n",
      " 20  Scraped During Month       950448 non-null  bool   \n",
      " 21  Currency Native            713678 non-null  object \n",
      " 22  Airbnb Property ID         713690 non-null  float64\n",
      " 23  HomeAway Property Manager  29844 non-null   object \n",
      "dtypes: bool(2), float64(8), int64(5), object(9)\n",
      "memory usage: 161.3+ MB\n"
     ]
    }
   ],
   "source": [
    "df.info()"
   ]
  },
  {
   "cell_type": "code",
   "execution_count": 4,
   "id": "06ee4fd4",
   "metadata": {},
   "outputs": [
    {
     "name": "stdout",
     "output_type": "stream",
     "text": [
      "Número de líneas duplicadas: 0\n",
      "Valores nulos: 3036092\n"
     ]
    }
   ],
   "source": [
    "# Analisis de nulos\n",
    "num_duplicated = df.duplicated().sum()\n",
    "print(f'Número de líneas duplicadas: {num_duplicated}')\n",
    "\n",
    "num_nulls = df.isnull().sum().sum()\n",
    "print(f'Valores nulos: {num_nulls}')"
   ]
  },
  {
   "cell_type": "code",
   "execution_count": 5,
   "id": "c138709e",
   "metadata": {},
   "outputs": [
    {
     "data": {
      "text/plain": [
       "HomeAway Property Manager    920604\n",
       "ADR (Native)                 709336\n",
       "ADR (USD)                    643541\n",
       "Revenue (Native)             236770\n",
       "Currency Native              236770\n",
       "Airbnb Property ID           236758\n",
       "State                         52112\n",
       "Property Type                   141\n",
       "Listing Type                     48\n",
       "Country                          12\n",
       "Revenue (USD)                     0\n",
       "Bedrooms                          0\n",
       "Property ID                       0\n",
       "Occupancy Rate                    0\n",
       "Reporting Month                   0\n",
       "Reservation Days                  0\n",
       "Available Days                    0\n",
       "Blocked Days                      0\n",
       "Number of Reservations            0\n",
       "City                              0\n",
       "Active                            0\n",
       "Longitude                         0\n",
       "Latitude                          0\n",
       "Scraped During Month              0\n",
       "dtype: int64"
      ]
     },
     "execution_count": 5,
     "metadata": {},
     "output_type": "execute_result"
    }
   ],
   "source": [
    "df.isnull().sum().sort_values(ascending=False)"
   ]
  },
  {
   "cell_type": "markdown",
   "id": "0880d59c",
   "metadata": {},
   "source": [
    "Eliminamos las columnas de HomeAway, ADR"
   ]
  },
  {
   "cell_type": "code",
   "execution_count": 6,
   "id": "ec2e2227",
   "metadata": {},
   "outputs": [],
   "source": [
    "df = df.drop(columns=['HomeAway Property Manager', 'ADR (Native)', 'ADR (USD)'])"
   ]
  },
  {
   "cell_type": "markdown",
   "id": "4b35fb23",
   "metadata": {},
   "source": [
    "## Funciones auxiliares"
   ]
  },
  {
   "cell_type": "code",
   "execution_count": 7,
   "id": "9306c92b",
   "metadata": {},
   "outputs": [],
   "source": [
    "def graficos_eda_categoricos(cat):\n",
    "\n",
    "    #Calculamos el número de filas que necesitamos\n",
    "    filas = ceil(cat.shape[1] / 2)\n",
    "\n",
    "    #Definimos el gráfico\n",
    "    f, ax = plt.subplots(nrows = filas, ncols = 2, figsize = (16, filas * 6))\n",
    "\n",
    "    #Aplanamos para iterar por el gráfico como si fuera de 1 dimensión en lugar de 2\n",
    "    ax = ax.flat\n",
    "\n",
    "    #Creamos el bucle que va añadiendo gráficos\n",
    "    for cada, variable in enumerate(cat):\n",
    "        cat[variable].value_counts().plot.barh(ax = ax[cada])\n",
    "        ax[cada].set_title(variable, fontsize = 12, fontweight = \"bold\")\n",
    "        ax[cada].tick_params(labelsize = 12)\n",
    "\n",
    "\n",
    "def estadisticos_cont(num):\n",
    "    #Calculamos describe\n",
    "    estadisticos = num.describe().T\n",
    "    #Añadimos la mediana\n",
    "    estadisticos['median'] = num.median()\n",
    "    #Reordenamos para que la mediana esté al lado de la media\n",
    "    estadisticos = estadisticos.iloc[:,[0,1,8,2,3,4,5,6,7]]\n",
    "    #Lo devolvemos\n",
    "    return(estadisticos)"
   ]
  },
  {
   "cell_type": "markdown",
   "id": "9d21e9a5",
   "metadata": {},
   "source": [
    "## Análisis Exploratorio (EDA)"
   ]
  },
  {
   "cell_type": "code",
   "execution_count": 9,
   "id": "a9289d7d",
   "metadata": {},
   "outputs": [
    {
     "data": {
      "image/png": "[encoded data removed]",
      "text/plain": [
       "<Figure size 1600x600 with 2 Axes>"
      ]
     },
     "metadata": {},
     "output_type": "display_data"
    }
   ],
   "source": [
    "graficos_eda_categoricos(df[['City', 'Active']])"
   ]
  },
  {
   "cell_type": "code",
   "execution_count": 10,
   "id": "a17a73f8",
   "metadata": {},
   "outputs": [
    {
     "data": {
      "application/vnd.microsoft.datawrangler.viewer.v0+json": {
       "columns": [
        {
         "name": "index",
         "rawType": "object",
         "type": "string"
        },
        {
         "name": "count",
         "rawType": "float64",
         "type": "float"
        },
        {
         "name": "mean",
         "rawType": "float64",
         "type": "float"
        },
        {
         "name": "median",
         "rawType": "float64",
         "type": "float"
        },
        {
         "name": "std",
         "rawType": "float64",
         "type": "float"
        },
        {
         "name": "min",
         "rawType": "float64",
         "type": "float"
        },
        {
         "name": "25%",
         "rawType": "float64",
         "type": "float"
        },
        {
         "name": "50%",
         "rawType": "float64",
         "type": "float"
        },
        {
         "name": "75%",
         "rawType": "float64",
         "type": "float"
        },
        {
         "name": "max",
         "rawType": "float64",
         "type": "float"
        }
       ],
       "conversionMethod": "pd.DataFrame",
       "ref": "2bb392f0-e5f7-46e7-944f-0ee656ed723d",
       "rows": [
        [
         "Bedrooms",
         "950448.0",
         "2.159897227412757",
         "2.0",
         "0.9727750789559297",
         "0.0",
         "2.0",
         "2.0",
         "3.0",
         "23.0"
        ],
        [
         "Occupancy Rate",
         "950448.0",
         "0.19377478620608388",
         "0.0",
         "0.3359623089249078",
         "0.0",
         "0.0",
         "0.0",
         "0.273",
         "1.0"
        ],
        [
         "Reservation Days",
         "950448.0",
         "3.9813056579634023",
         "0.0",
         "7.701028374890889",
         "0.0",
         "0.0",
         "0.0",
         "4.0",
         "31.0"
        ],
        [
         "Available Days",
         "950448.0",
         "15.866805969395486",
         "17.0",
         "13.330054086518702",
         "0.0",
         "0.0",
         "17.0",
         "30.0",
         "31.0"
        ],
        [
         "Blocked Days",
         "950448.0",
         "9.92773513122233",
         "0.0",
         "13.090531722402561",
         "0.0",
         "0.0",
         "0.0",
         "27.0",
         "31.0"
        ],
        [
         "Number of Reservations",
         "950448.0",
         "0.8645123141928859",
         "0.0",
         "1.771497116606716",
         "0.0",
         "0.0",
         "0.0",
         "1.0",
         "30.0"
        ],
        [
         "Revenue (Native)",
         "713678.0",
         "372.6771577097796",
         "0.0",
         "966.3171046829058",
         "0.0",
         "0.0",
         "0.0",
         "325.11",
         "118097.79"
        ]
       ],
       "shape": {
        "columns": 9,
        "rows": 7
       }
      },
      "text/html": [
       "<div>\n",
       "<style scoped>\n",
       "    .dataframe tbody tr th:only-of-type {\n",
       "        vertical-align: middle;\n",
       "    }\n",
       "\n",
       "    .dataframe tbody tr th {\n",
       "        vertical-align: top;\n",
       "    }\n",
       "\n",
       "    .dataframe thead th {\n",
       "        text-align: right;\n",
       "    }\n",
       "</style>\n",
       "<table border=\"1\" class=\"dataframe\">\n",
       "  <thead>\n",
       "    <tr style=\"text-align: right;\">\n",
       "      <th></th>\n",
       "      <th>count</th>\n",
       "      <th>mean</th>\n",
       "      <th>median</th>\n",
       "      <th>std</th>\n",
       "      <th>min</th>\n",
       "      <th>25%</th>\n",
       "      <th>50%</th>\n",
       "      <th>75%</th>\n",
       "      <th>max</th>\n",
       "    </tr>\n",
       "  </thead>\n",
       "  <tbody>\n",
       "    <tr>\n",
       "      <th>Bedrooms</th>\n",
       "      <td>950448.0</td>\n",
       "      <td>2.159897</td>\n",
       "      <td>2.0</td>\n",
       "      <td>0.972775</td>\n",
       "      <td>0.0</td>\n",
       "      <td>2.0</td>\n",
       "      <td>2.0</td>\n",
       "      <td>3.000</td>\n",
       "      <td>23.00</td>\n",
       "    </tr>\n",
       "    <tr>\n",
       "      <th>Occupancy Rate</th>\n",
       "      <td>950448.0</td>\n",
       "      <td>0.193775</td>\n",
       "      <td>0.0</td>\n",
       "      <td>0.335962</td>\n",
       "      <td>0.0</td>\n",
       "      <td>0.0</td>\n",
       "      <td>0.0</td>\n",
       "      <td>0.273</td>\n",
       "      <td>1.00</td>\n",
       "    </tr>\n",
       "    <tr>\n",
       "      <th>Reservation Days</th>\n",
       "      <td>950448.0</td>\n",
       "      <td>3.981306</td>\n",
       "      <td>0.0</td>\n",
       "      <td>7.701028</td>\n",
       "      <td>0.0</td>\n",
       "      <td>0.0</td>\n",
       "      <td>0.0</td>\n",
       "      <td>4.000</td>\n",
       "      <td>31.00</td>\n",
       "    </tr>\n",
       "    <tr>\n",
       "      <th>Available Days</th>\n",
       "      <td>950448.0</td>\n",
       "      <td>15.866806</td>\n",
       "      <td>17.0</td>\n",
       "      <td>13.330054</td>\n",
       "      <td>0.0</td>\n",
       "      <td>0.0</td>\n",
       "      <td>17.0</td>\n",
       "      <td>30.000</td>\n",
       "      <td>31.00</td>\n",
       "    </tr>\n",
       "    <tr>\n",
       "      <th>Blocked Days</th>\n",
       "      <td>950448.0</td>\n",
       "      <td>9.927735</td>\n",
       "      <td>0.0</td>\n",
       "      <td>13.090532</td>\n",
       "      <td>0.0</td>\n",
       "      <td>0.0</td>\n",
       "      <td>0.0</td>\n",
       "      <td>27.000</td>\n",
       "      <td>31.00</td>\n",
       "    </tr>\n",
       "    <tr>\n",
       "      <th>Number of Reservations</th>\n",
       "      <td>950448.0</td>\n",
       "      <td>0.864512</td>\n",
       "      <td>0.0</td>\n",
       "      <td>1.771497</td>\n",
       "      <td>0.0</td>\n",
       "      <td>0.0</td>\n",
       "      <td>0.0</td>\n",
       "      <td>1.000</td>\n",
       "      <td>30.00</td>\n",
       "    </tr>\n",
       "    <tr>\n",
       "      <th>Revenue (Native)</th>\n",
       "      <td>713678.0</td>\n",
       "      <td>372.677158</td>\n",
       "      <td>0.0</td>\n",
       "      <td>966.317105</td>\n",
       "      <td>0.0</td>\n",
       "      <td>0.0</td>\n",
       "      <td>0.0</td>\n",
       "      <td>325.110</td>\n",
       "      <td>118097.79</td>\n",
       "    </tr>\n",
       "  </tbody>\n",
       "</table>\n",
       "</div>"
      ],
      "text/plain": [
       "                           count        mean  median         std  min  25%  \\\n",
       "Bedrooms                950448.0    2.159897     2.0    0.972775  0.0  2.0   \n",
       "Occupancy Rate          950448.0    0.193775     0.0    0.335962  0.0  0.0   \n",
       "Reservation Days        950448.0    3.981306     0.0    7.701028  0.0  0.0   \n",
       "Available Days          950448.0   15.866806    17.0   13.330054  0.0  0.0   \n",
       "Blocked Days            950448.0    9.927735     0.0   13.090532  0.0  0.0   \n",
       "Number of Reservations  950448.0    0.864512     0.0    1.771497  0.0  0.0   \n",
       "Revenue (Native)        713678.0  372.677158     0.0  966.317105  0.0  0.0   \n",
       "\n",
       "                         50%      75%        max  \n",
       "Bedrooms                 2.0    3.000      23.00  \n",
       "Occupancy Rate           0.0    0.273       1.00  \n",
       "Reservation Days         0.0    4.000      31.00  \n",
       "Available Days          17.0   30.000      31.00  \n",
       "Blocked Days             0.0   27.000      31.00  \n",
       "Number of Reservations   0.0    1.000      30.00  \n",
       "Revenue (Native)         0.0  325.110  118097.79  "
      ]
     },
     "execution_count": 10,
     "metadata": {},
     "output_type": "execute_result"
    }
   ],
   "source": [
    "estadisticos_cont(df[['Bedrooms', 'Occupancy Rate', 'Reservation Days', 'Available Days', 'Blocked Days', 'Number of Reservations', 'Revenue (Native)']])"
   ]
  }
 ],
 "metadata": {
  "kernelspec": {
   "display_name": "prvd",
   "language": "python",
   "name": "python3"
  },
  "language_info": {
   "codemirror_mode": {
    "name": "ipython",
    "version": 3
   },
   "file_extension": ".py",
   "mimetype": "text/x-python",
   "name": "python",
   "nbconvert_exporter": "python",
   "pygments_lexer": "ipython3",
   "version": "3.13.1"
  }
 },
 "nbformat": 4,
 "nbformat_minor": 5
}
