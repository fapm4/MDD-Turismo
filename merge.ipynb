{
 "cells": [
  {
   "cell_type": "markdown",
   "metadata": {},
   "source": [
    "Junta todos los datasets de todos los municipios"
   ]
  },
  {
   "cell_type": "code",
   "execution_count": 1,
   "metadata": {},
   "outputs": [],
   "source": [
    "import pandas as pd\n",
    "import os"
   ]
  },
  {
   "cell_type": "code",
   "execution_count": 2,
   "metadata": {},
   "outputs": [],
   "source": [
    "carpetas = [\n",
    "    'Guardamar',\n",
    "    'Montesinos',\n",
    "    'Orihuela',\n",
    "    'Pilar',\n",
    "    'Rojales',\n",
    "    'San Miguel',\n",
    "    'Torrevieja'\n",
    "]"
   ]
  },
  {
   "cell_type": "code",
   "execution_count": 3,
   "metadata": {},
   "outputs": [],
   "source": [
    "data_path = os.path.join(os.getcwd(), 'data')"
   ]
  },
  {
   "cell_type": "code",
   "execution_count": 8,
   "metadata": {},
   "outputs": [
    {
     "name": "stdout",
     "output_type": "stream",
     "text": [
      "\n",
      "**************\n",
      "Combinando datos de Guardamar\n",
      "Número de filas en extended: 2196\n"
     ]
    },
    {
     "name": "stderr",
     "output_type": "stream",
     "text": [
      "C:\\Users\\Usuario\\AppData\\Local\\Temp\\ipykernel_11140\\938141055.py:11: DtypeWarning: Columns (24) have mixed types. Specify dtype option on import or set low_memory=False.\n",
      "  monthly = pd.read_csv(os.path.join(data_path, carpeta, 'monthly.csv'))\n"
     ]
    },
    {
     "name": "stdout",
     "output_type": "stream",
     "text": [
      "Número de filas en monthly: 67746\n",
      "\n",
      "**************\n",
      "Combinando datos de Montesinos\n",
      "Número de filas en extended: 131\n",
      "Número de filas en monthly: 3838\n",
      "\n",
      "**************\n",
      "Combinando datos de Orihuela\n"
     ]
    },
    {
     "name": "stderr",
     "output_type": "stream",
     "text": [
      "C:\\Users\\Usuario\\AppData\\Local\\Temp\\ipykernel_11140\\938141055.py:7: DtypeWarning: Columns (4,12,25,26,38,39,48,59,63,65) have mixed types. Specify dtype option on import or set low_memory=False.\n",
      "  extended = pd.read_csv(os.path.join(data_path, carpeta, 'extended.csv'))\n"
     ]
    },
    {
     "name": "stdout",
     "output_type": "stream",
     "text": [
      "Número de filas en extended: 9807\n"
     ]
    },
    {
     "name": "stderr",
     "output_type": "stream",
     "text": [
      "C:\\Users\\Usuario\\AppData\\Local\\Temp\\ipykernel_11140\\938141055.py:11: DtypeWarning: Columns (24,28) have mixed types. Specify dtype option on import or set low_memory=False.\n",
      "  monthly = pd.read_csv(os.path.join(data_path, carpeta, 'monthly.csv'))\n"
     ]
    },
    {
     "name": "stdout",
     "output_type": "stream",
     "text": [
      "Número de filas en monthly: 313566\n",
      "\n",
      "**************\n",
      "Combinando datos de Pilar\n",
      "Número de filas en extended: 1584\n",
      "Número de filas en monthly: 49557\n",
      "\n",
      "**************\n",
      "Combinando datos de Rojales\n",
      "Número de filas en extended: 1630\n",
      "Número de filas en monthly: 51275\n",
      "\n",
      "**************\n",
      "Combinando datos de San Miguel\n",
      "Número de filas en extended: 421\n",
      "Número de filas en monthly: 13525\n",
      "\n",
      "**************\n",
      "Combinando datos de Torrevieja\n"
     ]
    },
    {
     "name": "stderr",
     "output_type": "stream",
     "text": [
      "C:\\Users\\Usuario\\AppData\\Local\\Temp\\ipykernel_11140\\938141055.py:7: DtypeWarning: Columns (51,59,60,62) have mixed types. Specify dtype option on import or set low_memory=False.\n",
      "  extended = pd.read_csv(os.path.join(data_path, carpeta, 'extended.csv'))\n"
     ]
    },
    {
     "name": "stdout",
     "output_type": "stream",
     "text": [
      "Número de filas en extended: 16196\n",
      "Número de filas en monthly: 450941\n"
     ]
    },
    {
     "name": "stderr",
     "output_type": "stream",
     "text": [
      "C:\\Users\\Usuario\\AppData\\Local\\Temp\\ipykernel_11140\\938141055.py:11: DtypeWarning: Columns (24,28) have mixed types. Specify dtype option on import or set low_memory=False.\n",
      "  monthly = pd.read_csv(os.path.join(data_path, carpeta, 'monthly.csv'))\n"
     ]
    }
   ],
   "source": [
    "df_extended = pd.DataFrame()\n",
    "df_monthly = pd.DataFrame()\n",
    "\n",
    "for carpeta in carpetas:\n",
    "    print(f\"\\n**************\")\n",
    "    print(f\"Combinando datos de {carpeta}\")\n",
    "    extended = pd.read_csv(os.path.join(data_path, carpeta, 'extended.csv'))\n",
    "    print(f\"Número de filas en extended: {len(extended)}\")\n",
    "    df_extended = pd.concat([df_extended, extended])\n",
    "\n",
    "    monthly = pd.read_csv(os.path.join(data_path, carpeta, 'monthly.csv'))\n",
    "    print(f\"Número de filas en monthly: {len(monthly)}\")\n",
    "    df_monthly = pd.concat([df_monthly, monthly])\n",
    "\n",
    "\n"
   ]
  },
  {
   "cell_type": "code",
   "execution_count": null,
   "metadata": {},
   "outputs": [
    {
     "name": "stdout",
     "output_type": "stream",
     "text": [
      "Número de filas en df_extended: 31965\n",
      "Número de filas en df_monthly: 950448\n"
     ]
    }
   ],
   "source": [
    "print(f\"Número de filas en df_extended: {len(df_extended)}\")\n",
    "print(f\"Número de filas en df_monthly: {len(df_monthly)}\")\n",
    "\n",
    "df_extended.to_csv(os.path.join(data_path, 'extended.csv'), index=False)\n",
    "df_monthly.to_csv(os.path.join(data_path, 'monthly.csv'), index=False)"
   ]
  },
  {
   "cell_type": "code",
   "execution_count": null,
   "metadata": {},
   "outputs": [
    {
     "name": "stdout",
     "output_type": "stream",
     "text": [
      "Filas nulas en df_extended: Property ID                         0\n",
      "Listing Title                       6\n",
      "Property Type                      10\n",
      "Listing Type                        4\n",
      "Created Date                     6121\n",
      "                                ...  \n",
      "License                         25907\n",
      "Airbnb Property ID               6121\n",
      "Airbnb Host ID                   6125\n",
      "HomeAway Property ID            22180\n",
      "HomeAway Property Manager ID    31159\n",
      "Length: 70, dtype: int64\n"
     ]
    }
   ],
   "source": [
    "# print(f\"Filas nulas en df_extended: {df_extended.isnull().sum()}\")\n",
    "# print(df_monthly.isnull().sum())"
   ]
  }
 ],
 "metadata": {
  "kernelspec": {
   "display_name": "Python 3",
   "language": "python",
   "name": "python3"
  },
  "language_info": {
   "codemirror_mode": {
    "name": "ipython",
    "version": 3
   },
   "file_extension": ".py",
   "mimetype": "text/x-python",
   "name": "python",
   "nbconvert_exporter": "python",
   "pygments_lexer": "ipython3",
   "version": "3.12.4"
  }
 },
 "nbformat": 4,
 "nbformat_minor": 2
}
